{
 "cells": [
  {
   "cell_type": "code",
   "execution_count": 19,
   "metadata": {},
   "outputs": [
    {
     "name": "stdout",
     "output_type": "stream",
     "text": [
      "[0, 1, 0, 0, 1, 0]\n",
      "[0, 0, 1, 0]\n",
      "[0, 1, 0]\n",
      "[0]\n",
      "4\n"
     ]
    }
   ],
   "source": [
    "c = [0, 0, 1, 0, 0, 1, 0]\n",
    "numberOfJumps,i = 0, 0\n",
    "while i < len(c) - 1:\n",
    "    if i + 2 < len(c) and c[i+2] != 1:\n",
    "        i += 1\n",
    "    numberOfJumps += 1\n",
    "    i += 1\n",
    "    print(c[i:])\n",
    "print(numberOfJumps)"
   ]
  },
  {
   "cell_type": "code",
   "execution_count": null,
   "metadata": {},
   "outputs": [],
   "source": []
  }
 ],
 "metadata": {
  "kernelspec": {
   "display_name": "Python 3",
   "language": "python",
   "name": "python3"
  },
  "language_info": {
   "codemirror_mode": {
    "name": "ipython",
    "version": 3
   },
   "file_extension": ".py",
   "mimetype": "text/x-python",
   "name": "python",
   "nbconvert_exporter": "python",
   "pygments_lexer": "ipython3",
   "version": "3.6.5"
  }
 },
 "nbformat": 4,
 "nbformat_minor": 2
}
