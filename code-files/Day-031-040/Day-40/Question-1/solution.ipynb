{
 "cells": [
  {
   "cell_type": "code",
   "execution_count": 14,
   "metadata": {},
   "outputs": [
    {
     "data": {
      "text/plain": [
       "20"
      ]
     },
     "execution_count": 14,
     "metadata": {},
     "output_type": "execute_result"
    }
   ],
   "source": [
    "def taumBday(b, w, bc, wc, z):\n",
    "    if bc == wc:\n",
    "        return ((b*bc)+w*wc)\n",
    "    elif bc > wc + z:\n",
    "        #print(\"BC\")\n",
    "        return ((w*wc)+(b*(wc+z)))\n",
    "    elif wc > bc + z:\n",
    "        #print(\"WC\")\n",
    "        return ((b*bc)+(w*(bc+z)))\n",
    "    else:\n",
    "        #print(\"here\")\n",
    "        return ((b*bc)+w*wc)\n",
    "\n",
    "taumBday(10,10,1,1,1)"
   ]
  },
  {
   "cell_type": "code",
   "execution_count": null,
   "metadata": {},
   "outputs": [],
   "source": []
  }
 ],
 "metadata": {
  "kernelspec": {
   "display_name": "Python 3",
   "language": "python",
   "name": "python3"
  },
  "language_info": {
   "codemirror_mode": {
    "name": "ipython",
    "version": 3
   },
   "file_extension": ".py",
   "mimetype": "text/x-python",
   "name": "python",
   "nbconvert_exporter": "python",
   "pygments_lexer": "ipython3",
   "version": "3.6.5"
  }
 },
 "nbformat": 4,
 "nbformat_minor": 2
}
