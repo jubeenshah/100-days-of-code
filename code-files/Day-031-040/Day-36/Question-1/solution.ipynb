{
 "cells": [
  {
   "cell_type": "code",
   "execution_count": 2,
   "metadata": {},
   "outputs": [],
   "source": [
    "import cmath"
   ]
  },
  {
   "cell_type": "code",
   "execution_count": 4,
   "metadata": {},
   "outputs": [
    {
     "data": {
      "text/plain": [
       "1.1071487177940904"
      ]
     },
     "execution_count": 4,
     "metadata": {},
     "output_type": "execute_result"
    }
   ],
   "source": [
    "cmath.phase(complex(1,2))"
   ]
  },
  {
   "cell_type": "code",
   "execution_count": 5,
   "metadata": {},
   "outputs": [
    {
     "data": {
      "text/plain": [
       "2.23606797749979"
      ]
     },
     "execution_count": 5,
     "metadata": {},
     "output_type": "execute_result"
    }
   ],
   "source": [
    "abs(complex(1,2))"
   ]
  },
  {
   "cell_type": "code",
   "execution_count": 34,
   "metadata": {},
   "outputs": [
    {
     "name": "stdout",
     "output_type": "stream",
     "text": [
      "1-1j\n",
      "['1', '1j']\n",
      "1 -1\n",
      "1.4142135623730951\n",
      "-0.7853981633974483\n"
     ]
    }
   ],
   "source": [
    "complexInput = input()\n",
    "isNegative = False\n",
    "yNegative = False\n",
    "if '+' in complexInput:\n",
    "    #print(\"True\")\n",
    "    complexInput = complexInput.split('+')\n",
    "    #print(complexInput)\n",
    "if complexInput[0] == '-':\n",
    "    isNegative = True\n",
    "if '-' in complexInput:\n",
    "    yNegative = True\n",
    "    complexInput = complexInput.split('-')\n",
    "    try:\n",
    "        complexInput.remove('')\n",
    "    except:\n",
    "        pass\n",
    "    print(complexInput)\n",
    "xValue,yValue = int(complexInput[0]),int(complexInput[1].split('j')[0])\n",
    "#print(xValue, yValue)\n",
    "if isNegative:\n",
    "    xValue *= -1\n",
    "if yNegative:\n",
    "    yValue *= -1\n",
    "print(xValue,yValue)\n",
    "printPoloarCoordinates(xValue,yValue)"
   ]
  },
  {
   "cell_type": "code",
   "execution_count": 12,
   "metadata": {},
   "outputs": [],
   "source": [
    "def printPoloarCoordinates(x,y):\n",
    "    print(abs(complex(x,y)))\n",
    "    print(cmath.phase(complex(x,y)))"
   ]
  },
  {
   "cell_type": "code",
   "execution_count": 25,
   "metadata": {},
   "outputs": [
    {
     "name": "stdout",
     "output_type": "stream",
     "text": [
      "-1.7681918866447774\n"
     ]
    }
   ],
   "source": [
    "print(cmath.phase(complex(-1,-5)))"
   ]
  },
  {
   "cell_type": "code",
   "execution_count": null,
   "metadata": {},
   "outputs": [],
   "source": []
  }
 ],
 "metadata": {
  "kernelspec": {
   "display_name": "Python 3",
   "language": "python",
   "name": "python3"
  },
  "language_info": {
   "codemirror_mode": {
    "name": "ipython",
    "version": 3
   },
   "file_extension": ".py",
   "mimetype": "text/x-python",
   "name": "python",
   "nbconvert_exporter": "python",
   "pygments_lexer": "ipython3",
   "version": "3.6.5"
  }
 },
 "nbformat": 4,
 "nbformat_minor": 2
}
