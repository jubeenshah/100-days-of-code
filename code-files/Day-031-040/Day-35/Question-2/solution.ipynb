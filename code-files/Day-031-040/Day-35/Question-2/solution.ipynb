{
 "cells": [
  {
   "cell_type": "code",
   "execution_count": 67,
   "metadata": {},
   "outputs": [
    {
     "data": {
      "text/plain": [
       "'XHDNK'"
      ]
     },
     "execution_count": 67,
     "metadata": {},
     "output_type": "execute_result"
    }
   ],
   "source": [
    "def excelCollumnName(num:int)->str:\n",
    "    capitals = [chr(x) for x in range(ord('A'), ord('Z')+1)]\n",
    "    result = []\n",
    "    while num > 0:\n",
    "        result.append(capitals[(num-1)%26])\n",
    "        num = (num-1) // 26\n",
    "    result.reverse()\n",
    "    return ''.join(result)\n",
    "\n",
    "excelCollumnName(11111111)"
   ]
  },
  {
   "cell_type": "code",
   "execution_count": 85,
   "metadata": {},
   "outputs": [
    {
     "name": "stdout",
     "output_type": "stream",
     "text": [
      "3798670466286799 O\n",
      "146102710241799 Y\n",
      "5619335009299 Y\n",
      "216128269588 K\n",
      "8312625753 J\n",
      "319716375 C\n",
      "12296783 Q\n",
      "472953 E\n",
      "18190 M\n",
      "699 P\n",
      "26 W\n",
      "0 Z\n"
     ]
    },
    {
     "data": {
      "text/plain": [
       "'ZWPMEQCJKYYO'"
      ]
     },
     "execution_count": 85,
     "metadata": {},
     "output_type": "execute_result"
    }
   ],
   "source": [
    "def excelCollumnName(n:int)->str:\n",
    "    dictOfChar = {i-65:chr(i) for i in range(65,91)}\n",
    "    strToReturn = \"\"\n",
    "    while n > 0:\n",
    "        char = dictOfChar[(n-1)%26]\n",
    "        n = (n-1) // 26\n",
    "        print(n,char)\n",
    "        strToReturn += char\n",
    "        \n",
    "    return strToReturn[::-1]\n",
    "\n",
    "excelCollumnName(98765432123456789)"
   ]
  },
  {
   "cell_type": "code",
   "execution_count": 5,
   "metadata": {},
   "outputs": [
    {
     "data": {
      "text/plain": [
       "90"
      ]
     },
     "execution_count": 5,
     "metadata": {},
     "output_type": "execute_result"
    }
   ],
   "source": [
    "ord('Z')"
   ]
  },
  {
   "cell_type": "code",
   "execution_count": 44,
   "metadata": {},
   "outputs": [
    {
     "data": {
      "text/plain": [
       "26"
      ]
     },
     "execution_count": 44,
     "metadata": {},
     "output_type": "execute_result"
    }
   ],
   "source": [
    "702 // 26"
   ]
  },
  {
   "cell_type": "code",
   "execution_count": 48,
   "metadata": {},
   "outputs": [
    {
     "data": {
      "text/plain": [
       "0"
      ]
     },
     "execution_count": 48,
     "metadata": {},
     "output_type": "execute_result"
    }
   ],
   "source": [
    "702 % 26"
   ]
  },
  {
   "cell_type": "code",
   "execution_count": null,
   "metadata": {},
   "outputs": [],
   "source": []
  }
 ],
 "metadata": {
  "kernelspec": {
   "display_name": "Python 3",
   "language": "python",
   "name": "python3"
  },
  "language_info": {
   "codemirror_mode": {
    "name": "ipython",
    "version": 3
   },
   "file_extension": ".py",
   "mimetype": "text/x-python",
   "name": "python",
   "nbconvert_exporter": "python",
   "pygments_lexer": "ipython3",
   "version": "3.6.5"
  }
 },
 "nbformat": 4,
 "nbformat_minor": 2
}
