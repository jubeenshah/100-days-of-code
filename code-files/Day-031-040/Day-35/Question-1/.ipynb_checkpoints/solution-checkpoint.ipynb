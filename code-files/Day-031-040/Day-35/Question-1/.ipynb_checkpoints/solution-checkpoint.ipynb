{
 "cells": [
  {
   "cell_type": "code",
   "execution_count": 46,
   "metadata": {},
   "outputs": [
    {
     "name": "stdout",
     "output_type": "stream",
     "text": [
      "{1: 100, 2: 100} 2 100\n"
     ]
    },
    {
     "data": {
      "text/plain": [
       "100"
      ]
     },
     "execution_count": 46,
     "metadata": {},
     "output_type": "execute_result"
    }
   ],
   "source": [
    "def equalizeArray(arr):\n",
    "    if not arr:\n",
    "        return 0\n",
    "    dictOfArray = {x:0 for x in arr}\n",
    "    for eachElement in arr:\n",
    "        dictOfArray[eachElement] += 1\n",
    "    dictOfArray = (sorted(dictOfArray.items(), key=lambda lv: lv[1]))\n",
    "    maxElement,maxValue = dictOfArray[-1][0],dictOfArray[-1][1]\n",
    "    dictOfArray = dict(dictOfArray)\n",
    "    print(dictOfArray,maxElement,maxValue)\n",
    "    numberOfRemovals = 0\n",
    "    for element, value in dictOfArray.items():\n",
    "        #print(dictOfArray)\n",
    "        while dictOfArray[element] != 0:\n",
    "            #print(dictOfArray)\n",
    "            if value <= maxValue and element !=maxElement:\n",
    "                numberOfRemovals += 1\n",
    "                dictOfArray[element] -= 1\n",
    "                #print(element)\n",
    "            else:\n",
    "                break\n",
    "    return numberOfRemovals\n",
    "        \n",
    "\n",
    "equalizeArray([1,2]*100)"
   ]
  },
  {
   "cell_type": "code",
   "execution_count": 10,
   "metadata": {},
   "outputs": [],
   "source": []
  },
  {
   "cell_type": "code",
   "execution_count": null,
   "metadata": {},
   "outputs": [],
   "source": []
  }
 ],
 "metadata": {
  "kernelspec": {
   "display_name": "Python 3",
   "language": "python",
   "name": "python3"
  },
  "language_info": {
   "codemirror_mode": {
    "name": "ipython",
    "version": 3
   },
   "file_extension": ".py",
   "mimetype": "text/x-python",
   "name": "python",
   "nbconvert_exporter": "python",
   "pygments_lexer": "ipython3",
   "version": "3.6.5"
  }
 },
 "nbformat": 4,
 "nbformat_minor": 2
}
