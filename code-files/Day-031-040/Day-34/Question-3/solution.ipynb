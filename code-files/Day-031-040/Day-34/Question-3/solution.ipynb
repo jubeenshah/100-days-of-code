{
 "cells": [
  {
   "cell_type": "code",
   "execution_count": 17,
   "metadata": {},
   "outputs": [
    {
     "name": "stdout",
     "output_type": "stream",
     "text": [
      "19 10 29 1\n",
      "19 12 31 3\n",
      "19 10 29 1\n",
      "19 24 43 3\n",
      "19 25 44 0\n",
      "19 22 41 1\n",
      "10 12 22 2\n",
      "10 10 20 0\n",
      "10 24 34 2\n",
      "10 25 35 3\n",
      "10 22 32 0\n",
      "12 10 22 2\n",
      "12 24 36 0\n",
      "12 25 37 1\n",
      "12 22 34 2\n",
      "10 24 34 2\n",
      "10 25 35 3\n",
      "10 22 32 0\n",
      "24 25 49 1\n",
      "24 22 46 2\n",
      "25 22 47 3\n"
     ]
    },
    {
     "data": {
      "text/plain": [
       "[10, 12, 19, 24, 25]"
      ]
     },
     "execution_count": 17,
     "metadata": {},
     "output_type": "execute_result"
    }
   ],
   "source": [
    "#!/bin/python3\n",
    "\n",
    "import math\n",
    "import os\n",
    "import random\n",
    "import re\n",
    "import sys\n",
    "\n",
    "#\n",
    "# Complete the 'nonDivisibleSubset' function below.\n",
    "#\n",
    "# The function is expected to return an INTEGER.\n",
    "# The function accepts following parameters:\n",
    "#  1. INTEGER k\n",
    "#  2. INTEGER_ARRAY s\n",
    "#\n",
    "\n",
    "def nonDivisibleSubset(k, numbers):\n",
    "    counts = [0] * k\n",
    "    for number in numbers:\n",
    "        counts[number % k] += 1\n",
    "\n",
    "    count = min(counts[0], 1)\n",
    "    for i in range(1, k//2+1):\n",
    "        if i != k - i:\n",
    "            count += max(counts[i], counts[k-i])\n",
    "    if k % 2 == 0: \n",
    "        count += 1\n",
    "\n",
    "    return count\n",
    "\n",
    "if __name__ == '__main__':\n",
    "    fptr = open(os.environ['OUTPUT_PATH'], 'w')\n",
    "\n",
    "    first_multiple_input = input().rstrip().split()\n",
    "\n",
    "    n = int(first_multiple_input[0])\n",
    "\n",
    "    k = int(first_multiple_input[1])\n",
    "\n",
    "    s = list(map(int, input().rstrip().split()))\n",
    "\n",
    "    result = nonDivisibleSubset(k, s)\n",
    "\n",
    "    fptr.write(str(result) + '\\n')\n",
    "\n",
    "    fptr.close()\n"
   ]
  },
  {
   "cell_type": "code",
   "execution_count": 10,
   "metadata": {},
   "outputs": [
    {
     "data": {
      "text/plain": [
       "0"
      ]
     },
     "execution_count": 10,
     "metadata": {},
     "output_type": "execute_result"
    }
   ],
   "source": [
    "9%3"
   ]
  },
  {
   "cell_type": "code",
   "execution_count": null,
   "metadata": {},
   "outputs": [],
   "source": []
  }
 ],
 "metadata": {
  "kernelspec": {
   "display_name": "Python 3",
   "language": "python",
   "name": "python3"
  },
  "language_info": {
   "codemirror_mode": {
    "name": "ipython",
    "version": 3
   },
   "file_extension": ".py",
   "mimetype": "text/x-python",
   "name": "python",
   "nbconvert_exporter": "python",
   "pygments_lexer": "ipython3",
   "version": "3.6.5"
  }
 },
 "nbformat": 4,
 "nbformat_minor": 2
}
