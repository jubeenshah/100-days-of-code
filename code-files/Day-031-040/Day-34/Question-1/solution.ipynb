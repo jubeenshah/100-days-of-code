{
 "cells": [
  {
   "cell_type": "code",
   "execution_count": 44,
   "metadata": {},
   "outputs": [
    {
     "name": "stdout",
     "output_type": "stream",
     "text": [
      "0\n"
     ]
    }
   ],
   "source": [
    "def libraryFine(rd, rm, ry, ed, em, ey):\n",
    "    if (ry, rm, rd) <= (ey, em, ed):\n",
    "        return (0)\n",
    "    elif (ry, rm) == (ey, em):\n",
    "        return (15 * (rd - ed))\n",
    "    elif ry == ey:\n",
    "        return (500 * (rm - em))\n",
    "    else:\n",
    "        return (10000)\n",
    "\n",
    "            \n",
    "libraryFine(28,2,2015,15,4,2015)"
   ]
  },
  {
   "cell_type": "code",
   "execution_count": null,
   "metadata": {},
   "outputs": [],
   "source": []
  }
 ],
 "metadata": {
  "kernelspec": {
   "display_name": "Python 3",
   "language": "python",
   "name": "python3"
  },
  "language_info": {
   "codemirror_mode": {
    "name": "ipython",
    "version": 3
   },
   "file_extension": ".py",
   "mimetype": "text/x-python",
   "name": "python",
   "nbconvert_exporter": "python",
   "pygments_lexer": "ipython3",
   "version": "3.6.5"
  }
 },
 "nbformat": 4,
 "nbformat_minor": 2
}
