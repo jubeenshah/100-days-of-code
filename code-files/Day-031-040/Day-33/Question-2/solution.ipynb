{
 "cells": [
  {
   "cell_type": "code",
   "execution_count": 8,
   "metadata": {},
   "outputs": [
    {
     "data": {
      "text/plain": [
       "9855"
      ]
     },
     "execution_count": 8,
     "metadata": {},
     "output_type": "execute_result"
    }
   ],
   "source": [
    "import math\n",
    "def squares(a, b):\n",
    "    counter = 0\n",
    "    start = int(math.sqrt(a))\n",
    "    end = int(math.sqrt(b))\n",
    "    for i in range(start,end+1):\n",
    "        if i**2 >= a and i**2 <= b:\n",
    "            counter += 1\n",
    "    return counter\n",
    "\n",
    "squares(465868129, 988379794)"
   ]
  },
  {
   "cell_type": "code",
   "execution_count": null,
   "metadata": {},
   "outputs": [],
   "source": []
  }
 ],
 "metadata": {
  "kernelspec": {
   "display_name": "Python 3",
   "language": "python",
   "name": "python3"
  },
  "language_info": {
   "codemirror_mode": {
    "name": "ipython",
    "version": 3
   },
   "file_extension": ".py",
   "mimetype": "text/x-python",
   "name": "python",
   "nbconvert_exporter": "python",
   "pygments_lexer": "ipython3",
   "version": "3.6.5"
  }
 },
 "nbformat": 4,
 "nbformat_minor": 2
}
