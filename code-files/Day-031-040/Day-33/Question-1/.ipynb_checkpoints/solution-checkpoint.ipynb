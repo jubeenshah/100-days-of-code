{
 "cells": [
  {
   "cell_type": "code",
   "execution_count": 64,
   "metadata": {},
   "outputs": [
    {
     "data": {
      "text/plain": [
       "'Yes'"
      ]
     },
     "execution_count": 64,
     "metadata": {},
     "output_type": "execute_result"
    }
   ],
   "source": [
    "def appendAndDelete(s, t, k):\n",
    "    start = 0\n",
    "    if s == t and k>=len(s):\n",
    "        return 'Yes'\n",
    "    else:\n",
    "        for i,j in zip(s,t):\n",
    "            if i == j:\n",
    "                start += 1\n",
    "                continue\n",
    "            else:\n",
    "                break\n",
    "        if (len(t[start:]) == 0):\n",
    "            if len(s) + len(t) <= k:\n",
    "                return 'Yes'\n",
    "            else:\n",
    "                return 'No'\n",
    "        else:\n",
    "            if (len(s[start:])+len(t[start:]) <= k):\n",
    "                return \"Yes\"\n",
    "            else:\n",
    "                return \"No\"\n",
    "\n",
    "appendAndDelete(\"zzzzz\",\"zzzzzzz\",4)"
   ]
  },
  {
   "cell_type": "markdown",
   "metadata": {},
   "source": [
    "```\n",
    "hackerhappy 9\n",
    "hackerhapp  8\n",
    "hackerhap   7\n",
    "hackerha    6\n",
    "hackerh     5\n",
    "hacker      4\n",
    "hackerr     3\n",
    "hackerra    2\n",
    "hackerran   1\n",
    "hackerrank  0\n",
    "```"
   ]
  },
  {
   "cell_type": "code",
   "execution_count": 21,
   "metadata": {},
   "outputs": [
    {
     "data": {
      "text/plain": [
       "['hackerhappy']"
      ]
     },
     "execution_count": 21,
     "metadata": {},
     "output_type": "execute_result"
    }
   ],
   "source": [
    "testS1 = \"hackerhappy\"\n",
    "testS2 = \"hackerrank\"\n",
    "testS1."
   ]
  },
  {
   "cell_type": "code",
   "execution_count": null,
   "metadata": {},
   "outputs": [],
   "source": []
  }
 ],
 "metadata": {
  "kernelspec": {
   "display_name": "Python 3",
   "language": "python",
   "name": "python3"
  },
  "language_info": {
   "codemirror_mode": {
    "name": "ipython",
    "version": 3
   },
   "file_extension": ".py",
   "mimetype": "text/x-python",
   "name": "python",
   "nbconvert_exporter": "python",
   "pygments_lexer": "ipython3",
   "version": "3.6.5"
  }
 },
 "nbformat": 4,
 "nbformat_minor": 2
}
