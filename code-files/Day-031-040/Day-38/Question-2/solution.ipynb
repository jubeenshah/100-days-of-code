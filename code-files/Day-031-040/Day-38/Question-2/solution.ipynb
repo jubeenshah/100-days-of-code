{
 "cells": [
  {
   "cell_type": "code",
   "execution_count": 169,
   "metadata": {},
   "outputs": [
    {
     "data": {
      "text/plain": [
       "24696337"
      ]
     },
     "execution_count": 169,
     "metadata": {},
     "output_type": "execute_result"
    }
   ],
   "source": [
    "def titleToNumber(s: str) -> int:\n",
    "    returnValue = 0\n",
    "    for char in s:\n",
    "        returnValue = returnValue * 26 + ord(char)-ord('A')+1\n",
    "    return returnValue\n",
    "    \n",
    "\n",
    "titleToNumber(\"BBACAC\")"
   ]
  },
  {
   "cell_type": "code",
   "execution_count": 132,
   "metadata": {},
   "outputs": [
    {
     "data": {
      "text/plain": [
       "475254"
      ]
     },
     "execution_count": 132,
     "metadata": {},
     "output_type": "execute_result"
    }
   ],
   "source": [
    "26**1 + 26 ** 2 + 26 **3 + 26 **4"
   ]
  },
  {
   "cell_type": "code",
   "execution_count": 170,
   "metadata": {},
   "outputs": [
    {
     "data": {
      "text/plain": [
       "'BBACAC'"
      ]
     },
     "execution_count": 170,
     "metadata": {},
     "output_type": "execute_result"
    }
   ],
   "source": [
    "#AFZEC\n",
    "26 ** 1 + 26 ** 2\n",
    "test = 475254 + 26**3*5 + 26**2*25 + 26**1*4 + 3\n",
    "def excelCollumnName(n:int)->str:\n",
    "    dictOfChar = {i-65:chr(i) for i in range(65,91)}\n",
    "    strToReturn = \"\"\n",
    "    while n > 0:\n",
    "        char = dictOfChar[(n-1)%26]\n",
    "        n = (n-1) // 26\n",
    "        #print(n,char)\n",
    "        strToReturn += char\n",
    "        \n",
    "    return strToReturn[::-1]\n",
    "\n",
    "excelCollumnName(24696337)"
   ]
  },
  {
   "cell_type": "code",
   "execution_count": null,
   "metadata": {},
   "outputs": [],
   "source": []
  },
  {
   "cell_type": "code",
   "execution_count": null,
   "metadata": {},
   "outputs": [],
   "source": []
  }
 ],
 "metadata": {
  "kernelspec": {
   "display_name": "Python 3",
   "language": "python",
   "name": "python3"
  },
  "language_info": {
   "codemirror_mode": {
    "name": "ipython",
    "version": 3
   },
   "file_extension": ".py",
   "mimetype": "text/x-python",
   "name": "python",
   "nbconvert_exporter": "python",
   "pygments_lexer": "ipython3",
   "version": "3.6.5"
  }
 },
 "nbformat": 4,
 "nbformat_minor": 2
}
