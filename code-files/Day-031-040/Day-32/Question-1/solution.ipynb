{
 "cells": [
  {
   "cell_type": "code",
   "execution_count": null,
   "metadata": {},
   "outputs": [],
   "source": [
    "# Definition for a binary tree node.\n",
    "# class TreeNode(object):\n",
    "#     def __init__(self, x):\n",
    "#         self.val = x\n",
    "#         self.left = None\n",
    "#         self.right = None\n",
    "\n",
    "class Solution(object):\n",
    "    def levelOrderBottom(self, root):\n",
    "        \"\"\"\n",
    "        :type root: TreeNode\n",
    "        :rtype: List[List[int]]\n",
    "        \"\"\"\n",
    "        level = [root] if root else []\n",
    "        listToReturn = []\n",
    "        if not root:\n",
    "            return []\n",
    "        while level:\n",
    "            listToAppend = []\n",
    "            queue = []\n",
    "            for eachLevel in level:\n",
    "                if eachLevel.left:\n",
    "                    queue.append(eachLevel.left)\n",
    "                    listToAppend.append(eachLevel.left.val)\n",
    "                if eachLevel.right:\n",
    "                    queue.append(eachLevel.right)\n",
    "                    listToAppend.append(eachLevel.right.val)\n",
    "            listToReturn.append(listToAppend)\n",
    "            level = queue\n",
    "        listToReturn.pop()\n",
    "        listToReturn.insert(0,[root.val])\n",
    "        return (listToReturn[::-1])\n",
    "        #appendValues(root)\n",
    "        \n",
    "        \n",
    "        "
   ]
  }
 ],
 "metadata": {
  "kernelspec": {
   "display_name": "Python 3",
   "language": "python",
   "name": "python3"
  },
  "language_info": {
   "codemirror_mode": {
    "name": "ipython",
    "version": 3
   },
   "file_extension": ".py",
   "mimetype": "text/x-python",
   "name": "python",
   "nbconvert_exporter": "python",
   "pygments_lexer": "ipython3",
   "version": "3.6.5"
  }
 },
 "nbformat": 4,
 "nbformat_minor": 2
}
