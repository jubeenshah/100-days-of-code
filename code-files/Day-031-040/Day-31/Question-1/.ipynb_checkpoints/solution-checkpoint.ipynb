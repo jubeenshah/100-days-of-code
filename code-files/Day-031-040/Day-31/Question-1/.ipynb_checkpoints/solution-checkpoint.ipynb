{
 "cells": [
  {
   "cell_type": "code",
   "execution_count": 50,
   "metadata": {},
   "outputs": [
    {
     "name": "stdout",
     "output_type": "stream",
     "text": [
      "1 1 0 1 0 1 0 1 0 1 0 1 1 0 1 1 1 1 1\n"
     ]
    }
   ],
   "source": [
    "arrayOfClouds = list(map(int, input().rstrip().split()))"
   ]
  },
  {
   "cell_type": "code",
   "execution_count": 55,
   "metadata": {},
   "outputs": [
    {
     "data": {
      "text/plain": [
       "97"
      ]
     },
     "execution_count": 55,
     "metadata": {},
     "output_type": "execute_result"
    }
   ],
   "source": [
    "def jumpingOnClouds(arrayOfClouds:list,jumpValue:int,) -> int:\n",
    "    #print(jumpValue,arrayOfClouds)\n",
    "    startEnergy = 100\n",
    "    stopRunning = False\n",
    "    if jumpValue == len(arrayOfClouds):\n",
    "        startPoint = 0\n",
    "    else:\n",
    "        startPoint = jumpValue\n",
    "    while stopRunning != True:\n",
    "        if (arrayOfClouds[startPoint]) == 1:\n",
    "            startEnergy -= 2\n",
    "        startEnergy -= 1\n",
    "        if startPoint == 0:\n",
    "            break\n",
    "        #print(arrayOfClouds[startPoint],startEnergy)\n",
    "        startPoint += jumpValue\n",
    "        if startPoint >= len(arrayOfClouds):\n",
    "            startPoint = startPoint % len(arrayOfClouds)\n",
    "        else:\n",
    "            pass\n",
    "    return (startEnergy)\n",
    "\n",
    "jumpingOnClouds(arrayOfClouds,19)"
   ]
  },
  {
   "cell_type": "code",
   "execution_count": 54,
   "metadata": {},
   "outputs": [
    {
     "data": {
      "text/plain": [
       "19"
      ]
     },
     "execution_count": 54,
     "metadata": {},
     "output_type": "execute_result"
    }
   ],
   "source": [
    "len(arrayOfClouds)"
   ]
  },
  {
   "cell_type": "code",
   "execution_count": null,
   "metadata": {},
   "outputs": [],
   "source": []
  }
 ],
 "metadata": {
  "kernelspec": {
   "display_name": "Python 3",
   "language": "python",
   "name": "python3"
  },
  "language_info": {
   "codemirror_mode": {
    "name": "ipython",
    "version": 3
   },
   "file_extension": ".py",
   "mimetype": "text/x-python",
   "name": "python",
   "nbconvert_exporter": "python",
   "pygments_lexer": "ipython3",
   "version": "3.6.5"
  }
 },
 "nbformat": 4,
 "nbformat_minor": 2
}
