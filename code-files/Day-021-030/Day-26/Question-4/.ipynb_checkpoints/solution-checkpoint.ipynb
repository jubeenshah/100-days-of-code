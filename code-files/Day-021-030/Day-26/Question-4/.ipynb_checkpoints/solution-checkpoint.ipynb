{
 "cells": [
  {
   "cell_type": "code",
   "execution_count": 37,
   "metadata": {},
   "outputs": [
    {
     "data": {
      "text/plain": [
       "[[-1, -1, 2], [-1, 0, 1]]"
      ]
     },
     "execution_count": 37,
     "metadata": {},
     "output_type": "execute_result"
    }
   ],
   "source": [
    "def threeSum(nums: list):\n",
    "    nums.sort()\n",
    "    listToReturn = []\n",
    "    \n",
    "    for i in range(len(nums)-2):\n",
    "        if i > 0 and nums[i] == nums[i-1]:\n",
    "            continue\n",
    "        partialTarget = 0 - nums[i]\n",
    "        #print(partialTarget)\n",
    "        start = i + 1\n",
    "        end = len(nums) - 1\n",
    "        while start < end:\n",
    "            partialSum = nums[start] + nums[end]\n",
    "            if partialSum == partialTarget:\n",
    "                listToReturn.append([nums[i],nums[start],nums[end]])\n",
    "                while start < end and nums[start] == nums[start + 1]:\n",
    "                    start += 1\n",
    "                while start < end and nums[end] == nums[end-1]:\n",
    "                    end -= 1\n",
    "                start += 1\n",
    "                end -= 1\n",
    "            elif partialSum < partialTarget:\n",
    "                start += 1\n",
    "            else:\n",
    "                end -= 1\n",
    "    return listToReturn\n",
    "threeSum([-1, 0, 1, 2, -1, -4])"
   ]
  },
  {
   "cell_type": "code",
   "execution_count": null,
   "metadata": {},
   "outputs": [],
   "source": []
  }
 ],
 "metadata": {
  "kernelspec": {
   "display_name": "Python 3",
   "language": "python",
   "name": "python3"
  },
  "language_info": {
   "codemirror_mode": {
    "name": "ipython",
    "version": 3
   },
   "file_extension": ".py",
   "mimetype": "text/x-python",
   "name": "python",
   "nbconvert_exporter": "python",
   "pygments_lexer": "ipython3",
   "version": "3.6.5"
  }
 },
 "nbformat": 4,
 "nbformat_minor": 2
}
