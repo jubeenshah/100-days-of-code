{
 "cells": [
  {
   "cell_type": "code",
   "execution_count": 9,
   "metadata": {},
   "outputs": [
    {
     "name": "stdout",
     "output_type": "stream",
     "text": [
      "[-4, -1, 2, 9]\n",
      "-3\n",
      "4\n"
     ]
    },
    {
     "data": {
      "text/plain": [
       "4"
      ]
     },
     "execution_count": 9,
     "metadata": {},
     "output_type": "execute_result"
    }
   ],
   "source": [
    "def threeSumClosest(nums,target):\n",
    "    nums.sort()\n",
    "    print(nums)\n",
    "    returnVal = []\n",
    "    difference = sum(nums[:3])\n",
    "    print(difference)\n",
    "    for i in range(0, len(nums)):\n",
    "        j = i + 1\n",
    "        k = len(nums)-1\n",
    "        while(j<k):\n",
    "            sumOfThree = sum((nums[i], nums[j], nums[k]))\n",
    "            if abs(sumOfThree-target) < abs(difference - target):\n",
    "                difference = sumOfThree\n",
    "                print(difference)\n",
    "            if sumOfThree < target:\n",
    "                j = j + 1\n",
    "            elif sumOfThree > target:\n",
    "                k = k - 1\n",
    "            else:\n",
    "                return difference\n",
    "    return difference\n",
    "        \n",
    "\n",
    "threeSumClosest([-1, 2, 9, -4],1)"
   ]
  },
  {
   "cell_type": "code",
   "execution_count": null,
   "metadata": {},
   "outputs": [],
   "source": []
  }
 ],
 "metadata": {
  "kernelspec": {
   "display_name": "Python 3",
   "language": "python",
   "name": "python3"
  },
  "language_info": {
   "codemirror_mode": {
    "name": "ipython",
    "version": 3
   },
   "file_extension": ".py",
   "mimetype": "text/x-python",
   "name": "python",
   "nbconvert_exporter": "python",
   "pygments_lexer": "ipython3",
   "version": "3.6.5"
  }
 },
 "nbformat": 4,
 "nbformat_minor": 2
}
