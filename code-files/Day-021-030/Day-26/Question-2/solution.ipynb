{
 "cells": [
  {
   "cell_type": "code",
   "execution_count": 34,
   "metadata": {},
   "outputs": [
    {
     "name": "stdout",
     "output_type": "stream",
     "text": [
      "1 6 2 2\n",
      "2 9 3 5\n",
      "3 12 4 9\n",
      "4 18 6 15\n",
      "5 27 9 24\n"
     ]
    },
    {
     "data": {
      "text/plain": [
       "24"
      ]
     },
     "execution_count": 34,
     "metadata": {},
     "output_type": "execute_result"
    }
   ],
   "source": [
    "def viralAdvertisement(n:int)->int:\n",
    "    dayNumber = 1\n",
    "    shared = 5\n",
    "    totalLiked = 0\n",
    "    #print(dayNumber, shared, shared//2, totalLiked)\n",
    "    while dayNumber != n+1:\n",
    "        currentLiked = shared // 2\n",
    "        totalLiked += currentLiked\n",
    "        shared = currentLiked * 3\n",
    "        #print(dayNumber, shared, currentLiked, totalLiked)\n",
    "        dayNumber += 1\n",
    "    return totalLiked   \n",
    "\n",
    "viralAdvertisement(5)"
   ]
  },
  {
   "cell_type": "code",
   "execution_count": 7,
   "metadata": {},
   "outputs": [
    {
     "data": {
      "text/plain": [
       "3"
      ]
     },
     "execution_count": 7,
     "metadata": {},
     "output_type": "execute_result"
    }
   ],
   "source": [
    "6 //2"
   ]
  },
  {
   "cell_type": "code",
   "execution_count": null,
   "metadata": {},
   "outputs": [],
   "source": []
  }
 ],
 "metadata": {
  "kernelspec": {
   "display_name": "Python 3",
   "language": "python",
   "name": "python3"
  },
  "language_info": {
   "codemirror_mode": {
    "name": "ipython",
    "version": 3
   },
   "file_extension": ".py",
   "mimetype": "text/x-python",
   "name": "python",
   "nbconvert_exporter": "python",
   "pygments_lexer": "ipython3",
   "version": "3.6.5"
  }
 },
 "nbformat": 4,
 "nbformat_minor": 2
}
