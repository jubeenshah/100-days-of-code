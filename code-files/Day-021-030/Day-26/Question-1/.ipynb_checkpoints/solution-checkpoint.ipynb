{
 "cells": [
  {
   "cell_type": "code",
   "execution_count": 8,
   "metadata": {},
   "outputs": [
    {
     "name": "stdout",
     "output_type": "stream",
     "text": [
      "2\n",
      "3\n",
      "3 True\n",
      "4\n",
      "4 False\n"
     ]
    }
   ],
   "source": [
    "def isPrime(n):\n",
    "    if (n <= 1) : \n",
    "        return False\n",
    "    if (n <= 3) : \n",
    "        return True\n",
    "  \n",
    "    # This is checked so that we can skip  \n",
    "    # middle five numbers in below loop \n",
    "    if (n % 2 == 0 or n % 3 == 0) : \n",
    "        return False\n",
    "  \n",
    "    i = 5\n",
    "    while(i * i <= n) : \n",
    "        if (n % i == 0 or n % (i + 2) == 0) : \n",
    "            return False\n",
    "        i = i + 6\n",
    "  \n",
    "    return True\n",
    "\n",
    "for _ in range(int(input())):\n",
    "    x = int(input())\n",
    "    print(x,isPrime(x))"
   ]
  },
  {
   "cell_type": "code",
   "execution_count": null,
   "metadata": {},
   "outputs": [],
   "source": [
    "def isPrime(n) : \n",
    "    # Corner cases \n",
    "    "
   ]
  }
 ],
 "metadata": {
  "kernelspec": {
   "display_name": "Python 3",
   "language": "python",
   "name": "python3"
  },
  "language_info": {
   "codemirror_mode": {
    "name": "ipython",
    "version": 3
   },
   "file_extension": ".py",
   "mimetype": "text/x-python",
   "name": "python",
   "nbconvert_exporter": "python",
   "pygments_lexer": "ipython3",
   "version": "3.6.5"
  }
 },
 "nbformat": 4,
 "nbformat_minor": 2
}
