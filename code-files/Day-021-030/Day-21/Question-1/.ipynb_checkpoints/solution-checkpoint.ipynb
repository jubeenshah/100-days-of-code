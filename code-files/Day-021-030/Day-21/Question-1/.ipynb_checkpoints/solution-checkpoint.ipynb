{
 "cells": [
  {
   "cell_type": "code",
   "execution_count": 13,
   "metadata": {},
   "outputs": [
    {
     "name": "stdout",
     "output_type": "stream",
     "text": [
      "5\n",
      "e\n",
      "4\n",
      "d\n",
      "3\n",
      "c\n",
      "2\n",
      "b\n",
      "2\n",
      "a\n",
      "1\n"
     ]
    }
   ],
   "source": [
    "listOfScores = []\n",
    "for _ in range(int(input())):\n",
    "    name = input()\n",
    "    score = float(input())\n",
    "    listOfScores.append([name,score])\n",
    "scoreList = [i[1] for i in listOfScores]\n",
    "secondHighest = (sorted(set(scoreList),reverse=True)[-2])\n",
    "\n",
    "for i in sorted(listOfScores):\n",
    "    if i[1] == secondHighest:\n",
    "        print(i[0])"
   ]
  },
  {
   "cell_type": "code",
   "execution_count": null,
   "metadata": {},
   "outputs": [],
   "source": []
  }
 ],
 "metadata": {
  "kernelspec": {
   "display_name": "Python 3",
   "language": "python",
   "name": "python3"
  },
  "language_info": {
   "codemirror_mode": {
    "name": "ipython",
    "version": 3
   },
   "file_extension": ".py",
   "mimetype": "text/x-python",
   "name": "python",
   "nbconvert_exporter": "python",
   "pygments_lexer": "ipython3",
   "version": "3.6.5"
  }
 },
 "nbformat": 4,
 "nbformat_minor": 2
}
