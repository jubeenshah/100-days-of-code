{
 "cells": [
  {
   "cell_type": "markdown",
   "metadata": {},
   "source": [
    "```\n",
    "Consider a list (list = []). You can perform the following commands:\n",
    "insert i e: Insert integer e at position i .\n",
    "print: Print the list.\n",
    "remove e: Delete the first occurrence of integer .\n",
    "append e: Insert integer e at the end of the list.\n",
    "sort: Sort the list.\n",
    "pop: Pop the last element from the list.\n",
    "reverse: Reverse the list.\n",
    "Initialize your list and read in the value of n followed by n lines of commands where each command will be of the  types listed above. Iterate through each command in order and perform the corresponding operation on your list.\n",
    "```"
   ]
  },
  {
   "cell_type": "code",
   "execution_count": 11,
   "metadata": {},
   "outputs": [
    {
     "name": "stdout",
     "output_type": "stream",
     "text": [
      "insert 0 5\n",
      "insert 1 10\n"
     ]
    }
   ],
   "source": [
    "N = 2\n",
    "listToReturn = []\n",
    "for _ in range(N):\n",
    "    line = input()\n",
    "    line = line.split(' ')\n",
    "    if line[0] == 'insert':\n",
    "        listToReturn.insert(int(line[1]),int(line[2]))\n",
    "    elif line[0] == 'print':\n",
    "        print(listToReturn)\n",
    "    elif line[0] == 'remove':\n",
    "        listToReturn.remove(int(line[1]))\n",
    "    elif line[0] == 'append':\n",
    "        listToReturn.append(int(line[1]))\n",
    "    elif line[0] == 'sort':\n",
    "        listToReturn.sort()\n",
    "    elif line[0] == 'pop':\n",
    "        listToReturn.pop()\n",
    "    else:\n",
    "        listToReturn.reverse()"
   ]
  },
  {
   "cell_type": "code",
   "execution_count": 16,
   "metadata": {},
   "outputs": [
    {
     "name": "stdout",
     "output_type": "stream",
     "text": [
      "3713081631936575706\n"
     ]
    }
   ],
   "source": [
    "print(hash((1,0)))"
   ]
  },
  {
   "cell_type": "code",
   "execution_count": 19,
   "metadata": {},
   "outputs": [
    {
     "data": {
      "text/plain": [
       "(1, 0)"
      ]
     },
     "execution_count": 19,
     "metadata": {},
     "output_type": "execute_result"
    }
   ],
   "source": [
    "tuple([1,0])"
   ]
  },
  {
   "cell_type": "code",
   "execution_count": 41,
   "metadata": {},
   "outputs": [
    {
     "name": "stdout",
     "output_type": "stream",
     "text": [
      "oZd0RO.7XWQ a.mQHQt7'EVGAvJPq36oJsWFHUmAme'sdLYJpTTJR6KNzurCIdarZaz.3HqEiVx'ipE875Zs3SU6DAJLmNBqoIh37u3yg0UZY6Vw4V.ONODbddreyoF3cQEhFgCcEwv0DxRMtwauSUW'JvWfo'5N.JVklWxAdSAM'Y5SvqQb5o16BN1UG1xfEG3KMogqfJXq524K z0YV76B4KKAc yUw9CW8sFJF4 YNHE n88n3n2PFjf.i4EC5pGtP0mP6vkAWZG7gCTSBpMu73AerQhXVwomXdgzi9xwNjv6aUMECV0BhOPaMFEd1k VtCXKZMDYPhogCDelDxJinDE.icpHeNPR9Njvl m7Uy'l0bdx0I7cncJiT9oIe2XJxT7jKk7VDufLP6QN3zUA5VFp'NjCBVIlRWJ3.vLddKD4vq6Zv1g2SgmMtvyKZAr9Z5cdUJaL'ZyW8JW 9voB5Dp'Zt'utlmx2U8og5yRgRVCenxf'qHbc8tI'krUHUo'slLdkUrphXfTNxw27yy1bmn9yKqWW9KLOeB43'LOyIsfPipIa0F1.3rynuen4qsBnqmPWqpzxSvkHC.UgVgjhIu80GCVoUFoi2a0lDpCWgbwJtdL4tbzAYCmFcMoCEyQpJ GQv7WtFsKy1f4inwQLkEZ.vZBF84HTdjG6d4muT 2CgY8GmqOLe 3Glr.RH3S5NBZn8HQkjR4C0l48ZM2hM7oBGSdU8DLRhNdAvklq65A7OtYZ d6mlyd.Q2aqxNqhkUtXkU5fQ7InirzkyYyEzO8N8jWhxTdBoAeNU'4'VMaSF2xr2Q0OZlDW2fvSvPkeM4kZIGOXy2goPzQ3oyw8CBOqOd7stpj8b'YegzGK0Vt MbabJ0XECKQN6'oUO99AtQ'lkiluyJj3dRDUzJ6gQ25KhuHFSKEZ4lJz21JDUXxvxA8eMbnqEmF1a4r1V3FQgL w4aW2uz0T62tm FdgtQwGFVtB1rp7WYj\n"
     ]
    }
   ],
   "source": [
    "test = \"OzD0ro.7xwq A.MqhqT7'evgaVjpQ36OjSwfhuMaME'SDlyjPttjr6knZURciDARzAZ.3hQeIvX'IPe875zS3su6dajlMnbQOiH37U3YG0uzy6vW4v.onodBDDREYOf3CqeHfGcCeWV0dXrmTWAUsuw'jVwFO'5n.jvKLwXaDsam'y5sVQqB5O16bn1ug1XFeg3kmOGQFjxQ524k Z0yv76b4kkaC YuW9cw8Sfjf4 ynhe N88N3N2pfJF.I4ec5PgTp0Mp6VKawzg7GctsbPmU73aERqHxvWOMxDGZI9XWnJV6Aumecv0bHopAmfeD1K vTcxkzmdypHOGcdELdXjINde.ICPhEnpr9nJVL M7uY'L0BDX0i7CNCjIt9OiE2xjXt7JkK7vdUFlp6qn3Zua5vfP'nJcbviLrwj3.VlDDkd4VQ6zV1G2sGMmTVYkzaR9z5CDujAl'zYw8jw 9VOb5dP'zT'UTLMX2u8OG5YrGrvcENXF'QhBC8Ti'KRuhuO'SLlDKuRPHxFtnXW27YY1BMN9YkQww9kloEb43'loYiSFpIPiA0f1.3RYNUEN4QSbNQMpwQPZXsVKhc.uGvGJHiU80gcvOufOI2A0LdPcwGBWjTDl4TBZaycMfCmOceYqPj gqV7wTfSkY1F4INWqlKez.Vzbf84htDJg6D4MUt 2cGy8gMQolE 3gLR.rh3s5nbzN8hqKJr4c0L48zm2Hm7ObgsDu8dlrHnDaVKLQ65a7oTyz D6MLYD.q2AQXnQHKuTxKu5Fq7iNIRZKYyYeZo8n8JwHXtDbOaEnu'4'vmAsf2XR2q0ozLdw2FVsVpKEm4KzigoxY2GOpZq3OYW8cboQoD7STPJ8B'yEGZgk0vT mBABj0xeckqn6'Ouo99aTq'LKILUYjJ3DrduZj6Gq25kHUhfskez4LjZ21jduxXVXa8EmBNQeMf1A4R1v3fqGl W4Aw2UZ0t62TM fDGTqWgfvTb1RP7wyJ\"\n",
    "temp = \"\"\n",
    "for i in range(len(test)):\n",
    "    if test[i].islower():\n",
    "        temp += test[i].upper()\n",
    "    else:\n",
    "        temp += test[i].lower()\n",
    "print(temp)"
   ]
  },
  {
   "cell_type": "code",
   "execution_count": 37,
   "metadata": {},
   "outputs": [
    {
     "data": {
      "text/plain": [
       "'A'"
      ]
     },
     "execution_count": 37,
     "metadata": {},
     "output_type": "execute_result"
    }
   ],
   "source": [
    "test[1].upper()"
   ]
  },
  {
   "cell_type": "markdown",
   "metadata": {},
   "source": [
    "```\n",
    "abracadabra\n",
    "5 k\n",
    "```"
   ]
  },
  {
   "cell_type": "code",
   "execution_count": 45,
   "metadata": {},
   "outputs": [
    {
     "data": {
      "text/plain": [
       "'abrackdabra'"
      ]
     },
     "execution_count": 45,
     "metadata": {},
     "output_type": "execute_result"
    }
   ],
   "source": [
    "string = \"abracadabra\"\n",
    "position = 5\n",
    "charachter = \"k\"\n",
    "string[:position]+charachter+string[position+1:]"
   ]
  },
  {
   "cell_type": "code",
   "execution_count": null,
   "metadata": {},
   "outputs": [],
   "source": []
  }
 ],
 "metadata": {
  "kernelspec": {
   "display_name": "Python 3",
   "language": "python",
   "name": "python3"
  },
  "language_info": {
   "codemirror_mode": {
    "name": "ipython",
    "version": 3
   },
   "file_extension": ".py",
   "mimetype": "text/x-python",
   "name": "python",
   "nbconvert_exporter": "python",
   "pygments_lexer": "ipython3",
   "version": "3.6.5"
  }
 },
 "nbformat": 4,
 "nbformat_minor": 2
}
