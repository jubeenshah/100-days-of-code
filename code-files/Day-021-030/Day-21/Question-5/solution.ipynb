{
 "cells": [
  {
   "cell_type": "markdown",
   "metadata": {},
   "source": [
    "```\n",
    "Consider a list (list = []). You can perform the following commands:\n",
    "insert i e: Insert integer e at position i .\n",
    "print: Print the list.\n",
    "remove e: Delete the first occurrence of integer .\n",
    "append e: Insert integer e at the end of the list.\n",
    "sort: Sort the list.\n",
    "pop: Pop the last element from the list.\n",
    "reverse: Reverse the list.\n",
    "Initialize your list and read in the value of n followed by n lines of commands where each command will be of the  types listed above. Iterate through each command in order and perform the corresponding operation on your list.\n",
    "```"
   ]
  },
  {
   "cell_type": "code",
   "execution_count": 11,
   "metadata": {},
   "outputs": [
    {
     "name": "stdout",
     "output_type": "stream",
     "text": [
      "insert 0 5\n",
      "insert 1 10\n"
     ]
    }
   ],
   "source": [
    "N = 2\n",
    "listToReturn = []\n",
    "for _ in range(N):\n",
    "    line = input()\n",
    "    line = line.split(' ')\n",
    "    if line[0] == 'insert':\n",
    "        listToReturn.insert(int(line[1]),int(line[2]))\n",
    "    elif line[0] == 'print':\n",
    "        print(listToReturn)\n",
    "    elif line[0] == 'remove':\n",
    "        listToReturn.remove(int(line[1]))\n",
    "    elif line[0] == 'append':\n",
    "        listToReturn.append(int(line[1]))\n",
    "    elif line[0] == 'sort':\n",
    "        listToReturn.sort()\n",
    "    elif line[0] == 'pop':\n",
    "        listToReturn.pop()\n",
    "    else:\n",
    "        listToReturn.reverse()"
   ]
  },
  {
   "cell_type": "code",
   "execution_count": 12,
   "metadata": {},
   "outputs": [
    {
     "name": "stdout",
     "output_type": "stream",
     "text": [
      "[5, 10]\n"
     ]
    }
   ],
   "source": [
    "print(listToReturn)"
   ]
  },
  {
   "cell_type": "code",
   "execution_count": null,
   "metadata": {},
   "outputs": [],
   "source": []
  }
 ],
 "metadata": {
  "kernelspec": {
   "display_name": "Python 3",
   "language": "python",
   "name": "python3"
  },
  "language_info": {
   "codemirror_mode": {
    "name": "ipython",
    "version": 3
   },
   "file_extension": ".py",
   "mimetype": "text/x-python",
   "name": "python",
   "nbconvert_exporter": "python",
   "pygments_lexer": "ipython3",
   "version": "3.6.5"
  }
 },
 "nbformat": 4,
 "nbformat_minor": 2
}
