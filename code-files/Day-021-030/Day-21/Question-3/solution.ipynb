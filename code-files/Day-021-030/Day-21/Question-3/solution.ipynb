{
 "cells": [
  {
   "cell_type": "code",
   "execution_count": 18,
   "metadata": {},
   "outputs": [
    {
     "name": "stdout",
     "output_type": "stream",
     "text": [
      "[1, 2, 3, 4, 5, 6]\n",
      "3 4\n"
     ]
    },
    {
     "data": {
      "text/plain": [
       "3.5"
      ]
     },
     "execution_count": 18,
     "metadata": {},
     "output_type": "execute_result"
    }
   ],
   "source": [
    "def findMedianSortedArrays(nums1, nums2) -> float:\n",
    "    nums1 = (nums1+nums2)\n",
    "    nums1.sort()\n",
    "    print(nums1)\n",
    "    if len(nums1) % 2 != 0:\n",
    "        return nums1[len(nums1)//2]\n",
    "    else:\n",
    "        print(nums1[(len(nums1)-1)//2],nums1[(len(nums1)//2)] )\n",
    "        return (nums1[(len(nums1)-1)//2]+ nums1[(len(nums1)//2)])/2\n",
    "    print(nums1)\n",
    "findMedianSortedArrays([1,2,3],[4,5,6])"
   ]
  },
  {
   "cell_type": "code",
   "execution_count": null,
   "metadata": {},
   "outputs": [],
   "source": []
  }
 ],
 "metadata": {
  "kernelspec": {
   "display_name": "Python 3",
   "language": "python",
   "name": "python3"
  },
  "language_info": {
   "codemirror_mode": {
    "name": "ipython",
    "version": 3
   },
   "file_extension": ".py",
   "mimetype": "text/x-python",
   "name": "python",
   "nbconvert_exporter": "python",
   "pygments_lexer": "ipython3",
   "version": "3.6.5"
  }
 },
 "nbformat": 4,
 "nbformat_minor": 2
}
