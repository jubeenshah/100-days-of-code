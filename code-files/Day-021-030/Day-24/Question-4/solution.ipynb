{
 "cells": [
  {
   "cell_type": "code",
   "execution_count": 57,
   "metadata": {},
   "outputs": [
    {
     "name": "stdout",
     "output_type": "stream",
     "text": [
      "-2147483648 <class 'int'>\n"
     ]
    }
   ],
   "source": [
    "def stringToInt(str:str)->int:\n",
    "    str = str.strip()\n",
    "    if len(str) == 0:\n",
    "        return 0\n",
    "    tmp = \"0\"\n",
    "    result = 0\n",
    "    i = 0\n",
    "    if str[0] in \"+-\":\n",
    "        tmp = str[0]\n",
    "        i = 1\n",
    "    MAX_INT = 2147483647\n",
    "    MIN_INT = -2147483648\n",
    "    for i in range(i, len(str)):\n",
    "        if str[i].isdigit():\n",
    "            tmp += str[i]\n",
    "        else:\n",
    "            break\n",
    "    if len(tmp) > 1:\n",
    "        result = int(tmp)\n",
    "    if result > MAX_INT > 0:\n",
    "        return MAX_INT\n",
    "    elif result < MIN_INT < 0:\n",
    "        return MIN_INT\n",
    "    else:\n",
    "        return result\n",
    "x = stringToInt(\"-4294967296\")\n",
    "print(x,type(x))"
   ]
  },
  {
   "cell_type": "code",
   "execution_count": 35,
   "metadata": {},
   "outputs": [
    {
     "data": {
      "text/plain": [
       "4294967296"
      ]
     },
     "execution_count": 35,
     "metadata": {},
     "output_type": "execute_result"
    }
   ],
   "source": [
    "2**32"
   ]
  },
  {
   "cell_type": "code",
   "execution_count": 40,
   "metadata": {},
   "outputs": [
    {
     "data": {
      "text/plain": [
       "'123'"
      ]
     },
     "execution_count": 40,
     "metadata": {},
     "output_type": "execute_result"
    }
   ],
   "source": [
    "test = '      123'\n",
    "test.strip()"
   ]
  },
  {
   "cell_type": "code",
   "execution_count": 41,
   "metadata": {},
   "outputs": [
    {
     "data": {
      "text/plain": [
       "'      123'"
      ]
     },
     "execution_count": 41,
     "metadata": {},
     "output_type": "execute_result"
    }
   ],
   "source": [
    "test"
   ]
  },
  {
   "cell_type": "code",
   "execution_count": 45,
   "metadata": {},
   "outputs": [],
   "source": [
    "import re"
   ]
  },
  {
   "cell_type": "code",
   "execution_count": 52,
   "metadata": {},
   "outputs": [
    {
     "data": {
      "text/plain": [
       "['-32']"
      ]
     },
     "execution_count": 52,
     "metadata": {},
     "output_type": "execute_result"
    }
   ],
   "source": [
    "re.findall(r'-\\d+', 'hello 42 I\\'m a -32 string 30')"
   ]
  },
  {
   "cell_type": "code",
   "execution_count": null,
   "metadata": {},
   "outputs": [],
   "source": []
  }
 ],
 "metadata": {
  "kernelspec": {
   "display_name": "Python 3",
   "language": "python",
   "name": "python3"
  },
  "language_info": {
   "codemirror_mode": {
    "name": "ipython",
    "version": 3
   },
   "file_extension": ".py",
   "mimetype": "text/x-python",
   "name": "python",
   "nbconvert_exporter": "python",
   "pygments_lexer": "ipython3",
   "version": "3.6.5"
  }
 },
 "nbformat": 4,
 "nbformat_minor": 2
}
