{
 "cells": [
  {
   "cell_type": "code",
   "execution_count": 18,
   "metadata": {},
   "outputs": [
    {
     "data": {
      "text/plain": [
       "14"
      ]
     },
     "execution_count": 18,
     "metadata": {},
     "output_type": "execute_result"
    }
   ],
   "source": [
    "def utopianCycle(n):\n",
    "    height = 0\n",
    "    dictOfHeights = {}\n",
    "    for i in range(n+1):\n",
    "        if i % 2 != 0:\n",
    "            height *= 2\n",
    "        else:\n",
    "            height += 1\n",
    "        dictOfHeights[i] = height\n",
    "    #print(dictOfHeights)\n",
    "    return height\n",
    "utopianCycle(5)"
   ]
  },
  {
   "cell_type": "code",
   "execution_count": null,
   "metadata": {},
   "outputs": [],
   "source": [
    "#!/bin/python3\n",
    "\n",
    "import math\n",
    "import os\n",
    "import random\n",
    "import re\n",
    "import sys\n",
    "\n",
    "# Complete the utopianTree function below.\n",
    "def utopianTree(n):\n",
    "    height = 0\n",
    "    dictOfHeights = {}\n",
    "    for i in range(n+1):\n",
    "        if i % 2 != 0:\n",
    "            height *= 2\n",
    "        else:\n",
    "            height += 1\n",
    "        dictOfHeights[i] = height\n",
    "    #print(dictOfHeights)\n",
    "    return height\n",
    "\n",
    "if __name__ == '__main__':\n",
    "    fptr = open(os.environ['OUTPUT_PATH'], 'w')\n",
    "\n",
    "    t = int(input())\n",
    "\n",
    "    for t_itr in range(t):\n",
    "        n = int(input())\n",
    "\n",
    "        result = utopianTree(n)\n",
    "\n",
    "        fptr.write(str(result) + '\\n')\n",
    "\n",
    "    fptr.close()\n"
   ]
  }
 ],
 "metadata": {
  "kernelspec": {
   "display_name": "Python 3",
   "language": "python",
   "name": "python3"
  },
  "language_info": {
   "codemirror_mode": {
    "name": "ipython",
    "version": 3
   },
   "file_extension": ".py",
   "mimetype": "text/x-python",
   "name": "python",
   "nbconvert_exporter": "python",
   "pygments_lexer": "ipython3",
   "version": "3.6.5"
  }
 },
 "nbformat": 4,
 "nbformat_minor": 2
}
