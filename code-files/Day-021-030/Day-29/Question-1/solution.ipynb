{
 "cells": [
  {
   "cell_type": "code",
   "execution_count": 13,
   "metadata": {},
   "outputs": [
    {
     "name": "stdout",
     "output_type": "stream",
     "text": [
      "6\n",
      "riya riya@gmail.com\n",
      "julia julia@julia.me\n",
      "julia sjulia@gmail.com\n",
      "julia julia@gmail.com\n",
      "samantha samantha@gmail.com\n",
      "tanya tanya@gmail.com\n"
     ]
    }
   ],
   "source": [
    "N = int(input())\n",
    "listOfFirstName = []\n",
    "listOfEmailAddress = []\n",
    "for N_itr in range(N):\n",
    "    firstNameEmailID = input().split()\n",
    "\n",
    "    firstName = firstNameEmailID[0]\n",
    "    listOfFirstName.append(firstName)\n",
    "    emailID = firstNameEmailID[1]\n",
    "    listOfEmailAddress.append(emailID)\n",
    "\n",
    "  "
   ]
  },
  {
   "cell_type": "code",
   "execution_count": 21,
   "metadata": {},
   "outputs": [
    {
     "name": "stdout",
     "output_type": "stream",
     "text": [
      "b\n",
      "julia\n",
      "julia\n",
      "riya\n",
      "samantha\n",
      "tanya\n"
     ]
    }
   ],
   "source": [
    "import re\n",
    "def findGmail(firstName, emailAddress):\n",
    "    #print(firstName, emailAddress)\n",
    "    listToReturn = []\n",
    "    for firstNameVal, emailVal in zip(firstName,emailAddress):\n",
    "        x = (re.findall(pattern=\"@gmail.com\", string=emailVal))\n",
    "        if  x == [\"@gmail.com\"]:\n",
    "            #print(firstNameVal,emailVal)\n",
    "            listToReturn.append(firstNameVal)\n",
    "    listToReturn.sort()\n",
    "    print('\\n'.join(listToReturn))\n",
    "findGmail(listOfFirstName, listOfEmailAddress)"
   ]
  },
  {
   "cell_type": "code",
   "execution_count": 19,
   "metadata": {},
   "outputs": [],
   "source": [
    "listOfEmailAddress.append(\"a@gmail.com\")\n",
    "listOfFirstName.append(\"b\")"
   ]
  },
  {
   "cell_type": "code",
   "execution_count": null,
   "metadata": {},
   "outputs": [],
   "source": []
  }
 ],
 "metadata": {
  "kernelspec": {
   "display_name": "Python 3",
   "language": "python",
   "name": "python3"
  },
  "language_info": {
   "codemirror_mode": {
    "name": "ipython",
    "version": 3
   },
   "file_extension": ".py",
   "mimetype": "text/x-python",
   "name": "python",
   "nbconvert_exporter": "python",
   "pygments_lexer": "ipython3",
   "version": "3.6.5"
  }
 },
 "nbformat": 4,
 "nbformat_minor": 2
}
