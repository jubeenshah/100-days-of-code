{
 "cells": [
  {
   "cell_type": "code",
   "execution_count": 2,
   "metadata": {},
   "outputs": [
    {
     "name": "stdout",
     "output_type": "stream",
     "text": [
      "10\n",
      "2 3 4 5 6 8 7 6 5 18\n",
      "6\n",
      "6 55\n",
      "6 45\n",
      "6 55\n",
      "4 40\n",
      "18 60\n",
      "10 50\n"
     ]
    }
   ],
   "source": [
    "from collections import Counter\n",
    "numberOfShoes = int(input())\n",
    "listOfShoeSizes = list(map(int,input().split(' ')))\n",
    "numberOfCustomers = int(input())\n",
    "purchaseList = []\n",
    "for eachCustomer in range(numberOfCustomers):\n",
    "    purchaseList.append(list(map(int,input().split(' '))))"
   ]
  },
  {
   "cell_type": "code",
   "execution_count": 8,
   "metadata": {},
   "outputs": [
    {
     "name": "stdout",
     "output_type": "stream",
     "text": [
      "200\n"
     ]
    }
   ],
   "source": [
    "def calculateMoneyEarned(purchaseList, listOfShoeSizes,numberOfCustomers,numberOfShoes):\n",
    "    #print(purchaseList,listOfShoeSizes,numberOfCustomers,numberOfShoes)\n",
    "    dictOfAvailableShoeSizes = Counter(listOfShoeSizes)\n",
    "    moneyEarned = 0\n",
    "    for eachPurchaseItem in purchaseList:\n",
    "        if (eachPurchaseItem[0] in dictOfAvailableShoeSizes and dictOfAvailableShoeSizes[eachPurchaseItem[0]] > 0):\n",
    "            dictOfAvailableShoeSizes[eachPurchaseItem[0]] -= 1\n",
    "            moneyEarned += eachPurchaseItem[1]\n",
    "        else:\n",
    "            continue\n",
    "    print(moneyEarned)\n",
    "\n",
    "calculateMoneyEarned(purchaseList,listOfShoeSizes,numberOfCustomers,numberOfShoes)"
   ]
  },
  {
   "cell_type": "code",
   "execution_count": null,
   "metadata": {},
   "outputs": [],
   "source": []
  }
 ],
 "metadata": {
  "kernelspec": {
   "display_name": "Python 3",
   "language": "python",
   "name": "python3"
  },
  "language_info": {
   "codemirror_mode": {
    "name": "ipython",
    "version": 3
   },
   "file_extension": ".py",
   "mimetype": "text/x-python",
   "name": "python",
   "nbconvert_exporter": "python",
   "pygments_lexer": "ipython3",
   "version": "3.6.5"
  }
 },
 "nbformat": 4,
 "nbformat_minor": 2
}
