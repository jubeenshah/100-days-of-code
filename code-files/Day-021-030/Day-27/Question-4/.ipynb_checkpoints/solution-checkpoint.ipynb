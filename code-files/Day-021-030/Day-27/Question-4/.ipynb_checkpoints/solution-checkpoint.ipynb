{
 "cells": [
  {
   "cell_type": "code",
   "execution_count": null,
   "metadata": {},
   "outputs": [],
   "source": [
    "# Definition for singly-linked list.\n",
    "# class ListNode:\n",
    "#     def __init__(self, x):\n",
    "#         self.val = x\n",
    "#         self.next = None\n",
    "\n",
    "class Solution:\n",
    "    def getLength(self, head: ListNode) -> int:\n",
    "        length = 0\n",
    "        temp = head\n",
    "        if not temp:\n",
    "            return 0\n",
    "        while temp.next:\n",
    "            length += 1\n",
    "            temp = temp.next\n",
    "        return length+1\n",
    "    def removeNthFromEnd(self, head: ListNode, n: int) -> ListNode:\n",
    "        if not head: return None\n",
    "        dummy = ListNode(-1)\n",
    "        dummy.next = head\n",
    "        s, e = dummy, None\n",
    "        def helper(node):\n",
    "            nonlocal s,e\n",
    "            if not node: return 0\n",
    "            index = helper(node.next)+1\n",
    "            if index == n+1: s = node\n",
    "            if index == n-1: e = node            \n",
    "            return index     \n",
    "        helper(head)\n",
    "        s.next = e\n",
    "        return dummy.next"
   ]
  }
 ],
 "metadata": {
  "kernelspec": {
   "display_name": "Python 3",
   "language": "python",
   "name": "python3"
  },
  "language_info": {
   "codemirror_mode": {
    "name": "ipython",
    "version": 3
   },
   "file_extension": ".py",
   "mimetype": "text/x-python",
   "name": "python",
   "nbconvert_exporter": "python",
   "pygments_lexer": "ipython3",
   "version": "3.6.5"
  }
 },
 "nbformat": 4,
 "nbformat_minor": 2
}
