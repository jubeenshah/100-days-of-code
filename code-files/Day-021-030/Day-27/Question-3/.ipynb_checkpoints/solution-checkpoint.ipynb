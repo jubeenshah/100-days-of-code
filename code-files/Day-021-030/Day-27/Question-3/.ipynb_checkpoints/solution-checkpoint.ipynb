{
 "cells": [
  {
   "cell_type": "code",
   "execution_count": null,
   "metadata": {},
   "outputs": [],
   "source": [
    "def calcKevinScore(string, listOfVowels):\n",
    "    print(string,listOfVowels)\n",
    "    score = 0"
   ]
  },
  {
   "cell_type": "code",
   "execution_count": 4,
   "metadata": {},
   "outputs": [],
   "source": [
    "def calcStuartScore(string, listOfVowels):\n",
    "    print(string,listOfVowels)\n",
    "    score = 0\n",
    "    "
   ]
  },
  {
   "cell_type": "code",
   "execution_count": 5,
   "metadata": {},
   "outputs": [
    {
     "name": "stdout",
     "output_type": "stream",
     "text": [
      "BANANA ['A', 'E', 'I', 'O', 'U']\n"
     ]
    }
   ],
   "source": [
    "def theMinionGame(string):\n",
    "    listOfVowels = ['A','E','I','O','U']\n",
    "    stuartScore = calcStuartScore(string, listOfVowels)\n",
    "    kevinScore = calcKevinScore(string, listOfVowels)\n",
    "\n",
    "theMinionGame(\"BANANA\")"
   ]
  },
  {
   "cell_type": "code",
   "execution_count": null,
   "metadata": {},
   "outputs": [],
   "source": []
  }
 ],
 "metadata": {
  "kernelspec": {
   "display_name": "Python 3",
   "language": "python",
   "name": "python3"
  },
  "language_info": {
   "codemirror_mode": {
    "name": "ipython",
    "version": 3
   },
   "file_extension": ".py",
   "mimetype": "text/x-python",
   "name": "python",
   "nbconvert_exporter": "python",
   "pygments_lexer": "ipython3",
   "version": "3.6.5"
  }
 },
 "nbformat": 4,
 "nbformat_minor": 2
}
