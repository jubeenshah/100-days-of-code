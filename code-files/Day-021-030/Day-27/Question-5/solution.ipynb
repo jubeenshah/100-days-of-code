{
 "cells": [
  {
   "cell_type": "code",
   "execution_count": 124,
   "metadata": {},
   "outputs": [
    {
     "name": "stdout",
     "output_type": "stream",
     "text": [
      "\n",
      "****\n",
      "S1 ['c', 'c', 'b', 'a'] a ['c', 'a', 'c', 'b', 'c', 'b', 'b', 'd', 'a'] a ['a', 'c', 'b', 'b']\n",
      "\n",
      "****\n",
      "S1 ['c', 'c', 'b'] a ['c', 'a', 'c', 'b', 'c', 'b', 'b', 'd'] a ['a', 'c', 'b', 'b']\n",
      "\n",
      "****\n",
      "S2 d d ['a', 'c', 'b', 'b'] ['c', 'a', 'c', 'b', 'c', 'b', 'b'] ['c', 'c']\n",
      "\n",
      "****\n",
      "S1 ['c', 'c'] b ['c', 'a', 'c', 'b', 'c', 'b'] b ['a', 'c', 'b']\n",
      "\n",
      "****\n",
      "S2 b b ['a', 'c', 'b'] ['c', 'a', 'c', 'b', 'c'] ['c']\n",
      "\n",
      "****\n",
      "S1 ['c'] c ['c', 'a', 'c', 'b'] c ['a', 'c']\n",
      "\n",
      "****\n",
      "S2 b b ['a', 'c'] ['c', 'a', 'c'] []\n",
      "\n",
      "****\n",
      "S1 [] c ['c', 'a'] c ['a']\n",
      "\n"
     ]
    },
    {
     "data": {
      "text/plain": [
       "False"
      ]
     },
     "execution_count": 124,
     "metadata": {},
     "output_type": "execute_result"
    }
   ],
   "source": [
    "def interLeavingStrings(s1,s2,s3):\n",
    "    if not s1 and not s2 and not s3:\n",
    "        return True\n",
    "    if not s3:\n",
    "        return False\n",
    "    else:\n",
    "        listS1 = [x for x in s1[::-1]]\n",
    "        listS2 = [x for x in s2[::-1]]\n",
    "        listS3 = [x for x in s3[::-1]]\n",
    "        currentS1Element = []\n",
    "        currentS2Element = []\n",
    "        returnVal = False\n",
    "        while len(listS3) != 0:\n",
    "            currentS3Element = listS3.pop()\n",
    "            print()\n",
    "            #print(listS3)\n",
    "            \n",
    "            if len(currentS1Element) != 1 and len(listS1) > 0:\n",
    "                #print(\"S1-b\",listS1,listS3)\n",
    "                currentS1Element.append(listS1.pop())\n",
    "                #print(\"S1-a\",listS1,listS3)\n",
    "            if len(currentS2Element) != 1 and len(listS2) > 0:\n",
    "                #print(\"S2-b\",listS2,listS3)\n",
    "                currentS2Element.append(listS2.pop())\n",
    "                #print(\"S2-a\",listS2,listS3)\n",
    "\n",
    "            if len(currentS1Element) > 0:\n",
    "                if currentS1Element[0] == currentS3Element:\n",
    "                    returnVal = True\n",
    "                    print(\"****\")\n",
    "                    print(\"S1\",listS1,currentS1Element[0],listS3,currentS3Element,listS2)\n",
    "                    currentS1Element.pop()\n",
    "                    continue\n",
    "            if len(currentS2Element) > 0:\n",
    "                #print(currentS3Element,currentS2Element)\n",
    "                if currentS2Element[0] == currentS3Element:\n",
    "                    returnVal = True\n",
    "                    print(\"****\")\n",
    "                    print(\"S2\",currentS2Element[0],currentS3Element,listS2,listS3,listS1)\n",
    "                    currentS2Element.pop()\n",
    "                    continue\n",
    "            returnVal = False\n",
    "            return returnVal\n",
    "        currentS3Element = \"\"\n",
    "        print(currentS1Element,currentS2Element,currentS3Element,listS1,listS2,listS3)\n",
    "        if currentS3Element != \"\" or currentS1Element != [] or currentS2Element != []:\n",
    "            returnVal = False\n",
    "        return returnVal\n",
    "s1 = \"aabcc\"\n",
    "s2 = \"dbbca\"\n",
    "s3 = \"aadbbcbcac\"\n",
    "interLeavingStrings(s1,s2,s3)"
   ]
  },
  {
   "cell_type": "code",
   "execution_count": null,
   "metadata": {},
   "outputs": [],
   "source": [
    "S1 S1 S2 S1"
   ]
  }
 ],
 "metadata": {
  "kernelspec": {
   "display_name": "Python 3",
   "language": "python",
   "name": "python3"
  },
  "language_info": {
   "codemirror_mode": {
    "name": "ipython",
    "version": 3
   },
   "file_extension": ".py",
   "mimetype": "text/x-python",
   "name": "python",
   "nbconvert_exporter": "python",
   "pygments_lexer": "ipython3",
   "version": "3.6.5"
  }
 },
 "nbformat": 4,
 "nbformat_minor": 2
}
