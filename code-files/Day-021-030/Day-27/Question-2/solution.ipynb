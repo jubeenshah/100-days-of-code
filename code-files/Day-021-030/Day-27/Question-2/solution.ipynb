{
 "cells": [
  {
   "cell_type": "code",
   "execution_count": 29,
   "metadata": {},
   "outputs": [
    {
     "data": {
      "text/plain": [
       "'Hello   World  Lol'"
      ]
     },
     "execution_count": 29,
     "metadata": {},
     "output_type": "execute_result"
    }
   ],
   "source": [
    "def capitalizeWord(string):\n",
    "    listOfWord = string.split(' ')\n",
    "    listToReturn = []\n",
    "    for eachWord in listOfWord:\n",
    "        if eachWord == '':\n",
    "            listToReturn.append(eachWord)\n",
    "            continue\n",
    "        upperChar = eachWord[0].upper()\n",
    "        eachWord = upperChar + eachWord[1:]\n",
    "        listToReturn.append(eachWord)\n",
    "        \n",
    "    return ' '.join(listToReturn)\n",
    "\n",
    "capitalizeWord(\"hello   world  lol\")"
   ]
  },
  {
   "cell_type": "code",
   "execution_count": 4,
   "metadata": {},
   "outputs": [],
   "source": []
  },
  {
   "cell_type": "code",
   "execution_count": 17,
   "metadata": {},
   "outputs": [
    {
     "data": {
      "text/plain": [
       "'Gello'"
      ]
     },
     "execution_count": 17,
     "metadata": {},
     "output_type": "execute_result"
    }
   ],
   "source": [
    "test = \"gello\"\n",
    "testUpper = test[0].upper()\n",
    "test = testUpper + test[1:]\n",
    "test"
   ]
  },
  {
   "cell_type": "code",
   "execution_count": null,
   "metadata": {},
   "outputs": [],
   "source": []
  }
 ],
 "metadata": {
  "kernelspec": {
   "display_name": "Python 3",
   "language": "python",
   "name": "python3"
  },
  "language_info": {
   "codemirror_mode": {
    "name": "ipython",
    "version": 3
   },
   "file_extension": ".py",
   "mimetype": "text/x-python",
   "name": "python",
   "nbconvert_exporter": "python",
   "pygments_lexer": "ipython3",
   "version": "3.6.5"
  }
 },
 "nbformat": 4,
 "nbformat_minor": 2
}
