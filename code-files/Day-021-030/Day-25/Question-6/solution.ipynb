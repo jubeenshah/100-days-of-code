{
 "cells": [
  {
   "cell_type": "code",
   "execution_count": 8,
   "metadata": {},
   "outputs": [
    {
     "name": "stdout",
     "output_type": "stream",
     "text": [
      "5 V\n",
      "1 I\n",
      "1 I\n",
      "1 I\n"
     ]
    },
    {
     "data": {
      "text/plain": [
       "'VIII'"
      ]
     },
     "execution_count": 8,
     "metadata": {},
     "output_type": "execute_result"
    }
   ],
   "source": [
    "def intToRoman(num):\n",
    "    intToRomanDict={1000:'M',900:'CM',500:'D',400:'CD',100:'C',90:'XC',50:'L',40:'XL',10:'X',9:'IX',5:'V',4:'IV',1:'I'}\n",
    "    answerToReturn=''\n",
    "    if num in intToRomanDict:\n",
    "        return intToRomanDict[num]\n",
    "    else:\n",
    "        for k,v in intToRomanDict.items():\n",
    "            while(num-k>=0):\n",
    "                num=num-k\n",
    "                answerToReturn+=v\n",
    "            if(num==0):\n",
    "                break\n",
    "        return answerToReturn\n",
    "\n",
    "intToRoman(8)"
   ]
  },
  {
   "cell_type": "code",
   "execution_count": null,
   "metadata": {},
   "outputs": [],
   "source": []
  }
 ],
 "metadata": {
  "kernelspec": {
   "display_name": "Python 3",
   "language": "python",
   "name": "python3"
  },
  "language_info": {
   "codemirror_mode": {
    "name": "ipython",
    "version": 3
   },
   "file_extension": ".py",
   "mimetype": "text/x-python",
   "name": "python",
   "nbconvert_exporter": "python",
   "pygments_lexer": "ipython3",
   "version": "3.6.5"
  }
 },
 "nbformat": 4,
 "nbformat_minor": 2
}
