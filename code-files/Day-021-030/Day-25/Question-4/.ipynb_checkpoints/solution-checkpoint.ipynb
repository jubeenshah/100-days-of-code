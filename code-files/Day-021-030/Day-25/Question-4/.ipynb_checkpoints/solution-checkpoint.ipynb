{
 "cells": [
  {
   "cell_type": "code",
   "execution_count": 13,
   "metadata": {},
   "outputs": [
    {
     "data": {
      "text/plain": [
       "2"
      ]
     },
     "execution_count": 13,
     "metadata": {},
     "output_type": "execute_result"
    }
   ],
   "source": [
    "def beautifulDay(start,end,k):\n",
    "    numberOfBeautifulDays = 0\n",
    "    for i in range(start,end+1):\n",
    "        x = getReverse(i)\n",
    "        if abs(x-i) % k == 0:\n",
    "            numberOfBeautifulDays += 1\n",
    "    return numberOfBeautifulDays\n",
    "\n",
    "beautifulDay(20,23,6)"
   ]
  },
  {
   "cell_type": "code",
   "execution_count": 12,
   "metadata": {},
   "outputs": [
    {
     "data": {
      "text/plain": [
       "21"
      ]
     },
     "execution_count": 12,
     "metadata": {},
     "output_type": "execute_result"
    }
   ],
   "source": [
    "def getReverse(number):\n",
    "    tempStr = str(number)\n",
    "    tempStr = (tempStr[::-1])\n",
    "    return int(tempStr)\n",
    "getReverse(120)\n"
   ]
  },
  {
   "cell_type": "code",
   "execution_count": null,
   "metadata": {},
   "outputs": [],
   "source": []
  }
 ],
 "metadata": {
  "kernelspec": {
   "display_name": "Python 3",
   "language": "python",
   "name": "python3"
  },
  "language_info": {
   "codemirror_mode": {
    "name": "ipython",
    "version": 3
   },
   "file_extension": ".py",
   "mimetype": "text/x-python",
   "name": "python",
   "nbconvert_exporter": "python",
   "pygments_lexer": "ipython3",
   "version": "3.6.5"
  }
 },
 "nbformat": 4,
 "nbformat_minor": 2
}
