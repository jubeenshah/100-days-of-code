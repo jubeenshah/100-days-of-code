{
 "cells": [
  {
   "cell_type": "code",
   "execution_count": 11,
   "metadata": {},
   "outputs": [],
   "source": [
    "import random\n",
    "import collections"
   ]
  },
  {
   "cell_type": "code",
   "execution_count": 28,
   "metadata": {},
   "outputs": [
    {
     "name": "stdout",
     "output_type": "stream",
     "text": [
      "[257, 770, 130, 516, 391, 393, 907, 140, 524, 523, 527, 19, 275, 533, 787, 279, 280, 153, 665, 27, 287, 672, 159, 34, 163, 550, 807, 40, 425, 42, 301, 429, 688, 434, 947, 564, 692, 52, 184, 696, 442, 954, 444, 575, 447, 833, 579, 452, 581, 198, 455, 457, 332, 589, 591, 981, 469, 855, 599, 986, 477, 478, 479, 481, 99, 100, 612, 614, 234, 108, 239, 113, 242, 115, 755, 116, 243, 247, 760, 761, 379, 894]\n"
     ]
    }
   ],
   "source": [
    "def get_array():\n",
    "    randomList = [random.randint(1,1000) for _ in range(2,random.randint(1,100))]\n",
    "    print(list(set(randomList)))\n",
    "    #print(collections.Counter(randomList))\n",
    "    #print(min(randomList),randomList.index(min(randomList)))\n",
    "get_array()"
   ]
  },
  {
   "cell_type": "code",
   "execution_count": 7,
   "metadata": {},
   "outputs": [
    {
     "name": "stdout",
     "output_type": "stream",
     "text": [
      "[681, 469, 296, 654, 281, 190, 813, 835, 37, 118, 636, 567, 790, 629, 167, 827, 754, 134, 729, 906, 29, 150, 280, 343, 460, 120, 340, 377, 441, 749, 600, 685, 702, 401, 795, 637, 178, 841, 190, 70, 252, 425, 478, 358, 424, 62, 471, 557, 632, 437, 968, 755, 299, 642, 554, 859, 578, 564, 904, 189, 238, 710, 377, 629, 196, 729, 230, 475, 491, 324, 752, 83]\n"
     ]
    }
   ],
   "source": []
  },
  {
   "cell_type": "code",
   "execution_count": 42,
   "metadata": {},
   "outputs": [
    {
     "name": "stdout",
     "output_type": "stream",
     "text": [
      "8 [708, 74, 554, 624, 81, 596, 533, 725, 30, 701, 670, 30]\n",
      "10 [708, 74, 554, 624, 81, 596, 533, 725, 701, 670, 30]\n"
     ]
    }
   ],
   "source": [
    "def getDoubleMinArray():\n",
    "    randomList = [random.randint(1,1000) for _ in range(2,random.randint(1,20))]\n",
    "    randomList = list(set(randomList))\n",
    "    randomList.append(min(randomList))   \n",
    "    print(randomList.index(min(randomList)),randomList)\n",
    "    randomList.remove(min(randomList))\n",
    "    print(randomList.index(min(randomList)),randomList)\n",
    "    #print(collections.Counter(randomList))\n",
    "getDoubleMinArray()"
   ]
  },
  {
   "cell_type": "code",
   "execution_count": null,
   "metadata": {},
   "outputs": [],
   "source": [
    "def minimum_index(seq):\n",
    "    if len(seq) == 0:\n",
    "        raise ValueError(\"Cannot get the minimum value index from an empty sequence\")\n",
    "    min_idx = 0\n",
    "    for i in range(1, len(seq)):\n",
    "        if seq[i] < seq[min_idx]:\n",
    "            min_idx = i\n",
    "    return min_idx\n",
    "import random\n",
    "class TestDataEmptyArray(object):\n",
    "    \n",
    "    @staticmethod\n",
    "    def get_array():\n",
    "        # complete this function\n",
    "        return []\n",
    "\n",
    "class TestDataUniqueValues(object):\n",
    "    randomList = [random.randint(1,1000) for _ in range(2,random.randint(1,100))]\n",
    "    @staticmethod\n",
    "    def get_array():\n",
    "        # complete this function\n",
    "        returnList = list(set(TestDataUniqueValues.randomList))\n",
    "        return returnList\n",
    "\n",
    "\n",
    "    @staticmethod\n",
    "    def get_expected_result():\n",
    "        # complete this function\n",
    "        returnList = list(set(TestDataUniqueValues.randomList))\n",
    "        return returnList.index(min(returnList))\n",
    "\n",
    "class TestDataExactlyTwoDifferentMinimums(object):\n",
    "    randomList = [random.randint(1,1000) for _ in range(2,random.randint(1,100))]\n",
    "    @staticmethod\n",
    "    def get_array():\n",
    "        # complete this function\n",
    "        returnList = list(set(TestDataExactlyTwoDifferentMinimums.randomList))\n",
    "        returnList.append(min(returnList))\n",
    "        return returnList\n",
    "\n",
    "    @staticmethod\n",
    "    def get_expected_result():\n",
    "        # complete this function\n",
    "        returnList = list(set(TestDataExactlyTwoDifferentMinimums.randomList))\n",
    "        index1 = returnList.index(min(returnList))\n",
    "        return index1\n",
    "\n"
   ]
  }
 ],
 "metadata": {
  "kernelspec": {
   "display_name": "Python 3",
   "language": "python",
   "name": "python3"
  },
  "language_info": {
   "codemirror_mode": {
    "name": "ipython",
    "version": 3
   },
   "file_extension": ".py",
   "mimetype": "text/x-python",
   "name": "python",
   "nbconvert_exporter": "python",
   "pygments_lexer": "ipython3",
   "version": "3.6.5"
  }
 },
 "nbformat": 4,
 "nbformat_minor": 2
}
