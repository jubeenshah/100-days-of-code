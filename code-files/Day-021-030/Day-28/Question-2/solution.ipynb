{
 "cells": [
  {
   "cell_type": "code",
   "execution_count": 23,
   "metadata": {},
   "outputs": [
    {
     "data": {
      "text/plain": [
       "'ADS'"
      ]
     },
     "execution_count": 23,
     "metadata": {},
     "output_type": "execute_result"
    }
   ],
   "source": [
    "def removeDuplicates(string):\n",
    "    stringToReturn = \"\"\n",
    "    counter = 0\n",
    "    for i in range(0,len(string)):\n",
    "        if string[i] in stringToReturn and counter > 0:\n",
    "            continue\n",
    "        else:\n",
    "            #print(stringToReturn)\n",
    "            stringToReturn += string[i]\n",
    "            counter+=1\n",
    "    return (stringToReturn)\n",
    "\n",
    "removeDuplicates(\"ADADADSASDASD\")"
   ]
  },
  {
   "cell_type": "code",
   "execution_count": 24,
   "metadata": {},
   "outputs": [
    {
     "name": "stdout",
     "output_type": "stream",
     "text": [
      "AB\n",
      "CA\n",
      "AD\n"
     ]
    }
   ],
   "source": [
    "def mergeTheTools(string, k):\n",
    "    listOfKseperatedStrings = [string[i:i+k] for i in range(0,len(string),k)]\n",
    "    for eachSubstring in listOfKseperatedStrings:\n",
    "        #print(eachSubstring)\n",
    "        stringToPrint = removeDuplicates(eachSubstring)\n",
    "        print(stringToPrint)\n",
    "\n",
    "mergeTheTools(\"AABCAAADA\",3)"
   ]
  },
  {
   "cell_type": "code",
   "execution_count": 2,
   "metadata": {},
   "outputs": [
    {
     "data": {
      "text/plain": [
       "'CAA'"
      ]
     },
     "execution_count": 2,
     "metadata": {},
     "output_type": "execute_result"
    }
   ],
   "source": [
    "string = \"AABCAAADA\"\n",
    "string[3:6]"
   ]
  },
  {
   "cell_type": "code",
   "execution_count": null,
   "metadata": {},
   "outputs": [],
   "source": []
  }
 ],
 "metadata": {
  "kernelspec": {
   "display_name": "Python 3",
   "language": "python",
   "name": "python3"
  },
  "language_info": {
   "codemirror_mode": {
    "name": "ipython",
    "version": 3
   },
   "file_extension": ".py",
   "mimetype": "text/x-python",
   "name": "python",
   "nbconvert_exporter": "python",
   "pygments_lexer": "ipython3",
   "version": "3.6.5"
  }
 },
 "nbformat": 4,
 "nbformat_minor": 2
}
