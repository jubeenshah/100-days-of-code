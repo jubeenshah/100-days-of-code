{
 "cells": [
  {
   "cell_type": "code",
   "execution_count": 22,
   "metadata": {},
   "outputs": [
    {
     "name": "stdout",
     "output_type": "stream",
     "text": [
      "A\n",
      "C\n",
      "H\n",
      "K\n",
      "AC\n",
      "AK\n",
      "CK\n",
      "AH\n",
      "CH\n",
      "HK\n"
     ]
    }
   ],
   "source": [
    "from itertools import combinations\n",
    "#string, k = map(str, input().split(' '))\n",
    "def itertoolsCombination(string,k):\n",
    "    string = string.upper()\n",
    "    for i in range(1,k+1):\n",
    "        listToAppend = list(combinations(string,i))\n",
    "        listToAppend.sort()\n",
    "        for eachItem in listToAppend:\n",
    "            eachItem = list(eachItem)\n",
    "            eachItem = sorted(eachItem)\n",
    "            #print(eachItem[0])\n",
    "            print(''.join(eachItem))\n",
    "\n",
    "itertoolsCombination(string, int(k))"
   ]
  },
  {
   "cell_type": "code",
   "execution_count": 27,
   "metadata": {},
   "outputs": [],
   "source": [
    "test = (list(list(combinations(\"HACK\",2))[0]).sort())"
   ]
  },
  {
   "cell_type": "code",
   "execution_count": null,
   "metadata": {},
   "outputs": [],
   "source": []
  }
 ],
 "metadata": {
  "kernelspec": {
   "display_name": "Python 3",
   "language": "python",
   "name": "python3"
  },
  "language_info": {
   "codemirror_mode": {
    "name": "ipython",
    "version": 3
   },
   "file_extension": ".py",
   "mimetype": "text/x-python",
   "name": "python",
   "nbconvert_exporter": "python",
   "pygments_lexer": "ipython3",
   "version": "3.6.5"
  }
 },
 "nbformat": 4,
 "nbformat_minor": 2
}
