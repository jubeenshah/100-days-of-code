{
 "cells": [
  {
   "cell_type": "code",
   "execution_count": 48,
   "metadata": {},
   "outputs": [
    {
     "name": "stdout",
     "output_type": "stream",
     "text": [
      "1001\n"
     ]
    },
    {
     "data": {
      "text/plain": [
       "True"
      ]
     },
     "execution_count": 48,
     "metadata": {},
     "output_type": "execute_result"
    }
   ],
   "source": [
    "import math\n",
    "def divide(dividend, divisor):\n",
    "    #print(dividend,divisor)\n",
    "    counter = 0\n",
    "    temp = dividend\n",
    "    while dividend >= 0:\n",
    "        if divisor > 0:\n",
    "            if dividend - divisor >= 0:\n",
    "                dividend -= divisor\n",
    "                #print(dividend)\n",
    "                counter += 1\n",
    "            else:\n",
    "                break\n",
    "        else:\n",
    "            if dividend + divisor >= 0:\n",
    "                dividend += divisor\n",
    "                #print(dividend)\n",
    "                counter -= 1\n",
    "            else:\n",
    "                break\n",
    "    print(counter)\n",
    "    return (math.ceil(temp / divisor)) == counter\n",
    "divide(123123,123)    "
   ]
  },
  {
   "cell_type": "code",
   "execution_count": 44,
   "metadata": {},
   "outputs": [
    {
     "data": {
      "text/plain": [
       "-17441"
      ]
     },
     "execution_count": 44,
     "metadata": {},
     "output_type": "execute_result"
    }
   ],
   "source": [
    "math.ceil((2**31-1) / -123123)"
   ]
  },
  {
   "cell_type": "code",
   "execution_count": null,
   "metadata": {},
   "outputs": [],
   "source": []
  }
 ],
 "metadata": {
  "kernelspec": {
   "display_name": "Python 3",
   "language": "python",
   "name": "python3"
  },
  "language_info": {
   "codemirror_mode": {
    "name": "ipython",
    "version": 3
   },
   "file_extension": ".py",
   "mimetype": "text/x-python",
   "name": "python",
   "nbconvert_exporter": "python",
   "pygments_lexer": "ipython3",
   "version": "3.6.5"
  }
 },
 "nbformat": 4,
 "nbformat_minor": 2
}
