{
 "cells": [
  {
   "cell_type": "code",
   "execution_count": 11,
   "metadata": {},
   "outputs": [
    {
     "data": {
      "text/plain": [
       "'PAHNAPLSIIGYIR'"
      ]
     },
     "execution_count": 11,
     "metadata": {},
     "output_type": "execute_result"
    }
   ],
   "source": [
    "def zigZagConversation(s, numRows):\n",
    "    if numRows == 1 or numRows >= len(s):\n",
    "            return s\n",
    "\n",
    "    L = [''] * numRows\n",
    "    index, step = 0, 1\n",
    "\n",
    "    for x in s:\n",
    "        L[index] += x\n",
    "        if index == 0:\n",
    "            step = 1\n",
    "        elif index == numRows -1:\n",
    "            step = -1\n",
    "        index += step\n",
    "\n",
    "    return ''.join(L)\n",
    "\n",
    "\n",
    "zigZagConversation(\"PAYPALISHIRING\",3)"
   ]
  },
  {
   "cell_type": "code",
   "execution_count": null,
   "metadata": {},
   "outputs": [],
   "source": [
    "P AYP A LIS H LIS N G\n",
    "A YPL I SLI S G"
   ]
  }
 ],
 "metadata": {
  "kernelspec": {
   "display_name": "Python 3",
   "language": "python",
   "name": "python3"
  },
  "language_info": {
   "codemirror_mode": {
    "name": "ipython",
    "version": 3
   },
   "file_extension": ".py",
   "mimetype": "text/x-python",
   "name": "python",
   "nbconvert_exporter": "python",
   "pygments_lexer": "ipython3",
   "version": "3.6.5"
  }
 },
 "nbformat": 4,
 "nbformat_minor": 2
}
