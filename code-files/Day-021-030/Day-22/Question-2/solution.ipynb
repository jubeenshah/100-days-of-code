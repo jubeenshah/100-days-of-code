{
 "cells": [
  {
   "cell_type": "code",
   "execution_count": 10,
   "metadata": {},
   "outputs": [
    {
     "name": "stdout",
     "output_type": "stream",
     "text": [
      "{0: 'NV', 1: 'NV', 2: 'NV', 3: 'NV', 4: 'NV', 5: 'NV', 6: 'NV', 7: 'NV', 8: 'NV', 9: 'NV', 10: 'NV', 11: 'NV', 12: 'NV', 13: 'NV'} 14\n",
      "PAHN\n",
      "ALIG\n",
      "YIR\n",
      "PSI\n",
      "AHN\n",
      "LIG\n",
      "IR\n",
      "SI\n",
      "HN\n",
      "IG\n",
      "R\n",
      "I\n",
      "N\n",
      "G\n"
     ]
    }
   ],
   "source": [
    "def zigZagConversation(string, numRows):\n",
    "    dicOfVisited = {char:\"NV\" for char in range(len(string))}\n",
    "    print(dicOfVisited,len(string))\n",
    "    \n",
    "    for i in range(len(string)):\n",
    "        while i < len(string):\n",
    "            if dicOfVisited[i] == \"NV\":\n",
    "                print(string[i],end=\"\")\n",
    "                dicOfVisited[string[i]] = \"V\"\n",
    "                i += numRows + 1\n",
    "        print()\n",
    "\n",
    "\n",
    "zigZagConversation(\"PAYPALISHIRING\",3)"
   ]
  },
  {
   "cell_type": "code",
   "execution_count": null,
   "metadata": {},
   "outputs": [],
   "source": [
    "P AYP A LIS H LIS N G\n",
    "A YPL I SLI S G"
   ]
  }
 ],
 "metadata": {
  "kernelspec": {
   "display_name": "Python 3",
   "language": "python",
   "name": "python3"
  },
  "language_info": {
   "codemirror_mode": {
    "name": "ipython",
    "version": 3
   },
   "file_extension": ".py",
   "mimetype": "text/x-python",
   "name": "python",
   "nbconvert_exporter": "python",
   "pygments_lexer": "ipython3",
   "version": "3.6.5"
  }
 },
 "nbformat": 4,
 "nbformat_minor": 2
}
