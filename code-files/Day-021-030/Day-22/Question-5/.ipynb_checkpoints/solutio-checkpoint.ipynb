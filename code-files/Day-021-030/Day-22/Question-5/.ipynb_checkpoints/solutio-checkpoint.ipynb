{
 "cells": [
  {
   "cell_type": "code",
   "execution_count": 4,
   "metadata": {},
   "outputs": [
    {
     "name": "stdout",
     "output_type": "stream",
     "text": [
      "1 3 1 3 1 4 1 3 2 5 5 5 5 5 5 5 5 5 5 5 5 5 5 5 5 5\n"
     ]
    }
   ],
   "source": [
    "sizeArray = list(map(int, input().rstrip().split()))"
   ]
  },
  {
   "cell_type": "code",
   "execution_count": 18,
   "metadata": {},
   "outputs": [
    {
     "data": {
      "text/plain": [
       "9"
      ]
     },
     "execution_count": 18,
     "metadata": {},
     "output_type": "execute_result"
    }
   ],
   "source": [
    "def pdfViewer(sizeArray, string):\n",
    "    dictOfSize = {}\n",
    "    index = 0\n",
    "    for i in range(97,123):\n",
    "        dictOfSize[chr(i)] = sizeArray[index]\n",
    "        index += 1\n",
    "    #print(dictOfSize)\n",
    "    \n",
    "    maxheight = float('-inf')\n",
    "    for char in string:\n",
    "        if char in dictOfSize:\n",
    "            if dictOfSize[char] > maxheight:\n",
    "                maxheight = dictOfSize[char]\n",
    "                \n",
    "    return (maxheight*len(string))\n",
    "        \n",
    "\n",
    "pdfViewer(sizeArray, \"abc\")"
   ]
  },
  {
   "cell_type": "code",
   "execution_count": 11,
   "metadata": {},
   "outputs": [
    {
     "data": {
      "text/plain": [
       "122"
      ]
     },
     "execution_count": 11,
     "metadata": {},
     "output_type": "execute_result"
    }
   ],
   "source": [
    "ord('z')"
   ]
  },
  {
   "cell_type": "code",
   "execution_count": null,
   "metadata": {},
   "outputs": [],
   "source": []
  }
 ],
 "metadata": {
  "kernelspec": {
   "display_name": "Python 3",
   "language": "python",
   "name": "python3"
  },
  "language_info": {
   "codemirror_mode": {
    "name": "ipython",
    "version": 3
   },
   "file_extension": ".py",
   "mimetype": "text/x-python",
   "name": "python",
   "nbconvert_exporter": "python",
   "pygments_lexer": "ipython3",
   "version": "3.6.5"
  }
 },
 "nbformat": 4,
 "nbformat_minor": 2
}
