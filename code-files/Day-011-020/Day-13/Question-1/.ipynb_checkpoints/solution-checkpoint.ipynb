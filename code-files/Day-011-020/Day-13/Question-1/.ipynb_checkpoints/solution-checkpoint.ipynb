{
 "cells": [
  {
   "cell_type": "code",
   "execution_count": 20,
   "metadata": {},
   "outputs": [
    {
     "name": "stdout",
     "output_type": "stream",
     "text": [
      "7.0\n",
      "5\n"
     ]
    }
   ],
   "source": [
    "def bonAppetit(bill, k, b):\n",
    "    bobShouldveCharged = (sum(bill[:k]) + sum(bill[k+1:]))/2\n",
    "    print(bobShouldveCharged)\n",
    "    if bobShouldveCharged == b:\n",
    "        print(\"Bon Appetit\")\n",
    "    else:\n",
    "        print(int(b - bobShouldveCharged))\n",
    "\n",
    "bonAppetit([3, 10, 2, 9],1,12)"
   ]
  },
  {
   "cell_type": "code",
   "execution_count": 2,
   "metadata": {},
   "outputs": [],
   "source": [
    "test = [3, 10, 2, 9]\n"
   ]
  },
  {
   "cell_type": "code",
   "execution_count": 7,
   "metadata": {},
   "outputs": [
    {
     "data": {
      "text/plain": [
       "11"
      ]
     },
     "execution_count": 7,
     "metadata": {},
     "output_type": "execute_result"
    }
   ],
   "source": [
    "sumBefore = sum(test[1+1:])\n",
    "sumBefore"
   ]
  },
  {
   "cell_type": "code",
   "execution_count": null,
   "metadata": {},
   "outputs": [],
   "source": []
  }
 ],
 "metadata": {
  "kernelspec": {
   "display_name": "Python 3",
   "language": "python",
   "name": "python3"
  },
  "language_info": {
   "codemirror_mode": {
    "name": "ipython",
    "version": 3
   },
   "file_extension": ".py",
   "mimetype": "text/x-python",
   "name": "python",
   "nbconvert_exporter": "python",
   "pygments_lexer": "ipython3",
   "version": "3.6.5"
  }
 },
 "nbformat": 4,
 "nbformat_minor": 2
}
