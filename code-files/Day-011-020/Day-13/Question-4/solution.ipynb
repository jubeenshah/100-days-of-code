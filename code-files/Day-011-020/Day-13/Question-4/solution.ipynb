{
 "cells": [
  {
   "cell_type": "code",
   "execution_count": 25,
   "metadata": {},
   "outputs": [
    {
     "name": "stdout",
     "output_type": "stream",
     "text": [
      "1 5 3 4 2  \n"
     ]
    },
    {
     "data": {
      "text/plain": [
       "3"
      ]
     },
     "execution_count": 25,
     "metadata": {},
     "output_type": "execute_result"
    }
   ],
   "source": [
    "def pairs(k, nums):\n",
    "    i,j,numPairs = 0, 1, 0\n",
    "    nums.sort()\n",
    "    while j < len(nums):\n",
    "        difference = nums[j] - nums[i]\n",
    "        if difference > k:\n",
    "            i += 1\n",
    "        if difference < k:\n",
    "            j += 1\n",
    "        if difference == k:\n",
    "            numPairs += 1\n",
    "            j += 1\n",
    "    return numPairs\n",
    "    \n",
    "\n",
    "pairs(2, nums = list(map(int, input().rstrip().split())))"
   ]
  },
  {
   "cell_type": "code",
   "execution_count": null,
   "metadata": {},
   "outputs": [],
   "source": []
  },
  {
   "cell_type": "code",
   "execution_count": null,
   "metadata": {},
   "outputs": [],
   "source": []
  }
 ],
 "metadata": {
  "kernelspec": {
   "display_name": "Python 3",
   "language": "python",
   "name": "python3"
  },
  "language_info": {
   "codemirror_mode": {
    "name": "ipython",
    "version": 3
   },
   "file_extension": ".py",
   "mimetype": "text/x-python",
   "name": "python",
   "nbconvert_exporter": "python",
   "pygments_lexer": "ipython3",
   "version": "3.6.5"
  }
 },
 "nbformat": 4,
 "nbformat_minor": 2
}
