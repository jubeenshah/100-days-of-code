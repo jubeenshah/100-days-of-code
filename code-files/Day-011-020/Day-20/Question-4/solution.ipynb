{
 "cells": [
  {
   "cell_type": "code",
   "execution_count": 11,
   "metadata": {},
   "outputs": [
    {
     "name": "stdout",
     "output_type": "stream",
     "text": [
      "3\n"
     ]
    }
   ],
   "source": [
    "def lengthOfLongestSubstring(s):\n",
    "    maxLength = float('-inf')\n",
    "    if not s:\n",
    "        return 0\n",
    "    listOfSubstrings = []\n",
    "    for i in range(len(s)):\n",
    "        tempList = []\n",
    "        for j in s[i:]:\n",
    "            if j in tempList:\n",
    "                break\n",
    "            else:\n",
    "                tempList.append(j)\n",
    "        if len(tempList) > maxLength:\n",
    "            maxLength = len(tempList)\n",
    "    print(maxLength)\n",
    "    pass\n",
    "\n",
    "lengthOfLongestSubstring(\"abcabcbb\")"
   ]
  },
  {
   "cell_type": "code",
   "execution_count": null,
   "metadata": {},
   "outputs": [],
   "source": []
  }
 ],
 "metadata": {
  "kernelspec": {
   "display_name": "Python 3",
   "language": "python",
   "name": "python3"
  },
  "language_info": {
   "codemirror_mode": {
    "name": "ipython",
    "version": 3
   },
   "file_extension": ".py",
   "mimetype": "text/x-python",
   "name": "python",
   "nbconvert_exporter": "python",
   "pygments_lexer": "ipython3",
   "version": "3.6.5"
  }
 },
 "nbformat": 4,
 "nbformat_minor": 2
}
