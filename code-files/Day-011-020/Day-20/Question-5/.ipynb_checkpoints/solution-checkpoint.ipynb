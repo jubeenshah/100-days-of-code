{
 "cells": [
  {
   "cell_type": "code",
   "execution_count": 71,
   "metadata": {},
   "outputs": [
    {
     "name": "stdout",
     "output_type": "stream",
     "text": [
      "6421\n"
     ]
    }
   ],
   "source": [
    "import collections\n",
    "def climbingLeaderboard(scores, alice):\n",
    "    rankDict = collections.Counter(scores)\n",
    "    #print(rankDict)\n",
    "    #for index, value in enumerate(rankDict):\n",
    "        #print(index+1,value, rankDict[value])\n",
    "    stringToReturn = \"\"\n",
    "    for aliceScore in alice:\n",
    "        scores.append(aliceScore)\n",
    "        rankDict = collections.Counter(scores)\n",
    "        rankDict = dict(sorted(rankDict.items(),key= lambda lv : lv[0],reverse=True))\n",
    "        tempList = []\n",
    "        for i in rankDict.keys():\n",
    "            tempList.append(i)\n",
    "        stringToReturn += str(tempList.index(aliceScore)+1)\n",
    "        #for index, value in enumerate(rankDict):\n",
    "        #    if value == aliceScore:\n",
    "        #        print(index+1)\n",
    "            #print(index+1,value, rankDict[value])\n",
    "        #print(rankDict)\n",
    "        \n",
    "        scores.remove(aliceScore)\n",
    "    print(stringToReturn)\n",
    "\n",
    "climbingLeaderboard([100, 100, 50, 40, 40, 20, 10],[5, 25, 50, 120])"
   ]
  },
  {
   "cell_type": "code",
   "execution_count": 67,
   "metadata": {},
   "outputs": [
    {
     "name": "stdout",
     "output_type": "stream",
     "text": [
      "[100, 50, 40, 25, 20, 10]\n"
     ]
    },
    {
     "data": {
      "text/plain": [
       "4"
      ]
     },
     "execution_count": 67,
     "metadata": {},
     "output_type": "execute_result"
    }
   ],
   "source": [
    "test = {100: 2, 50: 1, 40: 2, 25: 1, 20: 1, 10: 1}\n",
    "testList = test.keys()\n",
    "(testList)\n",
    "test2 = []\n",
    "for i in testList:\n",
    "    test2.append(i)\n",
    "print(test2)\n",
    "test2.index(25)+1"
   ]
  },
  {
   "cell_type": "code",
   "execution_count": 92,
   "metadata": {},
   "outputs": [
    {
     "name": "stdout",
     "output_type": "stream",
     "text": [
      "[100, 50, 40, 20, 10]\n",
      "[100, 50, 40, 20, 10, 10]\n",
      "[100, 50, 40, 20, 20, 10]\n",
      "[100, 50, 40, 40, 20, 10]\n",
      "[100, 100, 50, 40, 20, 10]\n",
      "5431\n"
     ]
    }
   ],
   "source": [
    "import collections\n",
    "def climbingLeaderboard(scores, alice):\n",
    "    uniqueSortedScores = sorted(set(scores),reverse=True)\n",
    "    print(uniqueSortedScores)\n",
    "    stringToReturn = \"\"\n",
    "    for aliceScore in alice:\n",
    "        uniqueSortedScores.append(aliceScore)\n",
    "        uniqueSortedScores = sorted(uniqueSortedScores,reverse=True)\n",
    "        print(uniqueSortedScores)\n",
    "        stringToReturn += str(uniqueSortedScores.index(aliceScore)+1)\n",
    "        uniqueSortedScores.remove(aliceScore)\n",
    "    print(stringToReturn)\n",
    "\n",
    "climbingLeaderboard([100, 100, 50, 40, 40, 20, 10],[10, 20, 40, 100])"
   ]
  },
  {
   "cell_type": "code",
   "execution_count": 60,
   "metadata": {},
   "outputs": [
    {
     "ename": "TypeError",
     "evalue": "'dict_keys' object is not callable",
     "output_type": "error",
     "traceback": [
      "\u001b[0;31m---------------------------------------------------------------------------\u001b[0m",
      "\u001b[0;31mTypeError\u001b[0m                                 Traceback (most recent call last)",
      "\u001b[0;32m<ipython-input-60-77c187a514dd>\u001b[0m in \u001b[0;36m<module>\u001b[0;34m()\u001b[0m\n\u001b[0;32m----> 1\u001b[0;31m \u001b[0mdictkeys\u001b[0m \u001b[0;34m=\u001b[0m \u001b[0mlist\u001b[0m \u001b[0;34m(\u001b[0m\u001b[0mwordFreqDic\u001b[0m\u001b[0;34m.\u001b[0m\u001b[0mkeys\u001b[0m\u001b[0;34m(\u001b[0m\u001b[0;34m)\u001b[0m\u001b[0;34m)\u001b[0m\u001b[0;34m\u001b[0m\u001b[0m\n\u001b[0m",
      "\u001b[0;31mTypeError\u001b[0m: 'dict_keys' object is not callable"
     ]
    }
   ],
   "source": [
    "unique_scores = list(reversed(sorted(set(scores))))\n",
    "\n",
    "    i = len(alice)-1\n",
    "    j = 0\n",
    "    ans = []\n",
    "\n",
    "    while i >= 0:\n",
    "        if j >= len(unique_scores) or unique_scores[j] <= alice[i]:\n",
    "            ans.append(j+1)\n",
    "            i -= 1\n",
    "        else:\n",
    "            j += 1\n",
    "\n",
    "    return reversed(ans)"
   ]
  },
  {
   "cell_type": "code",
   "execution_count": null,
   "metadata": {},
   "outputs": [],
   "source": []
  }
 ],
 "metadata": {
  "kernelspec": {
   "display_name": "Python 3",
   "language": "python",
   "name": "python3"
  },
  "language_info": {
   "codemirror_mode": {
    "name": "ipython",
    "version": 3
   },
   "file_extension": ".py",
   "mimetype": "text/x-python",
   "name": "python",
   "nbconvert_exporter": "python",
   "pygments_lexer": "ipython3",
   "version": "3.6.5"
  }
 },
 "nbformat": 4,
 "nbformat_minor": 2
}
