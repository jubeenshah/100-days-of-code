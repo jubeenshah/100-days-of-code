{
 "cells": [
  {
   "cell_type": "code",
   "execution_count": 14,
   "metadata": {},
   "outputs": [
    {
     "name": "stdout",
     "output_type": "stream",
     "text": [
      "[1, 3, 3, 4, 5, 6]\n",
      "3 3\n",
      "4 3\n",
      "5 4\n",
      "6 5\n",
      "[3, 3, 4, 3, 5, 4, 6, 5]\n"
     ]
    }
   ],
   "source": [
    "def pickingNumbers(a):\n",
    "    # Write your code here\n",
    "    return max([((a.count(i)+ a.count(i+1))) for i in set(a)])\n",
    "                \n",
    "    \n",
    "\n",
    "pickingNumbers([4,6,5,3,3,1])"
   ]
  },
  {
   "cell_type": "code",
   "execution_count": null,
   "metadata": {},
   "outputs": [],
   "source": []
  }
 ],
 "metadata": {
  "kernelspec": {
   "display_name": "Python 3",
   "language": "python",
   "name": "python3"
  },
  "language_info": {
   "codemirror_mode": {
    "name": "ipython",
    "version": 3
   },
   "file_extension": ".py",
   "mimetype": "text/x-python",
   "name": "python",
   "nbconvert_exporter": "python",
   "pygments_lexer": "ipython3",
   "version": "3.6.5"
  }
 },
 "nbformat": 4,
 "nbformat_minor": 2
}
