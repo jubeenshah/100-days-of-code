{
 "cells": [
  {
   "cell_type": "code",
   "execution_count": 6,
   "metadata": {},
   "outputs": [],
   "source": []
  },
  {
   "cell_type": "code",
   "execution_count": 43,
   "metadata": {},
   "outputs": [
    {
     "name": "stdout",
     "output_type": "stream",
     "text": [
      "[5, 4, 8, 7]\n",
      "[8, 9, 1, 3]\n",
      "7845\n",
      "3198\n",
      "11043\n"
     ]
    }
   ],
   "source": [
    "import random\n",
    "l1List = [random.randint(1,9) for i in range(1,5)]\n",
    "print(l1List)\n",
    "l2List = [random.randint(1,9) for i in range(1,5)]\n",
    "print(l2List)\n",
    "l1List.reverse()\n",
    "l2List.reverse()\n",
    "\n",
    "list1Length = len(l1List)-1\n",
    "list2Length = len(l1List)-1\n",
    "\n",
    "int1Val = 0\n",
    "int2Val = 0\n",
    "\n",
    "\n",
    "for element in l1List:\n",
    "    #print(element,listLength,al1List)\n",
    "    int1Val = int1Val + (element * 10**(list1Length))\n",
    "    list1Length -=1\n",
    "print(int1Val)   \n",
    "for element in l2List:\n",
    "    #print(element,listLength,l1List)\n",
    "    int2Val = int2Val + (element * 10**(list2Length))\n",
    "    list2Length -=1\n",
    "print(int2Val)\n",
    "print(int1Val+int2Val)\n",
    "#print(intVal)"
   ]
  },
  {
   "cell_type": "code",
   "execution_count": 35,
   "metadata": {},
   "outputs": [
    {
     "data": {
      "text/plain": [
       "3"
      ]
     },
     "execution_count": 35,
     "metadata": {},
     "output_type": "execute_result"
    }
   ],
   "source": []
  },
  {
   "cell_type": "code",
   "execution_count": null,
   "metadata": {},
   "outputs": [],
   "source": []
  }
 ],
 "metadata": {
  "kernelspec": {
   "display_name": "Python 3",
   "language": "python",
   "name": "python3"
  },
  "language_info": {
   "codemirror_mode": {
    "name": "ipython",
    "version": 3
   },
   "file_extension": ".py",
   "mimetype": "text/x-python",
   "name": "python",
   "nbconvert_exporter": "python",
   "pygments_lexer": "ipython3",
   "version": "3.6.5"
  }
 },
 "nbformat": 4,
 "nbformat_minor": 2
}
