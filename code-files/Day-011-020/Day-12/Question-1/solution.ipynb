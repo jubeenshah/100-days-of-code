{
 "cells": [
  {
   "cell_type": "code",
   "execution_count": 101,
   "metadata": {},
   "outputs": [
    {
     "data": {
      "text/plain": [
       "29"
      ]
     },
     "execution_count": 101,
     "metadata": {},
     "output_type": "execute_result"
    }
   ],
   "source": [
    "import collections\n",
    "def luckBalance(k, contests):\n",
    "    oneList, minLuck,zeroList=  [], [], []\n",
    "    zeroListSum = 0\n",
    "    oneListSum = 0\n",
    "    for i in contests:\n",
    "        if i[1] == 1: oneList.append(i)\n",
    "        else: zeroList.append(i)\n",
    "    numberOfContestsToWin = len(oneList) - k\n",
    "    for _ in range(numberOfContestsToWin):\n",
    "        minLuck.append(min(oneList))\n",
    "        oneList.remove(min(oneList))\n",
    "    \n",
    "    for i in zeroList:\n",
    "        zeroListSum += i[0]\n",
    "    #print(zeroListSum)\n",
    "    for i in oneList:\n",
    "        oneListSum += i[0]\n",
    "    #print(\"oneList:\", oneListSum)\n",
    "    sumToReturn = oneListSum + zeroListSum\n",
    "    for i in minLuck:\n",
    "        sumToReturn -= i[0]\n",
    "        \n",
    "    #print(sumToReturn)\n",
    "    return sumToReturn\n",
    "    \n",
    "luckBalance(3, [[5, 1], [2, 1], [1, 1], [8, 1], [10, 0], [5, 0]])"
   ]
  },
  {
   "cell_type": "code",
   "execution_count": 33,
   "metadata": {},
   "outputs": [
    {
     "data": {
      "text/plain": [
       "4"
      ]
     },
     "execution_count": 33,
     "metadata": {},
     "output_type": "execute_result"
    }
   ],
   "source": [
    "test =[[5, 1], [2, 1], [1, 1], [8, 1], [1, 0], [5, 0]]\n",
    "test.index(min(test))"
   ]
  },
  {
   "cell_type": "code",
   "execution_count": 42,
   "metadata": {},
   "outputs": [],
   "source": [
    "test =[[5, 1], [2, 1], [1, 1], [8, 1], [10, 0], [5, 0]]"
   ]
  },
  {
   "cell_type": "code",
   "execution_count": 43,
   "metadata": {},
   "outputs": [],
   "source": [
    "\n",
    "oneList = []\n",
    "zeroList = []\n",
    "for i in test:\n",
    "    if i[1] == 1:\n",
    "        oneList.append(i)\n",
    "    else:\n",
    "        zeroList.append(i) "
   ]
  },
  {
   "cell_type": "code",
   "execution_count": 44,
   "metadata": {},
   "outputs": [
    {
     "data": {
      "text/plain": [
       "[[10, 0], [5, 0]]"
      ]
     },
     "execution_count": 44,
     "metadata": {},
     "output_type": "execute_result"
    }
   ],
   "source": [
    "zeroList"
   ]
  },
  {
   "cell_type": "code",
   "execution_count": 45,
   "metadata": {},
   "outputs": [
    {
     "data": {
      "text/plain": [
       "[[5, 1], [2, 1], [1, 1], [8, 1]]"
      ]
     },
     "execution_count": 45,
     "metadata": {},
     "output_type": "execute_result"
    }
   ],
   "source": [
    "oneList"
   ]
  },
  {
   "cell_type": "code",
   "execution_count": null,
   "metadata": {},
   "outputs": [],
   "source": []
  }
 ],
 "metadata": {
  "kernelspec": {
   "display_name": "Python 3",
   "language": "python",
   "name": "python3"
  },
  "language_info": {
   "codemirror_mode": {
    "name": "ipython",
    "version": 3
   },
   "file_extension": ".py",
   "mimetype": "text/x-python",
   "name": "python",
   "nbconvert_exporter": "python",
   "pygments_lexer": "ipython3",
   "version": "3.6.5"
  }
 },
 "nbformat": 4,
 "nbformat_minor": 2
}
