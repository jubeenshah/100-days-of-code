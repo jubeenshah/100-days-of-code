{
 "cells": [
  {
   "cell_type": "code",
   "execution_count": 48,
   "metadata": {},
   "outputs": [
    {
     "data": {
      "text/plain": [
       "2"
      ]
     },
     "execution_count": 48,
     "metadata": {},
     "output_type": "execute_result"
    }
   ],
   "source": [
    "dictFibo = {}\n",
    "def climbingStairs(n):\n",
    "    global dictFibo\n",
    "    if n in dictFibo:\n",
    "        ans = dictFibo[n]\n",
    "    elif n < 2:\n",
    "        ans = 1\n",
    "        dictFibo[n] = ans\n",
    "    else:\n",
    "        ans = climbingStairs(n-1) + climbingStairs(n-2)\n",
    "        dictFibo[n] = ans\n",
    "    return ans\n",
    "climbingStairs(2)"
   ]
  }
 ],
 "metadata": {
  "kernelspec": {
   "display_name": "Python 3",
   "language": "python",
   "name": "python3"
  },
  "language_info": {
   "codemirror_mode": {
    "name": "ipython",
    "version": 3
   },
   "file_extension": ".py",
   "mimetype": "text/x-python",
   "name": "python",
   "nbconvert_exporter": "python",
   "pygments_lexer": "ipython3",
   "version": "3.6.5"
  }
 },
 "nbformat": 4,
 "nbformat_minor": 2
}
