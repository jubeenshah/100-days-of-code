{
 "cells": [
  {
   "cell_type": "code",
   "execution_count": 6,
   "metadata": {},
   "outputs": [
    {
     "data": {
      "text/plain": [
       "'26.09.1918'"
      ]
     },
     "execution_count": 6,
     "metadata": {},
     "output_type": "execute_result"
    }
   ],
   "source": [
    "def dayOfProgrammer(year):\n",
    "    if year > 1918:\n",
    "        if (year % 400 == 0) or ((year % 4 ==0) and (year % 100 !=0)):\n",
    "            returnString = '12.09.'+str(year)\n",
    "        else:\n",
    "            returnString ='13.09.'+str(year)\n",
    "    elif year < 1918:\n",
    "        if (year % 4 ==0):\n",
    "            returnString ='12.09.'+str(year)\n",
    "        else:\n",
    "            returnString ='13.09.'+str(year)\n",
    "    else:\n",
    "        returnString = '26.09.'+str(year)\n",
    "    return returnString\n",
    "dayOfProgrammer(1918)"
   ]
  },
  {
   "cell_type": "code",
   "execution_count": null,
   "metadata": {},
   "outputs": [],
   "source": []
  }
 ],
 "metadata": {
  "kernelspec": {
   "display_name": "Python 3",
   "language": "python",
   "name": "python3"
  },
  "language_info": {
   "codemirror_mode": {
    "name": "ipython",
    "version": 3
   },
   "file_extension": ".py",
   "mimetype": "text/x-python",
   "name": "python",
   "nbconvert_exporter": "python",
   "pygments_lexer": "ipython3",
   "version": "3.6.5"
  }
 },
 "nbformat": 4,
 "nbformat_minor": 2
}
