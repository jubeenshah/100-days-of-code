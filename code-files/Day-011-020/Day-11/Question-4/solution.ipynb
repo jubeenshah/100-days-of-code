{
 "cells": [
  {
   "cell_type": "code",
   "execution_count": 11,
   "metadata": {},
   "outputs": [
    {
     "data": {
      "text/plain": [
       "'13.09.2017'"
      ]
     },
     "execution_count": 11,
     "metadata": {},
     "output_type": "execute_result"
    }
   ],
   "source": [
    "def dayOfProgrammer(year):\n",
    "    if year >= 1919:\n",
    "        if (year % 400 == 0) or ((year % 4 ==0) and (year % 100 !=0)):\n",
    "            returnString = '12.09.'+str(year)\n",
    "        else:\n",
    "            returnString ='13.09.'+str(year)\n",
    "    elif year < 1918:\n",
    "        if (year % 4 ==0):\n",
    "            returnString ='12.09.'+str(year)\n",
    "        else:\n",
    "            returnString ='13.09.'+str(year)\n",
    "    return returnString\n",
    "dayOfProgrammer(2017)"
   ]
  }
 ],
 "metadata": {
  "kernelspec": {
   "display_name": "Python 3",
   "language": "python",
   "name": "python3"
  },
  "language_info": {
   "codemirror_mode": {
    "name": "ipython",
    "version": 3
   },
   "file_extension": ".py",
   "mimetype": "text/x-python",
   "name": "python",
   "nbconvert_exporter": "python",
   "pygments_lexer": "ipython3",
   "version": "3.6.5"
  }
 },
 "nbformat": 4,
 "nbformat_minor": 2
}
