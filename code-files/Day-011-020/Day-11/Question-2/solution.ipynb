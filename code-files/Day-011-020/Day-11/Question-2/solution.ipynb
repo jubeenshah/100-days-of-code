{
 "cells": [
  {
   "cell_type": "code",
   "execution_count": 159,
   "metadata": {},
   "outputs": [
    {
     "name": "stdout",
     "output_type": "stream",
     "text": [
      "aca\n",
      "{'a', 'c'}\n",
      "{'c', 'b'}\n",
      "{'a'}\n",
      " -> 0\n",
      "a -> 1\n"
     ]
    },
    {
     "data": {
      "text/plain": [
       "''"
      ]
     },
     "execution_count": 159,
     "metadata": {},
     "output_type": "execute_result"
    }
   ],
   "source": [
    "def longestPrefix(strs):\n",
    "    #print(strs)\n",
    "    if not strs:\n",
    "        return ''\n",
    "    minString = (sorted({st : len(st) for st in strs}.items(), key =lambda lv: lv[1]))[0][0]\n",
    "    print(minString)\n",
    "    if minString == '':\n",
    "        return ''\n",
    "    returnString = ''\n",
    "    maxLen = float('-inf')\n",
    "    strList = []\n",
    "    for index,value in enumerate(zip(*strs)):\n",
    "        print((set(value)))\n",
    "        #print(len(set(value)))\n",
    "        if len(set(value)) == 1:\n",
    "            returnString += str(set(value).pop())\n",
    "        else:\n",
    "            \n",
    "            strList.append(returnString)\n",
    "            returnString = ''\n",
    "    \n",
    "    strList.append(returnString)\n",
    "    #print(returnString,strList)\n",
    "    minStringNew = ''\n",
    "    returnString = ''\n",
    "    if strList != []:\n",
    "        minStringNew = ({st : len(st) for st in strList})\n",
    "        maxLen = float('-inf')\n",
    "        for key, value in enumerate(minStringNew):\n",
    "            print(value,\"->\",(minStringNew[value]))\n",
    "            if (minStringNew[value]) > maxLen and len(value)>1:\n",
    "                returnString = value\n",
    "                maxLen = minStringNew[value]\n",
    "    return ((returnString))\n",
    "    \n",
    "\n",
    "longestPrefix([\"aca\",\"cba\"])"
   ]
  },
  {
   "cell_type": "code",
   "execution_count": 99,
   "metadata": {},
   "outputs": [],
   "source": [
    "x = {'f'}"
   ]
  },
  {
   "cell_type": "code",
   "execution_count": 100,
   "metadata": {},
   "outputs": [
    {
     "data": {
      "text/plain": [
       "'f'"
      ]
     },
     "execution_count": 100,
     "metadata": {},
     "output_type": "execute_result"
    }
   ],
   "source": [
    "(x.pop())"
   ]
  },
  {
   "cell_type": "code",
   "execution_count": 163,
   "metadata": {},
   "outputs": [
    {
     "name": "stdout",
     "output_type": "stream",
     "text": [
      "abc fec\n",
      "f a abc\n"
     ]
    },
    {
     "data": {
      "text/plain": [
       "''"
      ]
     },
     "execution_count": 163,
     "metadata": {},
     "output_type": "execute_result"
    }
   ],
   "source": [
    "def longestPrefix2(m):\n",
    "    if not m: return ''\n",
    "\n",
    "    s1 = min(m)\n",
    "    s2 = max(m)\n",
    "    print(s1,s2)\n",
    "    for i, c in enumerate(s1):\n",
    "        print(s2[i],c,s1)\n",
    "        if c != s2[i]:\n",
    "            return s1[:i] #stop until hit the split index\n",
    "    return s1\n",
    "\n",
    "longestPrefix2([\"abc\",\"adbc\",\"fec\"])"
   ]
  },
  {
   "cell_type": "code",
   "execution_count": null,
   "metadata": {},
   "outputs": [],
   "source": []
  }
 ],
 "metadata": {
  "kernelspec": {
   "display_name": "Python 3",
   "language": "python",
   "name": "python3"
  },
  "language_info": {
   "codemirror_mode": {
    "name": "ipython",
    "version": 3
   },
   "file_extension": ".py",
   "mimetype": "text/x-python",
   "name": "python",
   "nbconvert_exporter": "python",
   "pygments_lexer": "ipython3",
   "version": "3.6.5"
  }
 },
 "nbformat": 4,
 "nbformat_minor": 2
}
