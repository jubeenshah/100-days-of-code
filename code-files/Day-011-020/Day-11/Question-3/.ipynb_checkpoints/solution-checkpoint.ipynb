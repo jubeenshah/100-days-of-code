{
 "cells": [
  {
   "cell_type": "code",
   "execution_count": 60,
   "metadata": {},
   "outputs": [
    {
     "data": {
      "text/plain": [
       "False"
      ]
     },
     "execution_count": 60,
     "metadata": {},
     "output_type": "execute_result"
    }
   ],
   "source": [
    "def isValid(s):\n",
    "    leftBrackets = ['(', '[','{']\n",
    "    rightBrackets = [')', ']','}']\n",
    "    valid = {'{':'}', '(':')', '[':']'}\n",
    "    if s == \"\":\n",
    "        return True\n",
    "    if len(s) %2 != 0:\n",
    "        return False\n",
    "    stack = []\n",
    "    returnValue = False\n",
    "    for each in s:\n",
    "        if each in leftBrackets:\n",
    "            stack.append(each)\n",
    "        else:\n",
    "            print(stack,each)\n",
    "            if stack != []:\n",
    "                checkParantheses = stack.pop()\n",
    "                if valid[checkParantheses] == each:\n",
    "                    returnValue = True\n",
    "                    continue\n",
    "                else:\n",
    "                    return False\n",
    "    \n",
    "    if stack != []:\n",
    "        return False\n",
    "    return returnValue\n",
    "\n",
    "\n",
    "isValid('[])')"
   ]
  },
  {
   "cell_type": "code",
   "execution_count": null,
   "metadata": {},
   "outputs": [],
   "source": []
  },
  {
   "cell_type": "code",
   "execution_count": null,
   "metadata": {},
   "outputs": [],
   "source": []
  }
 ],
 "metadata": {
  "kernelspec": {
   "display_name": "Python 3",
   "language": "python",
   "name": "python3"
  },
  "language_info": {
   "codemirror_mode": {
    "name": "ipython",
    "version": 3
   },
   "file_extension": ".py",
   "mimetype": "text/x-python",
   "name": "python",
   "nbconvert_exporter": "python",
   "pygments_lexer": "ipython3",
   "version": "3.6.5"
  }
 },
 "nbformat": 4,
 "nbformat_minor": 2
}
