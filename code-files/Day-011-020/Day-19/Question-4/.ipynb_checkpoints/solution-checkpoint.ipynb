{
 "cells": [
  {
   "cell_type": "code",
   "execution_count": null,
   "metadata": {},
   "outputs": [],
   "source": [
    "# Definition for a binary tree node.\n",
    "# class TreeNode(object):\n",
    "#     def __init__(self, x):\n",
    "#         self.val = x\n",
    "#         self.left = None\n",
    "#         self.right = None\n",
    "\n",
    "class Solution(object):\n",
    "    def isSameTree(self, p, q):\n",
    "        \"\"\"\n",
    "        :type p: TreeNode\n",
    "        :type q: TreeNode\n",
    "        :rtype: bool\n",
    "        \"\"\"\n",
    "        if not p and not q:\n",
    "            return True\n",
    "        if not p or not q:\n",
    "            return False\n",
    "        if p.val != q.val:\n",
    "            return False\n",
    "        return self.isSameTree(p.right,q.right) and self.isSameTree(p.left,q.left)"
   ]
  }
 ],
 "metadata": {
  "kernelspec": {
   "display_name": "Python 3",
   "language": "python",
   "name": "python3"
  },
  "language_info": {
   "codemirror_mode": {
    "name": "ipython",
    "version": 3
   },
   "file_extension": ".py",
   "mimetype": "text/x-python",
   "name": "python",
   "nbconvert_exporter": "python",
   "pygments_lexer": "ipython3",
   "version": "3.6.5"
  }
 },
 "nbformat": 4,
 "nbformat_minor": 2
}
