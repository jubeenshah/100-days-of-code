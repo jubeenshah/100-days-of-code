{
 "cells": [
  {
   "cell_type": "code",
   "execution_count": null,
   "metadata": {},
   "outputs": [],
   "source": [
    "def formingMagicSquare(s):\n",
    "    pre = [\n",
    "                [[8, 1, 6], [3, 5, 7], [4, 9, 2]],\n",
    "                [[6, 1, 8], [7, 5, 3], [2, 9, 4]],\n",
    "                [[4, 9, 2], [3, 5, 7], [8, 1, 6]],\n",
    "                [[2, 9, 4], [7, 5, 3], [6, 1, 8]], \n",
    "                [[8, 3, 4], [1, 5, 9], [6, 7, 2]],\n",
    "                [[4, 3, 8], [9, 5, 1], [2, 7, 6]], \n",
    "                [[6, 7, 2], [1, 5, 9], [8, 3, 4]], \n",
    "                [[2, 7, 6], [9, 5, 1], [4, 3, 8]],\n",
    "                ]\n",
    "    totals = []\n",
    "    for p in pre:\n",
    "        total = 0\n",
    "        for p_row, s_row in zip(p, s):\n",
    "            for i, j in zip(p_row, s_row):\n",
    "                if not i == j:\n",
    "                    total += max([i, j]) - min([i, j])\n",
    "        totals.append(total)\n",
    "    return min(totals)"
   ]
  }
 ],
 "metadata": {
  "kernelspec": {
   "display_name": "Python 3",
   "language": "python",
   "name": "python3"
  },
  "language_info": {
   "codemirror_mode": {
    "name": "ipython",
    "version": 3
   },
   "file_extension": ".py",
   "mimetype": "text/x-python",
   "name": "python",
   "nbconvert_exporter": "python",
   "pygments_lexer": "ipython3",
   "version": "3.6.5"
  }
 },
 "nbformat": 4,
 "nbformat_minor": 2
}
