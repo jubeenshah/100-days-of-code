{
 "cells": [
  {
   "cell_type": "code",
   "execution_count": 84,
   "metadata": {},
   "outputs": [
    {
     "name": "stdout",
     "output_type": "stream",
     "text": [
      "70\n"
     ]
    }
   ],
   "source": [
    "import math\n",
    "def pageCount(n,p):\n",
    "    if n < p:\n",
    "        return 0\n",
    "    if p == 1:\n",
    "        return 0\n",
    "    if n % 2 != 0:\n",
    "        if (n == p or p == n-1):\n",
    "            return 0\n",
    "        else:\n",
    "            print(min(math.floor(p/2),math.floor((n-p)/2)))\n",
    "    if n % 2 == 0:\n",
    "        print(min(math.floor(p/2),math.ceil((n-p)/2)))\n",
    "        \n",
    "\n",
    "\n",
    "pageCount(18183,18042)"
   ]
  }
 ],
 "metadata": {
  "kernelspec": {
   "display_name": "Python 3",
   "language": "python",
   "name": "python3"
  },
  "language_info": {
   "codemirror_mode": {
    "name": "ipython",
    "version": 3
   },
   "file_extension": ".py",
   "mimetype": "text/x-python",
   "name": "python",
   "nbconvert_exporter": "python",
   "pygments_lexer": "ipython3",
   "version": "3.6.5"
  }
 },
 "nbformat": 4,
 "nbformat_minor": 2
}
