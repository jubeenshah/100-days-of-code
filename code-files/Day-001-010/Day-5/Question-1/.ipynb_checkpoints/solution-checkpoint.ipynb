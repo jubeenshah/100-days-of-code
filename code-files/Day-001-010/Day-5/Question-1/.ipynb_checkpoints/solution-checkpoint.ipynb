{
 "cells": [
  {
   "cell_type": "code",
   "execution_count": 49,
   "metadata": {},
   "outputs": [
    {
     "name": "stdout",
     "output_type": "stream",
     "text": [
      "No\n"
     ]
    }
   ],
   "source": [
    "import collections\n",
    "def checkMagazine(magazine, note):\n",
    "    printVal = \"0\"\n",
    "    if len(note) > len(magazine):\n",
    "            printVal = \"No\"\n",
    "    magazineCollection = dict(collections.Counter(magazine.split(\" \")))\n",
    "    for value in note.split(\" \"):\n",
    "        if value in magazineCollection and magazineCollection[value] != 0:\n",
    "            magazineCollection[value] -= 1\n",
    "            #print(value,magazineCollection[value])\n",
    "            continue\n",
    "        else:\n",
    "            #print(\"here\")\n",
    "            printVal = \"No\"\n",
    "    if printVal == \"No\":\n",
    "        print(\"No\")\n",
    "    else:\n",
    "        print(\"Yes\")\n",
    "\n",
    "checkMagazine(\"o l x imjaw bee khmla v o v o imjaw l khmla imjaw x\",\"imjaw l khmla x imjaw o l l o khmla v bee o o imjaw imjaw o\")"
   ]
  },
  {
   "cell_type": "code",
   "execution_count": null,
   "metadata": {},
   "outputs": [],
   "source": []
  }
 ],
 "metadata": {
  "kernelspec": {
   "display_name": "Python 3",
   "language": "python",
   "name": "python3"
  },
  "language_info": {
   "codemirror_mode": {
    "name": "ipython",
    "version": 3
   },
   "file_extension": ".py",
   "mimetype": "text/x-python",
   "name": "python",
   "nbconvert_exporter": "python",
   "pygments_lexer": "ipython3",
   "version": "3.6.5"
  }
 },
 "nbformat": 4,
 "nbformat_minor": 2
}
