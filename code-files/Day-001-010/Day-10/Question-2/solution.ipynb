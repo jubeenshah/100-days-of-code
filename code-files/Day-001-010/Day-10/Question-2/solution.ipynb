{
 "cells": [
  {
   "cell_type": "code",
   "execution_count": 95,
   "metadata": {},
   "outputs": [
    {
     "data": {
      "text/plain": [
       "495"
      ]
     },
     "execution_count": 95,
     "metadata": {},
     "output_type": "execute_result"
    }
   ],
   "source": [
    "def romanToInt(s) ->int:\n",
    "    dictRomanToInt = {'I'    :         1,\n",
    "                      'V'    :         5,\n",
    "                      'X'    :         10,\n",
    "                      'L'    :         50,\n",
    "                      'C'    :         100,\n",
    "                      'D'    :         500,\n",
    "                      'M'    :         1000}\n",
    "    intValueToReturn = 0\n",
    "    s = s[::-1]\n",
    "    for currentChar in range(1,len(s)):\n",
    "        if s[currentChar].capitalize() in dictRomanToInt:\n",
    "            #print(dictRomanToInt[currentChar])\n",
    "            #print(dictRomanToInt[s[currentChar]],dictRomanToInt[s[currentChar-1]],currentChar)\n",
    "            if dictRomanToInt[s[currentChar]] >= dictRomanToInt[s[currentChar-1]]:\n",
    "                intValueToReturn += dictRomanToInt[s[currentChar]]\n",
    "                #print(intValueToReturn,\"+\")\n",
    "            else:\n",
    "                intValueToReturn -= dictRomanToInt[s[currentChar]]\n",
    "                #print(intValueToReturn,\"-\")\n",
    "    intValueToReturn += dictRomanToInt[s[0]]\n",
    "    #print(intValueToReturn)\n",
    "    return intValueToReturn\n",
    "romanToInt(\"VCIICD\")"
   ]
  },
  {
   "cell_type": "code",
   "execution_count": 96,
   "metadata": {},
   "outputs": [
    {
     "name": "stdout",
     "output_type": "stream",
     "text": [
      "IDD 999\n",
      "ICMCI 1000\n",
      "IXCX 99\n",
      "LD 450\n",
      "LIX 59\n",
      "CLDICM 1449\n",
      "VX 5\n",
      "DLM 1450\n",
      "ML 1050\n"
     ]
    }
   ],
   "source": [
    "import random\n",
    "\n",
    "for i in range(1,10):\n",
    "    listS = ['I','V','X','L','C','D','M']\n",
    "    x = [listS[random.randint(0,len(listS)-1)] for _ in range(random.randint(1,len(listS)-1))] \n",
    "    x = ''.join(x)\n",
    "    print(x,romanToInt(x))"
   ]
  },
  {
   "cell_type": "code",
   "execution_count": null,
   "metadata": {},
   "outputs": [],
   "source": []
  }
 ],
 "metadata": {
  "kernelspec": {
   "display_name": "Python 3",
   "language": "python",
   "name": "python3"
  },
  "language_info": {
   "codemirror_mode": {
    "name": "ipython",
    "version": 3
   },
   "file_extension": ".py",
   "mimetype": "text/x-python",
   "name": "python",
   "nbconvert_exporter": "python",
   "pygments_lexer": "ipython3",
   "version": "3.6.5"
  }
 },
 "nbformat": 4,
 "nbformat_minor": 2
}
