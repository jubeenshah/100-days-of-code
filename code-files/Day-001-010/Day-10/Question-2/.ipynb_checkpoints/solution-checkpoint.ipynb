{
 "cells": [
  {
   "cell_type": "code",
   "execution_count": 81,
   "metadata": {},
   "outputs": [
    {
     "name": "stdout",
     "output_type": "stream",
     "text": [
      "-100 -\n",
      "-101 -\n",
      "-100 +\n",
      "0 +\n",
      "-5 -\n",
      "495\n"
     ]
    }
   ],
   "source": [
    "def romanToInt(s):\n",
    "    dictRomanToInt = {'I'    :         1,\n",
    "                      'V'    :         5,\n",
    "                      'X'    :         10,\n",
    "                      'L'    :         50,\n",
    "                      'C'    :         100,\n",
    "                      'D'    :         500,\n",
    "                      'M'    :         1000}\n",
    "    intValueToReturn = 0\n",
    "    s = s[::-1]\n",
    "    for currentChar in range(1,len(s)):\n",
    "        if s[currentChar].capitalize() in dictRomanToInt:\n",
    "            #print(dictRomanToInt[currentChar])\n",
    "            #print(dictRomanToInt[s[currentChar]],dictRomanToInt[s[currentChar-1]],currentChar)\n",
    "            if dictRomanToInt[s[currentChar]] >= dictRomanToInt[s[currentChar-1]]:\n",
    "                intValueToReturn += dictRomanToInt[s[currentChar]]\n",
    "                #print(intValueToReturn,\"+\")\n",
    "            else:\n",
    "                intValueToReturn -= dictRomanToInt[s[currentChar]]\n",
    "                #print(intValueToReturn,\"-\")\n",
    "    intValueToReturn += dictRomanToInt[s[0]]\n",
    "    print(intValueToReturn)\n",
    "romanToInt(\"VCIICD\")"
   ]
  },
  {
   "cell_type": "code",
   "execution_count": 11,
   "metadata": {},
   "outputs": [
    {
     "data": {
      "text/plain": [
       "['M', 'I', 'X']"
      ]
     },
     "execution_count": 11,
     "metadata": {},
     "output_type": "execute_result"
    }
   ],
   "source": [
    "s = \"MIX\"\n",
    "listRoman = [x for x in s]\n",
    "listRoman"
   ]
  },
  {
   "cell_type": "code",
   "execution_count": 4,
   "metadata": {},
   "outputs": [],
   "source": [
    "a = listS.pop()"
   ]
  },
  {
   "cell_type": "code",
   "execution_count": 89,
   "metadata": {},
   "outputs": [
    {
     "name": "stdout",
     "output_type": "stream",
     "text": [
      "5 +\n",
      "1005 +\n",
      "955 -\n",
      "954 -\n",
      "959 +\n",
      "964\n",
      "50 +\n",
      "1050 +\n",
      "1060\n",
      "-10 -\n",
      "40 +\n",
      "540 +\n",
      "1540 +\n",
      "1640\n",
      "1000 +\n",
      "500 -\n",
      "400 -\n",
      "1400 +\n",
      "900 -\n",
      "901\n",
      "-50 -\n",
      "450 +\n",
      "449 -\n",
      "1449\n",
      "1000 +\n",
      "2000 +\n",
      "1900 -\n",
      "2000 +\n",
      "1995 -\n",
      "2045\n",
      "500 +\n",
      "450 -\n",
      "1450 +\n",
      "1550\n",
      "500 +\n",
      "450 -\n",
      "550 +\n",
      "549 -\n",
      "1049\n",
      "1000 +\n",
      "2000 +\n",
      "1995 -\n",
      "2000 +\n",
      "3000\n"
     ]
    }
   ],
   "source": [
    "import random\n",
    "\n",
    "for i in range(1,10):\n",
    "    listS = ['I','V','X','L','C','D','M']\n",
    "    x = [listS[random.randint(0,len(listS)-1)] for _ in range(random.randint(1,len(listS)-1))] \n",
    "    x = ''.join(x)\n",
    "    romanToInt(x)"
   ]
  },
  {
   "cell_type": "code",
   "execution_count": 9,
   "metadata": {},
   "outputs": [],
   "source": []
  },
  {
   "cell_type": "code",
   "execution_count": 13,
   "metadata": {},
   "outputs": [
    {
     "name": "stdout",
     "output_type": "stream",
     "text": [
      "10\n"
     ]
    }
   ],
   "source": [
    "if 'X' in dictRomanToInt:\n",
    "    print(dictRomanToInt['X'])"
   ]
  },
  {
   "cell_type": "code",
   "execution_count": 14,
   "metadata": {},
   "outputs": [],
   "source": []
  },
  {
   "cell_type": "code",
   "execution_count": 31,
   "metadata": {},
   "outputs": [
    {
     "name": "stdout",
     "output_type": "stream",
     "text": [
      "Y\n"
     ]
    }
   ],
   "source": [
    "s = \"Y\"\n",
    "s = s.capitalize()\n",
    "print(s)"
   ]
  },
  {
   "cell_type": "code",
   "execution_count": 25,
   "metadata": {},
   "outputs": [
    {
     "data": {
      "text/plain": [
       "<function str.capitalize>"
      ]
     },
     "execution_count": 25,
     "metadata": {},
     "output_type": "execute_result"
    }
   ],
   "source": []
  },
  {
   "cell_type": "code",
   "execution_count": null,
   "metadata": {},
   "outputs": [],
   "source": []
  }
 ],
 "metadata": {
  "kernelspec": {
   "display_name": "Python 3",
   "language": "python",
   "name": "python3"
  },
  "language_info": {
   "codemirror_mode": {
    "name": "ipython",
    "version": 3
   },
   "file_extension": ".py",
   "mimetype": "text/x-python",
   "name": "python",
   "nbconvert_exporter": "python",
   "pygments_lexer": "ipython3",
   "version": "3.6.5"
  }
 },
 "nbformat": 4,
 "nbformat_minor": 2
}
