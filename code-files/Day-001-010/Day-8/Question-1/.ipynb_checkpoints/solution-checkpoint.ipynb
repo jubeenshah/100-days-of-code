{
 "cells": [
  {
   "cell_type": "code",
   "execution_count": 54,
   "metadata": {},
   "outputs": [
    {
     "name": "stdout",
     "output_type": "stream",
     "text": [
      "1 3 2 6 1 2\n"
     ]
    },
    {
     "data": {
      "text/plain": [
       "5"
      ]
     },
     "execution_count": 54,
     "metadata": {},
     "output_type": "execute_result"
    }
   ],
   "source": [
    "def divisibleSumPairs(n, k, ar):\n",
    "    target = k\n",
    "    #ar.sort()\n",
    "    counter = 0\n",
    "    for i in range(len(ar)-1):\n",
    "        #print(ar[i:],i)\n",
    "        for j in range(1+i,len(ar)):\n",
    "            if i < j and (ar[i]+ar[j])%target == 0:\n",
    "                #print(i,j,i+j,(i+j)%target)\n",
    "                counter += 1\n",
    "    return counter\n",
    "    \"\"\"\n",
    "    target = k\n",
    "    ar.sort()\n",
    "    dictMod = {}\n",
    "    \n",
    "    for value in range(k):\n",
    "        dictMod[value] = []\n",
    "    print(dictMod)\n",
    "    for element in ar:\n",
    "        modValue = element % target\n",
    "        if modValue in dictMod:\n",
    "            dictMod[modValue].append(element)\n",
    "    print(dictMod)\n",
    "    \"\"\"\n",
    "   \n",
    "    \n",
    "      \n",
    "\n",
    "divisibleSumPairs(2,3, ar = list(map(int, input().rstrip().split())))"
   ]
  },
  {
   "cell_type": "code",
   "execution_count": 3,
   "metadata": {},
   "outputs": [],
   "source": [
    "test = [1, 3, 2, 6, 1, 2]\n",
    "test.sort()"
   ]
  },
  {
   "cell_type": "code",
   "execution_count": 4,
   "metadata": {},
   "outputs": [
    {
     "data": {
      "text/plain": [
       "[1, 1, 2, 2, 3, 6]"
      ]
     },
     "execution_count": 4,
     "metadata": {},
     "output_type": "execute_result"
    }
   ],
   "source": [
    "test"
   ]
  },
  {
   "cell_type": "code",
   "execution_count": 26,
   "metadata": {},
   "outputs": [
    {
     "data": {
      "text/plain": [
       "0"
      ]
     },
     "execution_count": 26,
     "metadata": {},
     "output_type": "execute_result"
    }
   ],
   "source": [
    "18%2"
   ]
  },
  {
   "cell_type": "code",
   "execution_count": 45,
   "metadata": {},
   "outputs": [],
   "source": [
    "testDict = {0: [3, 6, 9], 1: [1, 4], 2: [2, 5]}"
   ]
  },
  {
   "cell_type": "code",
   "execution_count": 46,
   "metadata": {},
   "outputs": [
    {
     "name": "stdout",
     "output_type": "stream",
     "text": [
      "0 [3, 6, 9]\n",
      "1 [1, 4]\n",
      "2 [2, 5]\n"
     ]
    }
   ],
   "source": [
    "for key,value in testDict.items():\n",
    "    print(key,value)"
   ]
  },
  {
   "cell_type": "code",
   "execution_count": null,
   "metadata": {},
   "outputs": [],
   "source": []
  }
 ],
 "metadata": {
  "kernelspec": {
   "display_name": "Python 3",
   "language": "python",
   "name": "python3"
  },
  "language_info": {
   "codemirror_mode": {
    "name": "ipython",
    "version": 3
   },
   "file_extension": ".py",
   "mimetype": "text/x-python",
   "name": "python",
   "nbconvert_exporter": "python",
   "pygments_lexer": "ipython3",
   "version": "3.6.5"
  }
 },
 "nbformat": 4,
 "nbformat_minor": 2
}
