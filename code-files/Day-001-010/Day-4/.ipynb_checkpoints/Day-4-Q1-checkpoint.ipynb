{
 "cells": [
  {
   "cell_type": "code",
   "execution_count": 62,
   "metadata": {},
   "outputs": [
    {
     "name": "stdout",
     "output_type": "stream",
     "text": [
      "[100, 0, -100, 0, 0]\n",
      "\n",
      "[100, 100, -100, 0, 0]\n",
      "\n",
      "[100, 100, 0, 0, -100]\n",
      "\n",
      "[100, 100, 0, 0, -100]\n",
      "100\n",
      "100\n",
      "0\n",
      "0\n",
      "-100\n"
     ]
    },
    {
     "data": {
      "text/plain": [
       "200"
      ]
     },
     "execution_count": 62,
     "metadata": {},
     "output_type": "execute_result"
    }
   ],
   "source": [
    "def arrayManipulation(n, queries):\n",
    "    arr = [0]*n\n",
    "    for i in queries:\n",
    "        arr[i[0] - 1] += i[2]\n",
    "        if i[1] != len(arr):\n",
    "            arr[i[1]] -= i[2]\n",
    "        print(arr)\n",
    "        print()\n",
    "    maxval = 0\n",
    "    itt = 0\n",
    "    print(arr)\n",
    "    for q in arr:\n",
    "        print(q)\n",
    "        itt += q\n",
    "        \n",
    "        if itt > maxval:\n",
    "            maxval = itt\n",
    "    return maxval\n",
    "\n",
    "arrayManipulation(5, [[1, 2, 100], [2, 5, 100], [3, 4, 100]])"
   ]
  },
  {
   "cell_type": "code",
   "execution_count": 18,
   "metadata": {},
   "outputs": [
    {
     "name": "stdout",
     "output_type": "stream",
     "text": [
      "[2, 0, 0, 0, 0, 0, 0]\n"
     ]
    },
    {
     "data": {
      "text/plain": [
       "[3, 0, 0, 0, 0, 0, 0]"
      ]
     },
     "execution_count": 18,
     "metadata": {},
     "output_type": "execute_result"
    }
   ],
   "source": [
    "array = [2,0,0,0,0,0,0]\n",
    "print(array)\n",
    "array[0:1] = [1 + x for x in array[0:1]]\n",
    "array"
   ]
  },
  {
   "cell_type": "code",
   "execution_count": null,
   "metadata": {},
   "outputs": [],
   "source": [
    "def arrayManipulation(n, queries):\n",
    "    initArray = [0] * n\n",
    "    for a,b,valueToAdd in queries:\n",
    "        #print(eachQuery)\n",
    "        initArray[a-1:b] = [valueToAdd + x for x in initArray[a-1:b]] \n",
    "        print((initArray))\n",
    "\n",
    "arrayManipulation(5, [[1, 2, 100], [2, 5, 100], [3, 4, 100]])"
   ]
  }
 ],
 "metadata": {
  "kernelspec": {
   "display_name": "Python 3",
   "language": "python",
   "name": "python3"
  },
  "language_info": {
   "codemirror_mode": {
    "name": "ipython",
    "version": 3
   },
   "file_extension": ".py",
   "mimetype": "text/x-python",
   "name": "python",
   "nbconvert_exporter": "python",
   "pygments_lexer": "ipython3",
   "version": "3.6.5"
  }
 },
 "nbformat": 4,
 "nbformat_minor": 2
}
