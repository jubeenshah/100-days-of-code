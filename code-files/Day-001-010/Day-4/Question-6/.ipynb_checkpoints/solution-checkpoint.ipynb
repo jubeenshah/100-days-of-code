{
 "cells": [
  {
   "cell_type": "code",
   "execution_count": 16,
   "metadata": {},
   "outputs": [
    {
     "name": "stdout",
     "output_type": "stream",
     "text": [
      "                  #\n",
      "                 ##\n",
      "                ###\n",
      "               ####\n",
      "              #####\n",
      "             ######\n",
      "            #######\n",
      "           ########\n",
      "          #########\n",
      "         ##########\n",
      "        ###########\n",
      "       ############\n",
      "      #############\n",
      "     ##############\n",
      "    ###############\n",
      "   ################\n",
      "  #################\n",
      " ##################\n",
      "###################\n"
     ]
    }
   ],
   "source": [
    "def staircase(n):\n",
    "    count = 1\n",
    "    while n >0:\n",
    "        space = \" \"* (n-1)\n",
    "        hashtag = \"#\"*count\n",
    "        print(space+hashtag)\n",
    "        n -= 1\n",
    "        count+=1\n",
    "\n",
    "staircase(19)"
   ]
  },
  {
   "cell_type": "code",
   "execution_count": null,
   "metadata": {},
   "outputs": [],
   "source": []
  }
 ],
 "metadata": {
  "kernelspec": {
   "display_name": "Python 3",
   "language": "python",
   "name": "python3"
  },
  "language_info": {
   "codemirror_mode": {
    "name": "ipython",
    "version": 3
   },
   "file_extension": ".py",
   "mimetype": "text/x-python",
   "name": "python",
   "nbconvert_exporter": "python",
   "pygments_lexer": "ipython3",
   "version": "3.6.5"
  }
 },
 "nbformat": 4,
 "nbformat_minor": 2
}
