{
 "cells": [
  {
   "cell_type": "code",
   "execution_count": 22,
   "metadata": {},
   "outputs": [
    {
     "name": "stdout",
     "output_type": "stream",
     "text": [
      "12:45:54\n"
     ]
    }
   ],
   "source": [
    "def timeConversion(s):\n",
    "    s = s.split(\":\")\n",
    "    am = False\n",
    "    pm = False\n",
    "    if \"AM\" in s[2]:\n",
    "        #print(\"AM\")\n",
    "        am = True\n",
    "    else:\n",
    "        pm = True\n",
    "        #print(\"PM\")\n",
    "    \n",
    "    if pm:\n",
    "        if s[0] != \"12\":\n",
    "            s[0] = str(int(s[0]) + 12)\n",
    "        \n",
    "    if am:\n",
    "        if s[0] == \"12\":\n",
    "            s[0] = \"0\"+str(int(s[0]) - 12)\n",
    "        \n",
    "    s[2] = s[2][0:2]\n",
    "        \n",
    "    print(\":\".join(s))\n",
    "timeConversion(\"12:45:54PM\")"
   ]
  },
  {
   "cell_type": "code",
   "execution_count": null,
   "metadata": {},
   "outputs": [],
   "source": []
  }
 ],
 "metadata": {
  "kernelspec": {
   "display_name": "Python 3",
   "language": "python",
   "name": "python3"
  },
  "language_info": {
   "codemirror_mode": {
    "name": "ipython",
    "version": 3
   },
   "file_extension": ".py",
   "mimetype": "text/x-python",
   "name": "python",
   "nbconvert_exporter": "python",
   "pygments_lexer": "ipython3",
   "version": "3.6.5"
  }
 },
 "nbformat": 4,
 "nbformat_minor": 2
}
