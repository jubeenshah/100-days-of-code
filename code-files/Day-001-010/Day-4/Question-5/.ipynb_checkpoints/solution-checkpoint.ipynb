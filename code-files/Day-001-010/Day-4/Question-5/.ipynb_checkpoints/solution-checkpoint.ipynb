{
 "cells": [
  {
   "cell_type": "code",
   "execution_count": 1,
   "metadata": {},
   "outputs": [
    {
     "data": {
      "text/plain": [
       "(0.5, 0.3333333333333333, 0.16666666666666666)"
      ]
     },
     "execution_count": 1,
     "metadata": {},
     "output_type": "execute_result"
    }
   ],
   "source": [
    "def plusMinus(arr):\n",
    "    pos = 0\n",
    "    neg = 0\n",
    "    zer = 0\n",
    "    \n",
    "    for a in arr:\n",
    "        if a < 0:\n",
    "            neg += 1\n",
    "        elif a > 0:\n",
    "            pos += 1\n",
    "        else:\n",
    "            zer += 1\n",
    "    return (pos/len(arr), neg/len(arr), zer/len(arr))\n",
    "\n",
    "plusMinus([-4, 3, -9, 0, 4, 1])"
   ]
  },
  {
   "cell_type": "code",
   "execution_count": null,
   "metadata": {},
   "outputs": [],
   "source": []
  }
 ],
 "metadata": {
  "kernelspec": {
   "display_name": "Python 3",
   "language": "python",
   "name": "python3"
  },
  "language_info": {
   "codemirror_mode": {
    "name": "ipython",
    "version": 3
   },
   "file_extension": ".py",
   "mimetype": "text/x-python",
   "name": "python",
   "nbconvert_exporter": "python",
   "pygments_lexer": "ipython3",
   "version": "3.6.5"
  }
 },
 "nbformat": 4,
 "nbformat_minor": 2
}
