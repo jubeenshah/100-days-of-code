{
 "cells": [
  {
   "cell_type": "code",
   "execution_count": 25,
   "metadata": {},
   "outputs": [
    {
     "name": "stdout",
     "output_type": "stream",
     "text": [
      "11\n",
      "5\n",
      "-12\n",
      "10\n",
      "5\n",
      "4\n",
      "15\n"
     ]
    }
   ],
   "source": [
    "def diagonalDifference(arr):\n",
    "    sumDiagonal1 = 0\n",
    "    sumDiagonal2 = 0\n",
    "    \n",
    "    for i in range(len(arr)):\n",
    "        for j in range(len(arr[i])):\n",
    "            if i == j:\n",
    "                print(arr[i][j])\n",
    "                sumDiagonal1 += arr[i][j]\n",
    "    arr = arr [::-1]\n",
    "    for i in range(len(arr)):\n",
    "        for j in range(len(arr[i])):\n",
    "            if i == j:\n",
    "                print(arr[i][j])\n",
    "                sumDiagonal2 += arr[i][j]\n",
    "    print(abs(sumDiagonal1-sumDiagonal2))\n",
    "\n",
    "diagonalDifference([[11, 2, 4], [4, 5, 6], [10, 8, -12]])"
   ]
  },
  {
   "cell_type": "code",
   "execution_count": null,
   "metadata": {},
   "outputs": [],
   "source": []
  }
 ],
 "metadata": {
  "kernelspec": {
   "display_name": "Python 3",
   "language": "python",
   "name": "python3"
  },
  "language_info": {
   "codemirror_mode": {
    "name": "ipython",
    "version": 3
   },
   "file_extension": ".py",
   "mimetype": "text/x-python",
   "name": "python",
   "nbconvert_exporter": "python",
   "pygments_lexer": "ipython3",
   "version": "3.6.5"
  }
 },
 "nbformat": 4,
 "nbformat_minor": 2
}
