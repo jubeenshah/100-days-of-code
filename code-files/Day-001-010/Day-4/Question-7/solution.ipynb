{
 "cells": [
  {
   "cell_type": "code",
   "execution_count": 59,
   "metadata": {},
   "outputs": [
    {
     "name": "stdout",
     "output_type": "stream",
     "text": [
      "10 14\n"
     ]
    }
   ],
   "source": [
    "def miniMaxSum(arr):\n",
    "    tempMinArray = arr.copy()\n",
    "    tempMaxArray = arr.copy()\n",
    "    minSum = 0\n",
    "    maxSum = 0\n",
    "\n",
    "    while len(tempMinArray) > 1:\n",
    "        currentMin = min(tempMinArray)\n",
    "        minSum += currentMin\n",
    "        tempMinArray.remove(currentMin)\n",
    "        #print(tempMinArray,tempMaxArray)\n",
    "        \n",
    "    while len(tempMaxArray) > 1:\n",
    "        currentMax = max(tempMaxArray)\n",
    "        maxSum += currentMax\n",
    "        tempMaxArray.remove(currentMax)\n",
    "        #print(tempMaxArray)\n",
    "    print(minSum, maxSum)   \n",
    "    #print(minSum)\n",
    "\n",
    "    \n",
    "miniMaxSum([1, 2, 3, 4, 5])\n",
    "arr = [1, 2, 3, 4, 5]"
   ]
  },
  {
   "cell_type": "code",
   "execution_count": 51,
   "metadata": {},
   "outputs": [],
   "source": [
    "arr = [1, 2, 3, 4, 5]\n"
   ]
  },
  {
   "cell_type": "code",
   "execution_count": 11,
   "metadata": {},
   "outputs": [],
   "source": [
    "arr.remove(1)"
   ]
  },
  {
   "cell_type": "code",
   "execution_count": 12,
   "metadata": {},
   "outputs": [
    {
     "data": {
      "text/plain": [
       "[2, 3, 4, 5]"
      ]
     },
     "execution_count": 12,
     "metadata": {},
     "output_type": "execute_result"
    }
   ],
   "source": [
    "arr"
   ]
  },
  {
   "cell_type": "code",
   "execution_count": null,
   "metadata": {},
   "outputs": [],
   "source": []
  }
 ],
 "metadata": {
  "kernelspec": {
   "display_name": "Python 3",
   "language": "python",
   "name": "python3"
  },
  "language_info": {
   "codemirror_mode": {
    "name": "ipython",
    "version": 3
   },
   "file_extension": ".py",
   "mimetype": "text/x-python",
   "name": "python",
   "nbconvert_exporter": "python",
   "pygments_lexer": "ipython3",
   "version": "3.6.5"
  }
 },
 "nbformat": 4,
 "nbformat_minor": 2
}
