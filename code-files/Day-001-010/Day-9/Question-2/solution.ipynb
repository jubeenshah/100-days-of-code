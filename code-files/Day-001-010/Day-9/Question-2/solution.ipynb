{
 "cells": [
  {
   "cell_type": "code",
   "execution_count": 26,
   "metadata": {},
   "outputs": [
    {
     "ename": "SyntaxError",
     "evalue": "invalid syntax (<ipython-input-26-ce0c5fbfa04d>, line 14)",
     "output_type": "error",
     "traceback": [
      "\u001b[0;36m  File \u001b[0;32m\"<ipython-input-26-ce0c5fbfa04d>\"\u001b[0;36m, line \u001b[0;32m14\u001b[0m\n\u001b[0;31m    isPalindrome(-121121-)\u001b[0m\n\u001b[0m                         ^\u001b[0m\n\u001b[0;31mSyntaxError\u001b[0m\u001b[0;31m:\u001b[0m invalid syntax\n"
     ]
    }
   ],
   "source": [
    "def isPalindrome(x):\n",
    "    n = x\n",
    "    reverse = 0\n",
    "    count = len(str(x))-1\n",
    "    while x > 0:\n",
    "        temp = x % 10\n",
    "        x = x // 10\n",
    "        reverse = reverse + (temp*10**count)\n",
    "        count -= 1\n",
    "    if n == reverse:\n",
    "        print(\"true\")\n",
    "    else:\n",
    "        print(\"false\")\n",
    "isPalindrome(-121121)"
   ]
  },
  {
   "cell_type": "code",
   "execution_count": 4,
   "metadata": {},
   "outputs": [
    {
     "data": {
      "text/plain": [
       "3"
      ]
     },
     "execution_count": 4,
     "metadata": {},
     "output_type": "execute_result"
    }
   ],
   "source": [
    "123%10"
   ]
  },
  {
   "cell_type": "code",
   "execution_count": 15,
   "metadata": {},
   "outputs": [
    {
     "name": "stdout",
     "output_type": "stream",
     "text": [
      "1230\n",
      "123\n",
      "12\n",
      "1000\n"
     ]
    }
   ],
   "source": [
    "n = 1230\n",
    "count = 0\n",
    "while n > 1:\n",
    "    print(n)\n",
    "    n //= 10\n",
    "    count +=1\n",
    "print(10**count)"
   ]
  },
  {
   "cell_type": "code",
   "execution_count": 35,
   "metadata": {},
   "outputs": [
    {
     "data": {
      "text/plain": [
       "True"
      ]
     },
     "execution_count": 35,
     "metadata": {},
     "output_type": "execute_result"
    }
   ],
   "source": [
    "def isPalindrome2(x):\n",
    "    n = x\n",
    "    try:\n",
    "        reverse = int(str(x)[::-1])\n",
    "        if n == reverse:\n",
    "            return True\n",
    "    except:\n",
    "        return False\n",
    "isPalindrome2(121121)"
   ]
  },
  {
   "cell_type": "code",
   "execution_count": null,
   "metadata": {},
   "outputs": [],
   "source": []
  }
 ],
 "metadata": {
  "kernelspec": {
   "display_name": "Python 3",
   "language": "python",
   "name": "python3"
  },
  "language_info": {
   "codemirror_mode": {
    "name": "ipython",
    "version": 3
   },
   "file_extension": ".py",
   "mimetype": "text/x-python",
   "name": "python",
   "nbconvert_exporter": "python",
   "pygments_lexer": "ipython3",
   "version": "3.6.5"
  }
 },
 "nbformat": 4,
 "nbformat_minor": 2
}
