{
 "cells": [
  {
   "cell_type": "code",
   "execution_count": 12,
   "metadata": {},
   "outputs": [
    {
     "name": "stdout",
     "output_type": "stream",
     "text": [
      "[2, 1, 6]\n",
      "[1, 2, 6]\n",
      "[1, 2, 6]\n",
      "Array is sorted in  3 swaps.\n",
      "First Element:  1\n",
      "Last Element:  6\n"
     ]
    }
   ],
   "source": [
    "def countSwaps(a):\n",
    "    counter = 0\n",
    "    for i in range(len(a)):\n",
    "        for j in range(len(a)-1):\n",
    "            if a[j] > a[j+1]:\n",
    "                #print(a[i],a[j])\n",
    "                a[j], a[j+1] = a[j+1], a[j]\n",
    "                counter += 1\n",
    "        print(a)\n",
    "    print(\"Array is sorted in \",counter ,\"swaps.\")\n",
    "    print(\"First Element: \", a[0])\n",
    "    print(\"Last Element: \", a[len(a)-1])\n",
    "    pass\n",
    "\n",
    "countSwaps([6,2,1])"
   ]
  },
  {
   "cell_type": "code",
   "execution_count": null,
   "metadata": {},
   "outputs": [],
   "source": []
  }
 ],
 "metadata": {
  "kernelspec": {
   "display_name": "Python 3",
   "language": "python",
   "name": "python3"
  },
  "language_info": {
   "codemirror_mode": {
    "name": "ipython",
    "version": 3
   },
   "file_extension": ".py",
   "mimetype": "text/x-python",
   "name": "python",
   "nbconvert_exporter": "python",
   "pygments_lexer": "ipython3",
   "version": "3.6.5"
  }
 },
 "nbformat": 4,
 "nbformat_minor": 2
}
