{
 "cells": [
  {
   "cell_type": "code",
   "execution_count": 17,
   "metadata": {},
   "outputs": [
    {
     "name": "stdout",
     "output_type": "stream",
     "text": [
      "[73, 67, 38, 33]\n",
      "[75, 67, 40, 33]\n"
     ]
    }
   ],
   "source": [
    "def gradingStudents(grades):\n",
    "    newGrades = []\n",
    "    for grade in grades:\n",
    "        if grade < 38:\n",
    "            newGrades.append(grade)\n",
    "            continue\n",
    "        else:\n",
    "            if (((grade // 5) + 1) * 5) - grade < 3:\n",
    "                grade = ((grade // 5) + 1) * 5\n",
    "                newGrades.append(grade)\n",
    "            else:\n",
    "                newGrades.append(grade)\n",
    "                \n",
    "    print(grades)\n",
    "    print(newGrades)\n",
    "\n",
    "gradingStudents([73, 67, 38, 33])"
   ]
  },
  {
   "cell_type": "code",
   "execution_count": 16,
   "metadata": {},
   "outputs": [
    {
     "name": "stdout",
     "output_type": "stream",
     "text": [
      "False\n"
     ]
    }
   ],
   "source": [
    "if (((37 // 5) + 1) * 5) - 37 < 3:\n",
    "    print(\"True\")\n",
    "else:\n",
    "    print(\"False\")"
   ]
  },
  {
   "cell_type": "code",
   "execution_count": 9,
   "metadata": {},
   "outputs": [
    {
     "data": {
      "text/plain": [
       "75"
      ]
     },
     "execution_count": 9,
     "metadata": {},
     "output_type": "execute_result"
    }
   ],
   "source": [
    "15 * 5\n"
   ]
  },
  {
   "cell_type": "code",
   "execution_count": null,
   "metadata": {},
   "outputs": [],
   "source": []
  }
 ],
 "metadata": {
  "kernelspec": {
   "display_name": "Python 3",
   "language": "python",
   "name": "python3"
  },
  "language_info": {
   "codemirror_mode": {
    "name": "ipython",
    "version": 3
   },
   "file_extension": ".py",
   "mimetype": "text/x-python",
   "name": "python",
   "nbconvert_exporter": "python",
   "pygments_lexer": "ipython3",
   "version": "3.6.5"
  }
 },
 "nbformat": 4,
 "nbformat_minor": 2
}
