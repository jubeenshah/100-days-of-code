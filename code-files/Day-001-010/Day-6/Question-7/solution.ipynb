{
 "cells": [
  {
   "cell_type": "code",
   "execution_count": 32,
   "metadata": {},
   "outputs": [
    {
     "name": "stdout",
     "output_type": "stream",
     "text": [
      "10\n",
      "jkotzxzxrxtzytlruwrxytyzsuzytwyzxuzytryzuzysxvsmupouysywywqlhg\n",
      "jozzrtyluryysztyxztyuyxsuoyyyqh ktxxxztrwxtzuywzuyrzzsvmpuswwlg\n",
      "\n",
      "eklrywzvpxtvoptlrskmskszvwzsuzxrtvyzwruqvyxusqwupnurqmtltnltsmuyxqoksyurpwqpv\n",
      "elyzptotrkssvzuxtywuvxswpuqttlsuxosupqv krwvxvplsmkzwszrvzrqyuqunrmlntmyqkyrwp\n",
      "\n",
      "efhpuvqvnuwpvwysvnunostvpqvxtxsvqwqvsxtxvqpvtsonunvsywvpwunvqvupxzy\n",
      "ehuqnwvyvuotpvtsqqstvptouvyvwnquxy fpvvupwsnnsvqxxvwvxxqvsnnswpuvvpz\n",
      "\n",
      "otytmpszumnryqvxpvnvxyvpvprumnvsqwqwtsqyqksqvnuqpxszwzsxsx\n",
      "oymsunyvpnxvvrmvqqtqqsvupswss ttpzmrqxvvyppunswwsykqnqxzzxx\n",
      "\n",
      "bhmptlqswsvoqsvzyzwoqtvowpyqxpwurpxutswtrpwzvrpkswzuo\n",
      "bmtqwvqvywqvwyxwrxtwrwvpszo hplssoszzotopqpupustpzrkwu\n",
      "\n",
      "rvovprxzvwrxpwpzsltzutxztrxqxt\n",
      "ropxvrppstuxtxx vvrzwxwzlztzrqt\n",
      "\n",
      "ceiosyrtztvnqsuozrxvtqywqwyrxtnjh\n",
      "cisrzvquzxtyqyxnh eoyttnsorvqwwrtj\n",
      "\n",
      "djnsyzxszryqworuxpqvqwquvotzsqvoupwvztzupowtqnvpxqyrwutzuys\n",
      "dnyxzywrxqqqvtsvuwzzpwqvxywtus jszsrqoupvwuozqopvtuotnpqruzy\n",
      "\n",
      "kovzuywsuvwxuxtwzryzuxyvouvyskoqtwryszxqqxzsyrwtqoksyvuovyxuzyrzwtxuxwvuswuqvryu\n",
      "kvuwuwutzyuyovsotrsxqzywqkyuvxzrwxxvsuvy ozysvxxwrzxvuykqwyzqxsrtosvoyuyztuwuwqru\n",
      "\n",
      "ptvzstvotxqyvzrwyqryzrpkswzryupwutmigc\n",
      "pvsvtqvryrzpszypumg tztoxyzwqyrkwruwtic\n",
      "\n"
     ]
    }
   ],
   "source": [
    "repeat = int(input())\n",
    "for i in range(repeat):\n",
    "    string = str(input())\n",
    "    result = evenOdd(string)\n",
    "    print(result)\n",
    "    print()\n",
    "    \n",
    "def evenOdd(string) -> str:\n",
    "    evenString = ''\n",
    "    oddString = ''\n",
    "    for x in range(len(string)):\n",
    "        if x % 2 == 0:\n",
    "            evenString += string[x]\n",
    "        else:\n",
    "            oddString += string[x]\n",
    "        \n",
    "    return (evenString+\" \" +oddString)"
   ]
  }
 ],
 "metadata": {
  "kernelspec": {
   "display_name": "Python 3",
   "language": "python",
   "name": "python3"
  },
  "language_info": {
   "codemirror_mode": {
    "name": "ipython",
    "version": 3
   },
   "file_extension": ".py",
   "mimetype": "text/x-python",
   "name": "python",
   "nbconvert_exporter": "python",
   "pygments_lexer": "ipython3",
   "version": "3.6.5"
  }
 },
 "nbformat": 4,
 "nbformat_minor": 2
}
