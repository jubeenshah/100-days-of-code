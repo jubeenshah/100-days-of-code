{
 "cells": [
  {
   "cell_type": "code",
   "execution_count": null,
   "metadata": {},
   "outputs": [],
   "source": [
    "def countApplesAndOranges(s, t, a, b, apples, oranges):\n",
    "    startHouse = s\n",
    "    endHouse = t\n",
    "    appleTree = a\n",
    "    orrageTree = b\n",
    "    listOfAppleDistance = apples\n",
    "    listOfOrangeDistance = oranges\n",
    "    numberOfApples = 0\n",
    "    numberOfOranges = 0\n",
    "\n",
    "    for apple in listOfAppleDistance:\n",
    "        #apple tree is on the left\n",
    "        print(apple + appleTree)\n",
    "        if (apple + appleTree) >= startHouse and (appleTree + apple) <= endHouse:\n",
    "            numberOfApples += 1\n",
    "        pass\n",
    "    for orange in listOfOrangeDistance:\n",
    "        #apple tree is on the left\n",
    "        print(orange+orrageTree)\n",
    "        if (orange + orrageTree) >= startHouse and (orange + orrageTree) <= endHouse:\n",
    "            numberOfOranges += 1\n",
    "        pass\n",
    "    return numberOfApples, numberOfOranges \n",
    "    pass\n",
    "\n",
    "print(countApplesAndOranges(7,11,5,15, [-2,2,1], [5,-6]))"
   ]
  }
 ],
 "metadata": {
  "kernelspec": {
   "display_name": "Python 3",
   "language": "python",
   "name": "python3"
  },
  "language_info": {
   "codemirror_mode": {
    "name": "ipython",
    "version": 3
   },
   "file_extension": ".py",
   "mimetype": "text/x-python",
   "name": "python",
   "nbconvert_exporter": "python",
   "pygments_lexer": "ipython3",
   "version": "3.6.5"
  }
 },
 "nbformat": 4,
 "nbformat_minor": 2
}
