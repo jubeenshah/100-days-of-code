{
 "cells": [
  {
   "cell_type": "code",
   "execution_count": 14,
   "metadata": {},
   "outputs": [
    {
     "name": "stdout",
     "output_type": "stream",
     "text": [
      "[] 7 3\n"
     ]
    },
    {
     "data": {
      "text/plain": [
       "3"
      ]
     },
     "execution_count": 14,
     "metadata": {},
     "output_type": "execute_result"
    }
   ],
   "source": [
    "def maximumToys(prices, k):\n",
    "    pricesList = prices.copy()\n",
    "    budget = k\n",
    "    numberOfToys = 0\n",
    "    \n",
    "    while k >= 0 and pricesList:\n",
    "        minCost = min(pricesList)\n",
    "        pricesList.remove(minCost)\n",
    "        if k - minCost >=0:\n",
    "            k -= minCost\n",
    "            numberOfToys += 1\n",
    "    print(pricesList, budget, numberOfToys)\n",
    "    return numberOfToys\n",
    "\n",
    "#maximumToys([1, 12, 5, 111, 200, 1000, 10], 50)\n",
    "maximumToys([1, 2, 3, 4], 7)"
   ]
  },
  {
   "cell_type": "code",
   "execution_count": 27,
   "metadata": {},
   "outputs": [
    {
     "name": "stdout",
     "output_type": "stream",
     "text": [
      "[1, 2, 3, 4]\n",
      "[1, 2, 3, 4] 7 3\n"
     ]
    },
    {
     "data": {
      "text/plain": [
       "3"
      ]
     },
     "execution_count": 27,
     "metadata": {},
     "output_type": "execute_result"
    }
   ],
   "source": [
    "def maximumToys(prices, k):\n",
    "    pricesList = prices.copy()\n",
    "    budget = k\n",
    "    numberOfToys = 0\n",
    "    pricesList.sort()\n",
    "    #print(pricesList)\n",
    "    for i in range(len(pricesList)):\n",
    "        minCost = pricesList[i]\n",
    "        if minCost >= k:\n",
    "            break\n",
    "        if k - minCost >=0:\n",
    "            k -= minCost\n",
    "            numberOfToys += 1\n",
    "    #print(pricesList, budget, numberOfToys)\n",
    "    return numberOfToys\n",
    "\n",
    "#maximumToys([1, 12, 5, 111, 200, 1000, 10], 50)\n",
    "maximumToys([1, 2, 3, 4], 7)"
   ]
  },
  {
   "cell_type": "code",
   "execution_count": 19,
   "metadata": {},
   "outputs": [],
   "source": [
    "listT = [1, 12, 5, 111, 200, 1000, 10]\n"
   ]
  },
  {
   "cell_type": "code",
   "execution_count": 20,
   "metadata": {},
   "outputs": [],
   "source": [
    "listT.sort()"
   ]
  },
  {
   "cell_type": "code",
   "execution_count": 21,
   "metadata": {},
   "outputs": [
    {
     "data": {
      "text/plain": [
       "[1, 5, 10, 12, 111, 200, 1000]"
      ]
     },
     "execution_count": 21,
     "metadata": {},
     "output_type": "execute_result"
    }
   ],
   "source": [
    "listT"
   ]
  },
  {
   "cell_type": "code",
   "execution_count": null,
   "metadata": {},
   "outputs": [],
   "source": []
  }
 ],
 "metadata": {
  "kernelspec": {
   "display_name": "Python 3",
   "language": "python",
   "name": "python3"
  },
  "language_info": {
   "codemirror_mode": {
    "name": "ipython",
    "version": 3
   },
   "file_extension": ".py",
   "mimetype": "text/x-python",
   "name": "python",
   "nbconvert_exporter": "python",
   "pygments_lexer": "ipython3",
   "version": "3.6.5"
  }
 },
 "nbformat": 4,
 "nbformat_minor": 2
}
