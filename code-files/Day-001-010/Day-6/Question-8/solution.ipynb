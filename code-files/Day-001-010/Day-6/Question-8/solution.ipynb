{
 "cells": [
  {
   "cell_type": "code",
   "execution_count": 12,
   "metadata": {},
   "outputs": [
    {
     "data": {
      "text/plain": [
       "'NO'"
      ]
     },
     "execution_count": 12,
     "metadata": {},
     "output_type": "execute_result"
    }
   ],
   "source": [
    "def kangaroo(x1, v1, x2, v2):\n",
    "    counter = 0\n",
    "    if x2 > x1 and ((v2 > v1) or (v2 == v1)):\n",
    "        return (\"NO\")\n",
    "    while x1!=x2:\n",
    "        x1 += v1\n",
    "        x2 += v2\n",
    "        counter += 1\n",
    "        if x1 > x2:\n",
    "            return \"NO\"\n",
    "        #print(x1,x2, counter)\n",
    "    return \"YES\"   \n",
    "\n",
    "kangaroo(1, 2, 5, 2)"
   ]
  },
  {
   "cell_type": "code",
   "execution_count": null,
   "metadata": {},
   "outputs": [],
   "source": []
  }
 ],
 "metadata": {
  "kernelspec": {
   "display_name": "Python 3",
   "language": "python",
   "name": "python3"
  },
  "language_info": {
   "codemirror_mode": {
    "name": "ipython",
    "version": 3
   },
   "file_extension": ".py",
   "mimetype": "text/x-python",
   "name": "python",
   "nbconvert_exporter": "python",
   "pygments_lexer": "ipython3",
   "version": "3.6.5"
  }
 },
 "nbformat": 4,
 "nbformat_minor": 2
}
