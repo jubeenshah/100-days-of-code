{
 "cells": [
  {
   "cell_type": "code",
   "execution_count": 7,
   "metadata": {},
   "outputs": [
    {
     "name": "stdout",
     "output_type": "stream",
     "text": [
      "[-3, 1, 17, 68, 71]\n"
     ]
    },
    {
     "data": {
      "text/plain": [
       "3"
      ]
     },
     "execution_count": 7,
     "metadata": {},
     "output_type": "execute_result"
    }
   ],
   "source": [
    "def minimumAbsoluteDifference(arr):\n",
    "    minimum = float('inf')\n",
    "    arr = arr.sort()\n",
    "    print(arr)\n",
    "    for i in arr:\n",
    "        for j in arr:\n",
    "            if i != j:\n",
    "                tempMin = abs(i - j)\n",
    "                #print(tempMin)\n",
    "                if tempMin < minimum:\n",
    "                    minimum = tempMin\n",
    "    return(minimum)\n",
    "            \n",
    "\n",
    "minimumAbsoluteDifference([1, -3, 71, 68, 17])"
   ]
  },
  {
   "cell_type": "code",
   "execution_count": 12,
   "metadata": {},
   "outputs": [
    {
     "data": {
      "text/plain": [
       "3"
      ]
     },
     "execution_count": 12,
     "metadata": {},
     "output_type": "execute_result"
    }
   ],
   "source": [
    "def minimumAbsoluteDifference2(arr):\n",
    "    diffs = []\n",
    "    arr.sort()\n",
    "    for i in range(len(arr)-1):\n",
    "        diffs.append(abs(arr[i]-arr[i+1]))\n",
    "    return min(diffs)\n",
    "            \n",
    "\n",
    "minimumAbsoluteDifference2([1, -3, 71, 68, 17])"
   ]
  },
  {
   "cell_type": "code",
   "execution_count": 16,
   "metadata": {},
   "outputs": [
    {
     "data": {
      "text/plain": [
       "3"
      ]
     },
     "execution_count": 16,
     "metadata": {},
     "output_type": "execute_result"
    }
   ],
   "source": [
    "def minimumAbsoluteDifference3(arr):\n",
    "    if len(arr) <= 100:\n",
    "        minimum = float('inf')\n",
    "        for i in arr:\n",
    "            for j in arr:\n",
    "                if i != j:\n",
    "                    tempMin = abs(i - j)\n",
    "                    #print(tempMin)\n",
    "                    if tempMin < minimum:\n",
    "                        minimum = tempMin\n",
    "        return(minimum)\n",
    "    else:\n",
    "        diffs = []\n",
    "        arr.sort()\n",
    "        for i in range(len(arr)-1):\n",
    "            diffs.append(abs(arr[i]-arr[i+1]))\n",
    "        return min(diffs)\n",
    "minimumAbsoluteDifference3([1, -3, 71, 68, 17])"
   ]
  },
  {
   "cell_type": "code",
   "execution_count": null,
   "metadata": {},
   "outputs": [],
   "source": []
  }
 ],
 "metadata": {
  "kernelspec": {
   "display_name": "Python 3",
   "language": "python",
   "name": "python3"
  },
  "language_info": {
   "codemirror_mode": {
    "name": "ipython",
    "version": 3
   },
   "file_extension": ".py",
   "mimetype": "text/x-python",
   "name": "python",
   "nbconvert_exporter": "python",
   "pygments_lexer": "ipython3",
   "version": "3.6.5"
  }
 },
 "nbformat": 4,
 "nbformat_minor": 2
}
