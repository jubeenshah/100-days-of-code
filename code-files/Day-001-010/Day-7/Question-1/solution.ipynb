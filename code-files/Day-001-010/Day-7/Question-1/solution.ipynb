{
 "cells": [
  {
   "cell_type": "code",
   "execution_count": 1,
   "metadata": {},
   "outputs": [
    {
     "name": "stdout",
     "output_type": "stream",
     "text": [
      "a count in a: 1| a count in b: 1| Difference =  0\n",
      "\n",
      "b count in a: 1| b count in b: 1| Difference =  0\n",
      "\n",
      "c count in a: 2| c count in b: 1| Difference =  1\n",
      "\n",
      "d count in a: 0| d count in b: 0| Difference =  0\n",
      "\n",
      "e count in a: 0| e count in b: 0| Difference =  0\n",
      "\n",
      "f count in a: 0| f count in b: 0| Difference =  0\n",
      "\n",
      "g count in a: 0| g count in b: 0| Difference =  0\n",
      "\n",
      "h count in a: 0| h count in b: 0| Difference =  0\n",
      "\n",
      "i count in a: 0| i count in b: 0| Difference =  0\n",
      "\n",
      "j count in a: 0| j count in b: 0| Difference =  0\n",
      "\n",
      "k count in a: 0| k count in b: 0| Difference =  0\n",
      "\n",
      "l count in a: 0| l count in b: 0| Difference =  0\n",
      "\n",
      "m count in a: 0| m count in b: 0| Difference =  0\n",
      "\n",
      "n count in a: 0| n count in b: 0| Difference =  0\n",
      "\n",
      "o count in a: 0| o count in b: 0| Difference =  0\n",
      "\n",
      "p count in a: 0| p count in b: 0| Difference =  0\n",
      "\n",
      "q count in a: 0| q count in b: 0| Difference =  0\n",
      "\n",
      "r count in a: 0| r count in b: 0| Difference =  0\n",
      "\n",
      "s count in a: 0| s count in b: 0| Difference =  0\n",
      "\n",
      "t count in a: 0| t count in b: 0| Difference =  0\n",
      "\n",
      "u count in a: 0| u count in b: 0| Difference =  0\n",
      "\n",
      "v count in a: 0| v count in b: 0| Difference =  0\n",
      "\n",
      "w count in a: 0| w count in b: 0| Difference =  0\n",
      "\n",
      "x count in a: 0| x count in b: 0| Difference =  0\n",
      "\n",
      "y count in a: 0| y count in b: 0| Difference =  0\n",
      "\n",
      "z count in a: 0| z count in b: 0| Difference =  0\n",
      "\n"
     ]
    },
    {
     "data": {
      "text/plain": [
       "1"
      ]
     },
     "execution_count": 1,
     "metadata": {},
     "output_type": "execute_result"
    }
   ],
   "source": [
    "def makeAnagram(a, b):\n",
    "    count = 0\n",
    "    for i in range(97, 123):\n",
    "        ia = a.count(chr(i))\n",
    "        print(chr(i),\"count in a:\",ia, end=\"\")\n",
    "        ib = b.count(chr(i))\n",
    "        print(\"|\", chr(i),\"count in b:\",ib, end=\"\")\n",
    "        count += abs(ia-ib)\n",
    "        print(\"| Difference = \", abs(ia-ib))\n",
    "        print()\n",
    "    return count\n",
    "makeAnagram(\"abcc\", \"abc\")"
   ]
  }
 ],
 "metadata": {
  "kernelspec": {
   "display_name": "Python 3",
   "language": "python",
   "name": "python3"
  },
  "language_info": {
   "codemirror_mode": {
    "name": "ipython",
    "version": 3
   },
   "file_extension": ".py",
   "mimetype": "text/x-python",
   "name": "python",
   "nbconvert_exporter": "python",
   "pygments_lexer": "ipython3",
   "version": "3.6.5"
  }
 },
 "nbformat": 4,
 "nbformat_minor": 2
}
