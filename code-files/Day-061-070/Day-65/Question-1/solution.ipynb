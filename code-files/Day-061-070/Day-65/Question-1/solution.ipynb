{
 "cells": [
  {
   "cell_type": "markdown",
   "metadata": {},
   "source": [
    "4\n",
    "2 4 5 9\n",
    "4\n",
    "2 4 11 12"
   ]
  },
  {
   "cell_type": "code",
   "execution_count": 1,
   "metadata": {},
   "outputs": [
    {
     "name": "stdout",
     "output_type": "stream",
     "text": [
      "4\n",
      "2 4 5 9\n",
      "4\n",
      "2 4 11 12\n"
     ]
    }
   ],
   "source": [
    "numElementsSetA = int(input())\n",
    "setA = set(map(int, input().split(\" \")))\n",
    "numElementsSetB = int(input())\n",
    "setB = set(map(int, input().split(\" \")))"
   ]
  },
  {
   "cell_type": "code",
   "execution_count": 5,
   "metadata": {},
   "outputs": [
    {
     "name": "stdout",
     "output_type": "stream",
     "text": [
      "{9, 2, 4, 5} {2, 11, 4, 12}\n"
     ]
    }
   ],
   "source": [
    "print(setA,setB)"
   ]
  },
  {
   "cell_type": "code",
   "execution_count": 17,
   "metadata": {},
   "outputs": [
    {
     "name": "stdout",
     "output_type": "stream",
     "text": [
      "5\n",
      "9\n",
      "11\n",
      "12\n"
     ]
    }
   ],
   "source": [
    "def printSortedSymmetricDifference(setA, setB):\n",
    "    diffA = list(setA.difference(setB))\n",
    "    diffB = list(setB.difference(setA))\n",
    "    diffToReturn = []\n",
    "    diffToReturn.extend(diffA)\n",
    "    #print(diffToReturn)\n",
    "    diffToReturn.extend(diffB)\n",
    "    #print(diffToReturn)\n",
    "    diffToReturn.sort()\n",
    "    for each in diffToReturn:\n",
    "        print(each)\n",
    "\n",
    "printSortedSymmetricDifference(setA,setB)"
   ]
  },
  {
   "cell_type": "code",
   "execution_count": null,
   "metadata": {},
   "outputs": [],
   "source": []
  }
 ],
 "metadata": {
  "kernelspec": {
   "display_name": "Python 3",
   "language": "python",
   "name": "python3"
  },
  "language_info": {
   "codemirror_mode": {
    "name": "ipython",
    "version": 3
   },
   "file_extension": ".py",
   "mimetype": "text/x-python",
   "name": "python",
   "nbconvert_exporter": "python",
   "pygments_lexer": "ipython3",
   "version": "3.6.5"
  }
 },
 "nbformat": 4,
 "nbformat_minor": 2
}
