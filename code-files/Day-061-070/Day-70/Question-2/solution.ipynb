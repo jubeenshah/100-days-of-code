{
 "cells": [
  {
   "cell_type": "code",
   "execution_count": 4,
   "metadata": {},
   "outputs": [
    {
     "data": {
      "text/plain": [
       "'3.(142857)'"
      ]
     },
     "execution_count": 4,
     "metadata": {},
     "output_type": "execute_result"
    }
   ],
   "source": [
    "def fraction(numerator, denominator):\n",
    "    sign = '-' if numerator * denominator < 0 else ''\n",
    "    head, remainder = divmod(abs(numerator), abs(denominator))\n",
    "    tail, seen = '', {}\n",
    "    while remainder != 0:\n",
    "        if remainder in seen:\n",
    "            tail = tail[: seen[remainder]] + '(' + tail[seen[remainder]:] + ')'\n",
    "            break\n",
    "        seen[remainder] = len(tail)\n",
    "        digit, remainder = divmod( remainder*10, abs(denominator) )\n",
    "        tail+=str(digit)\n",
    "    return sign + str(head) + (tail and '.' + tail)\n",
    "\n",
    "fraction(22,7)"
   ]
  },
  {
   "cell_type": "code",
   "execution_count": null,
   "metadata": {},
   "outputs": [],
   "source": []
  }
 ],
 "metadata": {
  "kernelspec": {
   "display_name": "Python 3",
   "language": "python",
   "name": "python3"
  },
  "language_info": {
   "codemirror_mode": {
    "name": "ipython",
    "version": 3
   },
   "file_extension": ".py",
   "mimetype": "text/x-python",
   "name": "python",
   "nbconvert_exporter": "python",
   "pygments_lexer": "ipython3",
   "version": "3.6.5"
  }
 },
 "nbformat": 4,
 "nbformat_minor": 2
}
