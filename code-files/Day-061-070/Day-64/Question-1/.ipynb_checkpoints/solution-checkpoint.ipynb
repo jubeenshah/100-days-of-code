{
 "cells": [
  {
   "cell_type": "code",
   "execution_count": 9,
   "metadata": {},
   "outputs": [
    {
     "data": {
      "text/plain": [
       "'Impossible'"
      ]
     },
     "execution_count": 9,
     "metadata": {},
     "output_type": "execute_result"
    }
   ],
   "source": [
    "def organizingContainers(container):\n",
    "    #print(container)\n",
    "    mr = []\n",
    "    mc = []\n",
    "    n = len(container)\n",
    "    for i in range(n):\n",
    "        mr.append(sum(container[i]))\n",
    "        j = tot = 0\n",
    "        for j in range(n):\n",
    "            tot += container[j][i]\n",
    "        mc.append(tot)\n",
    "    mr.sort()\n",
    "    mc.sort()\n",
    "    if mr == mc:\n",
    "        return \"Possible\"\n",
    "    else:\n",
    "        return \"Impossible\"\n",
    "organizingContainers([[1, 3, 1], [2, 1, 2], [3, 3, 3]])"
   ]
  },
  {
   "cell_type": "markdown",
   "metadata": {},
   "source": [
    "```\n",
    "[[1, 3, 1], [2, 1, 2], [3, 3, 3]]\n",
    "```"
   ]
  },
  {
   "cell_type": "code",
   "execution_count": null,
   "metadata": {},
   "outputs": [],
   "source": []
  }
 ],
 "metadata": {
  "kernelspec": {
   "display_name": "Python 3",
   "language": "python",
   "name": "python3"
  },
  "language_info": {
   "codemirror_mode": {
    "name": "ipython",
    "version": 3
   },
   "file_extension": ".py",
   "mimetype": "text/x-python",
   "name": "python",
   "nbconvert_exporter": "python",
   "pygments_lexer": "ipython3",
   "version": "3.6.5"
  }
 },
 "nbformat": 4,
 "nbformat_minor": 2
}
