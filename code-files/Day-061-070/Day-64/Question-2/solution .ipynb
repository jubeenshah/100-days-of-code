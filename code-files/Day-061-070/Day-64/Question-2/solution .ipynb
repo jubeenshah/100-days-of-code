{
 "cells": [
  {
   "cell_type": "code",
   "execution_count": 32,
   "metadata": {},
   "outputs": [
    {
     "data": {
      "text/plain": [
       "[[1, 6], [8, 10], [15, 18]]"
      ]
     },
     "execution_count": 32,
     "metadata": {},
     "output_type": "execute_result"
    }
   ],
   "source": [
    "def mergeIntervals(givenIntervals):\n",
    "    returnList = []\n",
    "    for i in sorted(givenIntervals, key=lambda lv : lv[0]):\n",
    "        if returnList and i[0] <= returnList[-1][1]:\n",
    "            returnList[-1][1] = max(returnList[-1][1], i[1])\n",
    "        else:\n",
    "            returnList += i,\n",
    "    return returnList\n",
    "\n",
    "mergeIntervals([[1,3],[2,6],[8,10],[15,18]])"
   ]
  },
  {
   "cell_type": "code",
   "execution_count": null,
   "metadata": {},
   "outputs": [],
   "source": []
  }
 ],
 "metadata": {
  "kernelspec": {
   "display_name": "Python 3",
   "language": "python",
   "name": "python3"
  },
  "language_info": {
   "codemirror_mode": {
    "name": "ipython",
    "version": 3
   },
   "file_extension": ".py",
   "mimetype": "text/x-python",
   "name": "python",
   "nbconvert_exporter": "python",
   "pygments_lexer": "ipython3",
   "version": "3.6.5"
  }
 },
 "nbformat": 4,
 "nbformat_minor": 2
}
