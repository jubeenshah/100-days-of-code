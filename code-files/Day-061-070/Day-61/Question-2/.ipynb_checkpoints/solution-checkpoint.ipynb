{
 "cells": [
  {
   "cell_type": "code",
   "execution_count": 1,
   "metadata": {},
   "outputs": [],
   "source": [
    "def meetingRooms(array):\n",
    "     starts = []\n",
    "    ends = []\n",
    "    for i in intervals:\n",
    "        starts.append(i.start)\n",
    "        ends.append(i.end)\n",
    "\n",
    "    starts.sort()\n",
    "    ends.sort()\n",
    "    s = e = 0\n",
    "    numRooms = available = 0\n",
    "    while s < len(starts):\n",
    "        if starts[s] < ends[e]:\n",
    "            if available == 0:\n",
    "                numRooms += 1\n",
    "            else:\n",
    "                available -= 1\n",
    "\n",
    "            s += 1\n",
    "        else:\n",
    "            available += 1\n",
    "            e += 1\n",
    "\n",
    "    return numRooms\n",
    "\n",
    "meetingRooms([[0, 30],[5, 10],[15, 20]])"
   ]
  },
  {
   "cell_type": "code",
   "execution_count": 3,
   "metadata": {},
   "outputs": [
    {
     "name": "stdout",
     "output_type": "stream",
     "text": [
      "[0, 5, 15] [30, 10, 20]\n"
     ]
    }
   ],
   "source": [
    "x = [[0, 30],[5, 10],[15, 20]]\n"
   ]
  },
  {
   "cell_type": "code",
   "execution_count": null,
   "metadata": {},
   "outputs": [],
   "source": []
  }
 ],
 "metadata": {
  "kernelspec": {
   "display_name": "Python 3",
   "language": "python",
   "name": "python3"
  },
  "language_info": {
   "codemirror_mode": {
    "name": "ipython",
    "version": 3
   },
   "file_extension": ".py",
   "mimetype": "text/x-python",
   "name": "python",
   "nbconvert_exporter": "python",
   "pygments_lexer": "ipython3",
   "version": "3.6.5"
  }
 },
 "nbformat": 4,
 "nbformat_minor": 2
}
