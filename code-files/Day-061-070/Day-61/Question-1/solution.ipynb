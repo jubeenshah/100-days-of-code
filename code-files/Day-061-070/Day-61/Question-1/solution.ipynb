{
 "cells": [
  {
   "cell_type": "code",
   "execution_count": 27,
   "metadata": {},
   "outputs": [
    {
     "name": "stdout",
     "output_type": "stream",
     "text": [
      "{'a': 2, 'b': 2, 'c': 2, 'd': 2, 'e': 2, 'f': 1, 'g': 1, 'h': 1, 'i': 1}\n"
     ]
    },
    {
     "data": {
      "text/plain": [
       "True"
      ]
     },
     "execution_count": 27,
     "metadata": {},
     "output_type": "execute_result"
    }
   ],
   "source": [
    "import statistics\n",
    "def sherlockAndStrings(s):\n",
    "    dictOfString = {}\n",
    "    modeList = []\n",
    "    for eachCharachter in s:\n",
    "        if eachCharachter not in dictOfString:\n",
    "            dictOfString[eachCharachter] = 1\n",
    "        else:\n",
    "            dictOfString[eachCharachter] += 1\n",
    "    for values in dictOfString.items():\n",
    "        modeList.append(values[1])\n",
    "    try:\n",
    "        modeValue = statistics.mode(modeList)\n",
    "    except:\n",
    "        returnValue = \"NO\"\n",
    "        #print(\"here\")\n",
    "        return returnValue\n",
    "    #print(modeValue)\n",
    "    returnValue = False\n",
    "    counter = 1\n",
    "    print(dictOfString)\n",
    "    for values in dictOfString.items():\n",
    "        if values[1] - modeValue == 1 and counter == 1:\n",
    "            counter -= 1\n",
    "            returnValue = True\n",
    "        elif values[1] - modeValue >= 1 and counter == 0:\n",
    "            returnValue = False\n",
    "        #elif:\n",
    "        else:\n",
    "            #print(\"here\")\n",
    "            returnValue = True\n",
    "            \n",
    "    return returnValue\n",
    "            \n",
    "sherlockAndStrings(\"aabbccddeefghi\")"
   ]
  },
  {
   "cell_type": "code",
   "execution_count": 4,
   "metadata": {},
   "outputs": [],
   "source": []
  },
  {
   "cell_type": "code",
   "execution_count": 5,
   "metadata": {},
   "outputs": [
    {
     "data": {
      "text/plain": [
       "1"
      ]
     },
     "execution_count": 5,
     "metadata": {},
     "output_type": "execute_result"
    }
   ],
   "source": [
    "statistics.mode([1,2,1,1,1])"
   ]
  },
  {
   "cell_type": "code",
   "execution_count": null,
   "metadata": {},
   "outputs": [],
   "source": []
  }
 ],
 "metadata": {
  "kernelspec": {
   "display_name": "Python 3",
   "language": "python",
   "name": "python3"
  },
  "language_info": {
   "codemirror_mode": {
    "name": "ipython",
    "version": 3
   },
   "file_extension": ".py",
   "mimetype": "text/x-python",
   "name": "python",
   "nbconvert_exporter": "python",
   "pygments_lexer": "ipython3",
   "version": "3.6.5"
  }
 },
 "nbformat": 4,
 "nbformat_minor": 2
}
