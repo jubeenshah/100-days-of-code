{
 "cells": [
  {
   "cell_type": "code",
   "execution_count": null,
   "metadata": {},
   "outputs": [],
   "source": [
    "class Solution:\n",
    "    tribonacciSequence = {}\n",
    "    def tribonacci(self, n: int) -> int:\n",
    "        ht = {}\n",
    "        for i in range(n+1):\n",
    "            if i == 0:\n",
    "                ht[i] = 0\n",
    "            elif i == 1 or i == 2:\n",
    "                ht[i] = 1\n",
    "            else:\n",
    "                ht[i] = ht[i-1] + ht[i-2] + ht[i-3]\n",
    "        return ht[n]"
   ]
  }
 ],
 "metadata": {
  "kernelspec": {
   "display_name": "Python 3",
   "language": "python",
   "name": "python3"
  },
  "language_info": {
   "codemirror_mode": {
    "name": "ipython",
    "version": 3
   },
   "file_extension": ".py",
   "mimetype": "text/x-python",
   "name": "python",
   "nbconvert_exporter": "python",
   "pygments_lexer": "ipython3",
   "version": "3.6.5"
  }
 },
 "nbformat": 4,
 "nbformat_minor": 2
}
