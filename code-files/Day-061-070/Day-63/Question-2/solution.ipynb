{
 "cells": [
  {
   "cell_type": "code",
   "execution_count": null,
   "metadata": {},
   "outputs": [],
   "source": [
    "class Solution:\n",
    "    def coinChange(self, coins: List[int], amount: int) -> int:\n",
    "        coins.sort(reverse = True)\n",
    "        lenc, self.res = len(coins), 2**31-1\n",
    "\n",
    "        def dfs(pt, rem, count):\n",
    "            if not rem:\n",
    "                self.res = min(self.res, count)\n",
    "            for i in range(pt, lenc):\n",
    "                if coins[i] <= rem < coins[i] * (self.res-count): # if hope still exists\n",
    "                    dfs(i, rem-coins[i], count+1)\n",
    "\n",
    "        for i in range(lenc):\n",
    "            dfs(i, amount, 0)\n",
    "        return self.res if self.res < 2**31-1 else -1"
   ]
  }
 ],
 "metadata": {
  "kernelspec": {
   "display_name": "Python 3",
   "language": "python",
   "name": "python3"
  },
  "language_info": {
   "codemirror_mode": {
    "name": "ipython",
    "version": 3
   },
   "file_extension": ".py",
   "mimetype": "text/x-python",
   "name": "python",
   "nbconvert_exporter": "python",
   "pygments_lexer": "ipython3",
   "version": "3.6.5"
  }
 },
 "nbformat": 4,
 "nbformat_minor": 2
}
