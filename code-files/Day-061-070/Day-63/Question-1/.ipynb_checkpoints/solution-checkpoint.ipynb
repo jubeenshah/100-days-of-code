{
 "cells": [
  {
   "cell_type": "code",
   "execution_count": 1,
   "metadata": {},
   "outputs": [
    {
     "data": {
      "text/plain": [
       "6"
      ]
     },
     "execution_count": 1,
     "metadata": {},
     "output_type": "execute_result"
    }
   ],
   "source": [
    "def howManyGames(p, d, m, s):\n",
    "    numberOfGames = 0\n",
    "    while s >= 0:\n",
    "        s = s - p\n",
    "        #if s > 0:\n",
    "        numberOfGames += 1\n",
    "        p = max(p - d, m)\n",
    "    return numberOfGames - 1\n",
    "\n",
    "howManyGames(20, 3, 6, 80)"
   ]
  },
  {
   "cell_type": "code",
   "execution_count": null,
   "metadata": {},
   "outputs": [],
   "source": []
  }
 ],
 "metadata": {
  "kernelspec": {
   "display_name": "Python 3",
   "language": "python",
   "name": "python3"
  },
  "language_info": {
   "codemirror_mode": {
    "name": "ipython",
    "version": 3
   },
   "file_extension": ".py",
   "mimetype": "text/x-python",
   "name": "python",
   "nbconvert_exporter": "python",
   "pygments_lexer": "ipython3",
   "version": "3.6.5"
  }
 },
 "nbformat": 4,
 "nbformat_minor": 2
}
