{
 "cells": [
  {
   "cell_type": "code",
   "execution_count": null,
   "metadata": {},
   "outputs": [],
   "source": [
    "for _ in range(int(input())):\n",
    "    s = input()\n",
    "    has_greater = False\n",
    "    for i in range(len(s)-1)[::-1]:\n",
    "        if ord(s[i]) < ord(s[i+1]):\n",
    "            for j in range(i+1,len(s))[::-1]:\n",
    "                if ord(s[i]) < ord(s[j]):\n",
    "                    lis = list(s)\n",
    "                    lis[i],lis[j]=lis[j],lis[i]\n",
    "                    print(\"\".join(lis[:i+1]+lis[i+1:][::-1]))\n",
    "                    has_greater = True\n",
    "                if has_greater == True:\n",
    "                    break\n",
    "        if has_greater == True:\n",
    "            break\n",
    "    if has_greater == False:\n",
    "        print(\"no answer\")"
   ]
  }
 ],
 "metadata": {
  "kernelspec": {
   "display_name": "Python 3",
   "language": "python",
   "name": "python3"
  },
  "language_info": {
   "codemirror_mode": {
    "name": "ipython",
    "version": 3
   },
   "file_extension": ".py",
   "mimetype": "text/x-python",
   "name": "python",
   "nbconvert_exporter": "python",
   "pygments_lexer": "ipython3",
   "version": "3.6.5"
  }
 },
 "nbformat": 4,
 "nbformat_minor": 2
}
