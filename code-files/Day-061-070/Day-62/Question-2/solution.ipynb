{
 "cells": [
  {
   "cell_type": "code",
   "execution_count": 7,
   "metadata": {},
   "outputs": [
    {
     "name": "stdout",
     "output_type": "stream",
     "text": [
      "[[0, 0, 0], [1, 0, 1], [0, 1, 1], [0, 1, 0]]\n"
     ]
    }
   ],
   "source": [
    "def gameOfLife(board):\n",
    "    m,n = len(board), len(board[0])\n",
    "    for i in range(m):\n",
    "        for j in range(n):\n",
    "            if board[i][j] == 0 or board[i][j] == 2:\n",
    "                if nnb(board,i,j) == 3:\n",
    "                    board[i][j] = 2\n",
    "            else:\n",
    "                if nnb(board,i,j) < 2 or nnb(board,i,j) >3:\n",
    "                    board[i][j] = 3\n",
    "    for i in range(m):\n",
    "        for j in range(n):\n",
    "            if board[i][j] == 2: board[i][j] = 1\n",
    "            if board[i][j] == 3: board[i][j] = 0\n",
    "            \n",
    "def nnb(board, i, j):\n",
    "    m,n = len(board), len(board[0])\n",
    "    count = 0\n",
    "    if i-1 >= 0 and j-1 >= 0:   count += board[i-1][j-1]%2\n",
    "    if i-1 >= 0:                count += board[i-1][j]%2\n",
    "    if i-1 >= 0 and j+1 < n:    count += board[i-1][j+1]%2\n",
    "    if j-1 >= 0:                count += board[i][j-1]%2\n",
    "    if j+1 < n:                 count += board[i][j+1]%2\n",
    "    if i+1 < m and j-1 >= 0:    count += board[i+1][j-1]%2\n",
    "    if i+1 < m:                 count += board[i+1][j]%2\n",
    "    if i+1 < m and j+1 < n:     count += board[i+1][j+1]%2\n",
    "    return count\n",
    "\n",
    "board = [[0,1,0],\n",
    "            [0,0,1],\n",
    "            [1,1,1],\n",
    "            [0,0,0]]\n",
    "gameOfLife(board)\n",
    "\n",
    "print(board)"
   ]
  },
  {
   "cell_type": "code",
   "execution_count": null,
   "metadata": {},
   "outputs": [],
   "source": []
  }
 ],
 "metadata": {
  "kernelspec": {
   "display_name": "Python 3",
   "language": "python",
   "name": "python3"
  },
  "language_info": {
   "codemirror_mode": {
    "name": "ipython",
    "version": 3
   },
   "file_extension": ".py",
   "mimetype": "text/x-python",
   "name": "python",
   "nbconvert_exporter": "python",
   "pygments_lexer": "ipython3",
   "version": "3.6.5"
  }
 },
 "nbformat": 4,
 "nbformat_minor": 2
}
