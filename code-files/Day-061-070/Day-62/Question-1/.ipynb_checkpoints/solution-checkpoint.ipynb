{
 "cells": [
  {
   "cell_type": "code",
   "execution_count": 21,
   "metadata": {},
   "outputs": [
    {
     "name": "stdout",
     "output_type": "stream",
     "text": [
      "1 9 45 55 99 297 703 999 2223 2728 4950 5050 7272 7777 9999 17344 22222 77778 82656 95121 99999 142857 148149 181819 187110 208495 318682 329967 351352 356643 390313 461539 466830 499500 500500 533170 538461 609687 643357 648648 670033 681318 791505 812890 818181 851851 857143 961038 994708 999999 4444444 4927941 5072059 5555556 9372385 9999999 "
     ]
    }
   ],
   "source": [
    "def kaprekarNumberlist(p,q):\n",
    "    if p <= 1:\n",
    "        returnList = [1]\n",
    "    else:\n",
    "        returnList = []\n",
    "    for num in range(p,q+1):\n",
    "        if isKaprekar(num):\n",
    "            returnList.append(num)\n",
    "        else:\n",
    "            continue\n",
    "    #return returnList\n",
    "    if returnList:\n",
    "        for each in returnList:\n",
    "            print(each, end=\" \")\n",
    "    else:\n",
    "        print(\"INVALID RANGE\")\n",
    "\n",
    "def isKaprekar(num):\n",
    "    square = str(num ** 2)\n",
    "    #print(square)\n",
    "    firstHalf = square[:len(square)//2]\n",
    "    secondHalf = square[len(square)//2:]\n",
    "    #print(firstHalf,secondHalf)\n",
    "    try:\n",
    "        if int(firstHalf) + int(secondHalf) == num:\n",
    "            return True\n",
    "        else:\n",
    "            return False\n",
    "    except:\n",
    "        return False\n",
    "\n",
    "#isKaprekar(45)\n",
    "kaprekarNumberlist(1, 9999999)"
   ]
  },
  {
   "cell_type": "code",
   "execution_count": null,
   "metadata": {},
   "outputs": [],
   "source": []
  }
 ],
 "metadata": {
  "kernelspec": {
   "display_name": "Python 3",
   "language": "python",
   "name": "python3"
  },
  "language_info": {
   "codemirror_mode": {
    "name": "ipython",
    "version": 3
   },
   "file_extension": ".py",
   "mimetype": "text/x-python",
   "name": "python",
   "nbconvert_exporter": "python",
   "pygments_lexer": "ipython3",
   "version": "3.6.5"
  }
 },
 "nbformat": 4,
 "nbformat_minor": 2
}
