{
 "cells": [
  {
   "cell_type": "code",
   "execution_count": 31,
   "metadata": {},
   "outputs": [
    {
     "name": "stdout",
     "output_type": "stream",
     "text": [
      "One Thousand Two Hundred Thirty\n"
     ]
    }
   ],
   "source": [
    "def intToString(n):\n",
    "    dictOfIntToString = { 0: \"Zero\",\n",
    "        1: \"One\",         2: \"Two\",             3: \"Three\",\n",
    "        4: \"Four\",        5: \"Five\",            6: \"Six\",\n",
    "        7: \"Seven\",       8: \"Eight\",           9: \"Nine\",\n",
    "        10: \"Ten\",       11: \"Eleven\",         12: \"Twelve\",\n",
    "        13: \"Thirteen\",  14: \"Fourteen\",       15: \"Fifteen\",\n",
    "        16: \"Sixteen\",   17: \"Seventeen\",      18: \"Eighteen\",\n",
    "        19: \"Nineteen\",  20: \"Twenty\",         30: \"Thirty\",\n",
    "        40: \"Fourty\",    50: \"Fifty\",          60: \"Sixty\",\n",
    "        70: \"Seventy\",   80: \"Eighty\",        90: \"Ninety\",\n",
    "        100: \"Hundred\",1000: \"Thousand\", 1000000: \"Million\",\n",
    "        1000000000: \"Billion\", 1000000000000: \"Billion\"\n",
    "    }\n",
    "    if n in dictOfIntToString:\n",
    "        return dictOfIntToString[n]\n",
    "    keys = [1000000000, 1000000, 1000, 100, 90, 80, 70,\n",
    "               60, 50, 40, 30, 20, 19, 18, 17, 16, 15, 14, 13, 12,\n",
    "               11, 10, 9, 8, 7, 6, 5, 4, 3, 2, 1, 0]\n",
    "\n",
    "    def dp(n):\n",
    "        if n <= 20: return dictOfIntToString[n]\n",
    "        for div in keys:\n",
    "            d, r = divmod(n, div)\n",
    "            if not d: continue\n",
    "            s1 = dp(d) + \" \" if div >= 100 else \"\"\n",
    "            s2 = \" \" + dp(r) if r else \"\"\n",
    "            return s1 + dictOfIntToString[div] + s2\n",
    "\n",
    "    return dp(n)\n",
    "x = intToString(1230)\n",
    "print(x)"
   ]
  },
  {
   "cell_type": "code",
   "execution_count": 16,
   "metadata": {},
   "outputs": [
    {
     "data": {
      "text/plain": [
       "100"
      ]
     },
     "execution_count": 16,
     "metadata": {},
     "output_type": "execute_result"
    }
   ],
   "source": [
    "#round((100 / 1000 - 100 //1000 )*1000)\n",
    "\n",
    "3000"
   ]
  },
  {
   "cell_type": "code",
   "execution_count": 13,
   "metadata": {},
   "outputs": [
    {
     "data": {
      "text/plain": [
       "6.0"
      ]
     },
     "execution_count": 13,
     "metadata": {},
     "output_type": "execute_result"
    }
   ],
   "source": [
    "120 / 20"
   ]
  },
  {
   "cell_type": "code",
   "execution_count": null,
   "metadata": {},
   "outputs": [],
   "source": []
  }
 ],
 "metadata": {
  "kernelspec": {
   "display_name": "Python 3",
   "language": "python",
   "name": "python3"
  },
  "language_info": {
   "codemirror_mode": {
    "name": "ipython",
    "version": 3
   },
   "file_extension": ".py",
   "mimetype": "text/x-python",
   "name": "python",
   "nbconvert_exporter": "python",
   "pygments_lexer": "ipython3",
   "version": "3.6.5"
  }
 },
 "nbformat": 4,
 "nbformat_minor": 2
}
