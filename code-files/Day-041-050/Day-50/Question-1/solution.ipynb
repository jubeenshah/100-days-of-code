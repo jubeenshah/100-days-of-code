{
 "cells": [
  {
   "cell_type": "code",
   "execution_count": 2,
   "metadata": {},
   "outputs": [
    {
     "data": {
      "text/plain": [
       "[2, 1, 0]"
      ]
     },
     "execution_count": 2,
     "metadata": {},
     "output_type": "execute_result"
    }
   ],
   "source": [
    "def matchingStrings(strings, queries):\n",
    "    dictOfResponses = {}\n",
    "    responseList = []\n",
    "    for eachString in strings:\n",
    "        if eachString not in dictOfResponses:\n",
    "            dictOfResponses[eachString] = 1\n",
    "        elif eachString in dictOfResponses:\n",
    "            dictOfResponses[eachString] += 1\n",
    "    for eachQuery in queries:\n",
    "        if eachQuery in dictOfResponses:\n",
    "            responseList.append(dictOfResponses[eachQuery])\n",
    "        else:\n",
    "            responseList.append(0)\n",
    "    return responseList\n",
    "            \n",
    "\n",
    "matchingStrings(['ab','ab','abc'],['ab','abc','bc'])"
   ]
  },
  {
   "cell_type": "code",
   "execution_count": null,
   "metadata": {},
   "outputs": [],
   "source": []
  }
 ],
 "metadata": {
  "kernelspec": {
   "display_name": "Python 3",
   "language": "python",
   "name": "python3"
  },
  "language_info": {
   "codemirror_mode": {
    "name": "ipython",
    "version": 3
   },
   "file_extension": ".py",
   "mimetype": "text/x-python",
   "name": "python",
   "nbconvert_exporter": "python",
   "pygments_lexer": "ipython3",
   "version": "3.6.5"
  }
 },
 "nbformat": 4,
 "nbformat_minor": 2
}
