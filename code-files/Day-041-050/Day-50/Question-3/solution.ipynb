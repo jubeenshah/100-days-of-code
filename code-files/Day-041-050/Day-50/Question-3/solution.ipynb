{
 "cells": [
  {
   "cell_type": "code",
   "execution_count": 3,
   "metadata": {},
   "outputs": [
    {
     "data": {
      "text/plain": [
       "['let1 art can',\n",
       " 'let3 art zero',\n",
       " 'let2 own kit dig',\n",
       " 'dig1 8 1 5 1',\n",
       " 'dig2 3 6']"
      ]
     },
     "execution_count": 3,
     "metadata": {},
     "output_type": "execute_result"
    }
   ],
   "source": [
    "def reorderLogFiles(logs: list) -> list:\n",
    "    return sorted(logs,key = sort)\n",
    "def sort(logs):\n",
    "        a,b = logs.split(' ', 1)\n",
    "        if b[0].isalpha():\n",
    "            return (0,b,a)\n",
    "        else:\n",
    "            return (1,None,None)\n",
    "reorderLogFiles(logs = [\"dig1 8 1 5 1\",\"let1 art can\",\"dig2 3 6\",\"let2 own kit dig\",\"let3 art zero\"])"
   ]
  },
  {
   "cell_type": "code",
   "execution_count": null,
   "metadata": {},
   "outputs": [],
   "source": []
  }
 ],
 "metadata": {
  "kernelspec": {
   "display_name": "Python 3",
   "language": "python",
   "name": "python3"
  },
  "language_info": {
   "codemirror_mode": {
    "name": "ipython",
    "version": 3
   },
   "file_extension": ".py",
   "mimetype": "text/x-python",
   "name": "python",
   "nbconvert_exporter": "python",
   "pygments_lexer": "ipython3",
   "version": "3.6.5"
  }
 },
 "nbformat": 4,
 "nbformat_minor": 2
}
