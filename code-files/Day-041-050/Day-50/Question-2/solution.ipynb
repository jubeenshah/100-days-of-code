{
 "cells": [
  {
   "cell_type": "code",
   "execution_count": 51,
   "metadata": {},
   "outputs": [
    {
     "name": "stdout",
     "output_type": "stream",
     "text": [
      "A 1\n",
      "B 1\n",
      "C 2\n",
      "D 2\n",
      "1 1 2 2 197170022\n",
      "D 3\n",
      "1 1 2 3 394340044\n",
      "C 3\n",
      "D 3\n",
      "1 1 3 3 591510066\n",
      "B 2\n",
      "C 3\n",
      "D 3\n",
      "1 2 3 3 788680088\n",
      "B 3\n",
      "A 2\n",
      "B 2\n",
      "C 3\n",
      "D 3\n",
      "2 2 3 3 1057955715\n",
      "B 3\n",
      "A 3\n",
      "B 3\n"
     ]
    },
    {
     "data": {
      "text/plain": [
       "57955708"
      ]
     },
     "execution_count": 51,
     "metadata": {},
     "output_type": "execute_result"
    }
   ],
   "source": [
    "def coolguy(arr):\n",
    "    ans = 0\n",
    "    n = len(arr)\n",
    "    for a in range(1,n+1):\n",
    "        print(\"A\",a)\n",
    "        for b in range(a,n+1):\n",
    "            print(\"B\",b)\n",
    "            for c in range(b+1,n+1):\n",
    "                print(\"C\",c)\n",
    "                for d in range(c,n+1):\n",
    "                    print(\"D\",d)\n",
    "                    ans = ans + min(functionF(arr,a,b), functionF(arr,c,d))\n",
    "                    print(a,b,c,d,ans)\n",
    "    return ans % (10**9 +7)\n",
    "def functionF(arr,a,b):\n",
    "    minimumValue = float('inf')\n",
    "    for i in range(a-1,b):\n",
    "        minimumValue = min(minimumValue,arr[i])\n",
    "    return minimumValue\n",
    "\n",
    "functionF([3,2,1],1,2)\n",
    "\n",
    "coolguy(arr)"
   ]
  },
  {
   "cell_type": "code",
   "execution_count": 50,
   "metadata": {},
   "outputs": [
    {
     "name": "stdout",
     "output_type": "stream",
     "text": [
      "197170022 269275627 967401954\n"
     ]
    }
   ],
   "source": [
    "arr = list(map(int, input().rstrip().split()))"
   ]
  },
  {
   "cell_type": "code",
   "execution_count": null,
   "metadata": {},
   "outputs": [],
   "source": []
  }
 ],
 "metadata": {
  "kernelspec": {
   "display_name": "Python 3",
   "language": "python",
   "name": "python3"
  },
  "language_info": {
   "codemirror_mode": {
    "name": "ipython",
    "version": 3
   },
   "file_extension": ".py",
   "mimetype": "text/x-python",
   "name": "python",
   "nbconvert_exporter": "python",
   "pygments_lexer": "ipython3",
   "version": "3.6.5"
  }
 },
 "nbformat": 4,
 "nbformat_minor": 2
}
