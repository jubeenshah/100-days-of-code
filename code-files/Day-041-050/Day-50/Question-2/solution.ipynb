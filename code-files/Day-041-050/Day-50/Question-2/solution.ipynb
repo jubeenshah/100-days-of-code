{
 "cells": [
  {
   "cell_type": "code",
   "execution_count": 59,
   "metadata": {},
   "outputs": [
    {
     "name": "stdout",
     "output_type": "stream",
     "text": [
      "A 1\n",
      "B 1\n",
      "C 2\n",
      "D 2\n",
      "1 1 2 2 2\n",
      "D 3\n",
      "1 1 2 3 3\n",
      "C 3\n",
      "D 3\n",
      "1 1 3 3 4\n",
      "B 2\n",
      "C 3\n",
      "D 3\n",
      "1 2 3 3 5\n",
      "B 3\n",
      "A 2\n",
      "B 2\n",
      "C 3\n",
      "D 3\n",
      "2 2 3 3 6\n",
      "B 3\n",
      "A 3\n",
      "B 3\n"
     ]
    },
    {
     "data": {
      "text/plain": [
       "6"
      ]
     },
     "execution_count": 59,
     "metadata": {},
     "output_type": "execute_result"
    }
   ],
   "source": [
    "def coolguy(arr):\n",
    "    ans = 0\n",
    "    n = len(arr)\n",
    "    for a in range(1,n+1):\n",
    "        print(\"A\",a)\n",
    "        for b in range(a,n+1):\n",
    "            print(\"B\",b)\n",
    "            for c in range(b+1,n+1):\n",
    "                print(\"C\",c)\n",
    "                for d in range(c,n+1):\n",
    "                    print(\"D\",d)\n",
    "                    ans = ans + min(functionF(arr,a,b), functionF(arr,c,d))\n",
    "                    print(a,b,c,d,ans)\n",
    "    return ans % (10**9 +7)\n",
    "def functionF(arr,a,b):\n",
    "    minimumValue = float('inf')\n",
    "    #for i in range(a-1,b):\n",
    "    #    minimumValue = min(minimumValue,arr[i])\n",
    "    minimumValue = min(arr[a-1:b])\n",
    "    return minimumValue\n",
    "\n",
    "functionF([3,2,1],1,2)\n",
    "\n",
    "coolguy([3,2,1])"
   ]
  },
  {
   "cell_type": "code",
   "execution_count": 53,
   "metadata": {},
   "outputs": [
    {
     "name": "stdout",
     "output_type": "stream",
     "text": [
      "954075328 676607319 813282762 109950973 110049985 419639600 339422224 745714108 295411036 784051960 601616922 22581172 210114057 923823525 395200059 107938283 80981016 336265486 584531139 \n"
     ]
    }
   ],
   "source": [
    "arr = list(map(int, input().rstrip().split()))"
   ]
  },
  {
   "cell_type": "code",
   "execution_count": 54,
   "metadata": {},
   "outputs": [
    {
     "data": {
      "text/plain": [
       "[954075328,\n",
       " 676607319,\n",
       " 813282762,\n",
       " 109950973,\n",
       " 110049985,\n",
       " 419639600,\n",
       " 339422224,\n",
       " 745714108,\n",
       " 295411036,\n",
       " 784051960,\n",
       " 601616922,\n",
       " 22581172,\n",
       " 210114057,\n",
       " 923823525,\n",
       " 395200059,\n",
       " 107938283,\n",
       " 80981016,\n",
       " 336265486,\n",
       " 584531139]"
      ]
     },
     "execution_count": 54,
     "metadata": {},
     "output_type": "execute_result"
    }
   ],
   "source": [
    "arr"
   ]
  },
  {
   "cell_type": "code",
   "execution_count": 55,
   "metadata": {},
   "outputs": [
    {
     "data": {
      "text/plain": [
       "22581172"
      ]
     },
     "execution_count": 55,
     "metadata": {},
     "output_type": "execute_result"
    }
   ],
   "source": [
    "min(arr)"
   ]
  },
  {
   "cell_type": "code",
   "execution_count": 56,
   "metadata": {},
   "outputs": [
    {
     "data": {
      "text/plain": [
       "109950973"
      ]
     },
     "execution_count": 56,
     "metadata": {},
     "output_type": "execute_result"
    }
   ],
   "source": [
    "min(arr[1:5])"
   ]
  },
  {
   "cell_type": "code",
   "execution_count": null,
   "metadata": {},
   "outputs": [],
   "source": []
  }
 ],
 "metadata": {
  "kernelspec": {
   "display_name": "Python 3",
   "language": "python",
   "name": "python3"
  },
  "language_info": {
   "codemirror_mode": {
    "name": "ipython",
    "version": 3
   },
   "file_extension": ".py",
   "mimetype": "text/x-python",
   "name": "python",
   "nbconvert_exporter": "python",
   "pygments_lexer": "ipython3",
   "version": "3.6.5"
  }
 },
 "nbformat": 4,
 "nbformat_minor": 2
}
