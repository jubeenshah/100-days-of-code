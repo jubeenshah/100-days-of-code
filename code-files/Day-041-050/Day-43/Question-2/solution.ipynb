{
 "cells": [
  {
   "cell_type": "code",
   "execution_count": 15,
   "metadata": {},
   "outputs": [
    {
     "name": "stdout",
     "output_type": "stream",
     "text": [
      "[9, 6, 10, 8]\n",
      "[6, 8, 9, 10]\n",
      "6\n",
      "8\n",
      "9\n",
      "10\n"
     ]
    },
    {
     "data": {
      "text/plain": [
       "False"
      ]
     },
     "execution_count": 15,
     "metadata": {},
     "output_type": "execute_result"
    }
   ],
   "source": [
    "from collections import defaultdict\n",
    "import random\n",
    "def containsDuplicate(nums)->bool:\n",
    "    dictOfNums = defaultdict(int)\n",
    "    nums.sort()\n",
    "\n",
    "    for eachNum in nums:\n",
    "        print(eachNum)\n",
    "        if dictOfNums[eachNum] == 0:\n",
    "            dictOfNums[eachNum] += 1\n",
    "        else:\n",
    "            return True\n",
    "    return False\n",
    "    \n",
    "testList = [random.randint(1,10) for _ in range(1,5)]\n",
    "print(testList)\n",
    "containsDuplicate(testList)\n",
    "    "
   ]
  },
  {
   "cell_type": "code",
   "execution_count": 31,
   "metadata": {},
   "outputs": [
    {
     "name": "stdout",
     "output_type": "stream",
     "text": [
      "[18, 53, 66, 18, 59, 41, 96, 13, 81]\n"
     ]
    },
    {
     "data": {
      "text/plain": [
       "False"
      ]
     },
     "execution_count": 31,
     "metadata": {},
     "output_type": "execute_result"
    }
   ],
   "source": [
    "from collections import Counter\n",
    "import random\n",
    "def containsDuplicate(nums)->bool:\n",
    "    if not nums:\n",
    "        return False\n",
    "    dictOfNums = sorted(dict(Counter(nums)).items(), key=lambda lv: lv[1],reverse=True)\n",
    "    if (dictOfNums[0][1]) > 1:\n",
    "        return True\n",
    "    else:\n",
    "        return False\n",
    "testList = [random.randint(1,100) for _ in range(1,10)]\n",
    "print(testList)\n",
    "containsDuplicate([])\n",
    "    "
   ]
  },
  {
   "cell_type": "code",
   "execution_count": null,
   "metadata": {},
   "outputs": [],
   "source": []
  }
 ],
 "metadata": {
  "kernelspec": {
   "display_name": "Python 3",
   "language": "python",
   "name": "python3"
  },
  "language_info": {
   "codemirror_mode": {
    "name": "ipython",
    "version": 3
   },
   "file_extension": ".py",
   "mimetype": "text/x-python",
   "name": "python",
   "nbconvert_exporter": "python",
   "pygments_lexer": "ipython3",
   "version": "3.6.5"
  }
 },
 "nbformat": 4,
 "nbformat_minor": 2
}
