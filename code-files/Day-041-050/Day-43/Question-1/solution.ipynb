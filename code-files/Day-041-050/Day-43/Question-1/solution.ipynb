{
 "cells": [
  {
   "cell_type": "code",
   "execution_count": 27,
   "metadata": {},
   "outputs": [
    {
     "name": "stdout",
     "output_type": "stream",
     "text": [
      "2\n",
      "1 0\n",
      "Error Code: integer division or modulo by zero\n",
      "2 #\n",
      "Error Code: invalid literal for int() with base 10: '#'\n"
     ]
    }
   ],
   "source": [
    "def tryExcept(a,b):\n",
    "    try:        \n",
    "        print(int(a)//int(b))\n",
    "    except ZeroDivisionError as err:\n",
    "        print(\"Error Code:\",err)\n",
    "    except ValueError as err:\n",
    "        print(\"Error Code:\",err)\n",
    "timesToRepeat = int(input())\n",
    "for _ in range(timesToRepeat):\n",
    "    a,b = input().split(\" \")\n",
    "    tryExcept(a,b)\n"
   ]
  },
  {
   "cell_type": "code",
   "execution_count": null,
   "metadata": {},
   "outputs": [],
   "source": []
  }
 ],
 "metadata": {
  "kernelspec": {
   "display_name": "Python 3",
   "language": "python",
   "name": "python3"
  },
  "language_info": {
   "codemirror_mode": {
    "name": "ipython",
    "version": 3
   },
   "file_extension": ".py",
   "mimetype": "text/x-python",
   "name": "python",
   "nbconvert_exporter": "python",
   "pygments_lexer": "ipython3",
   "version": "3.6.5"
  }
 },
 "nbformat": 4,
 "nbformat_minor": 2
}
