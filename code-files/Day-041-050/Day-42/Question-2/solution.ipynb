{
 "cells": [
  {
   "cell_type": "code",
   "execution_count": 36,
   "metadata": {},
   "outputs": [
    {
     "data": {
      "text/plain": [
       "5"
      ]
     },
     "execution_count": 36,
     "metadata": {},
     "output_type": "execute_result"
    }
   ],
   "source": [
    "import collections\n",
    "def majorityElement(nums) -> int:\n",
    "    default = collections.defaultdict(int)\n",
    "    for eachElement in nums:\n",
    "        default[eachElement] += 1\n",
    "    #default = dict(default)\n",
    "    #print(default)\n",
    "    default = sorted(default.items(), key= lambda lv: lv[1])\n",
    "    #print(default)\n",
    "    return (default[-1][0])\n",
    "\n",
    "majorityElement([3,3,4,1,1,1,1,1,1,2,2,3,2,2,2,2,2,2,5,2,2,5,5,5,5,5,5,5,5,5,5])"
   ]
  },
  {
   "cell_type": "code",
   "execution_count": null,
   "metadata": {},
   "outputs": [],
   "source": []
  }
 ],
 "metadata": {
  "kernelspec": {
   "display_name": "Python 3",
   "language": "python",
   "name": "python3"
  },
  "language_info": {
   "codemirror_mode": {
    "name": "ipython",
    "version": 3
   },
   "file_extension": ".py",
   "mimetype": "text/x-python",
   "name": "python",
   "nbconvert_exporter": "python",
   "pygments_lexer": "ipython3",
   "version": "3.6.5"
  }
 },
 "nbformat": 4,
 "nbformat_minor": 2
}
