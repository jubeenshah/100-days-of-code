{
 "cells": [
  {
   "cell_type": "code",
   "execution_count": 54,
   "metadata": {},
   "outputs": [
    {
     "name": "stdout",
     "output_type": "stream",
     "text": [
      "7 []\n",
      "49 [7]\n",
      "97 [7, 49]\n",
      "130 [7, 49, 97]\n",
      "10 [7, 49, 97, 130]\n",
      "1 [7, 49, 97, 130, 10]\n",
      "[7, 49, 97, 130, 10, 1]\n"
     ]
    },
    {
     "data": {
      "text/plain": [
       "True"
      ]
     },
     "execution_count": 54,
     "metadata": {},
     "output_type": "execute_result"
    }
   ],
   "source": [
    "\n",
    "def isHappyNumber(n):\n",
    "    intToStrValue = str(n)\n",
    "    alreadyVisited = []\n",
    "    result = 0\n",
    "    while result != 1:\n",
    "        result = 0\n",
    "        for each in intToStrValue:\n",
    "            #print(each)\n",
    "            result += int(each)**2\n",
    "        print(result,alreadyVisited)\n",
    "        if result not in alreadyVisited:\n",
    "            alreadyVisited.append(result)\n",
    "        else:\n",
    "            return False\n",
    "        intToStrValue = str(result)\n",
    "    print(alreadyVisited)\n",
    "    return True\n",
    "\n",
    "isHappyNumber(1111111)"
   ]
  },
  {
   "cell_type": "code",
   "execution_count": 57,
   "metadata": {},
   "outputs": [
    {
     "data": {
      "text/plain": [
       "177"
      ]
     },
     "execution_count": 57,
     "metadata": {},
     "output_type": "execute_result"
    }
   ],
   "source": [
    "115+62"
   ]
  },
  {
   "cell_type": "code",
   "execution_count": null,
   "metadata": {},
   "outputs": [],
   "source": []
  }
 ],
 "metadata": {
  "kernelspec": {
   "display_name": "Python 3",
   "language": "python",
   "name": "python3"
  },
  "language_info": {
   "codemirror_mode": {
    "name": "ipython",
    "version": 3
   },
   "file_extension": ".py",
   "mimetype": "text/x-python",
   "name": "python",
   "nbconvert_exporter": "python",
   "pygments_lexer": "ipython3",
   "version": "3.6.5"
  }
 },
 "nbformat": 4,
 "nbformat_minor": 2
}
