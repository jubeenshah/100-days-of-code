{
 "cells": [
  {
   "cell_type": "code",
   "execution_count": 54,
   "metadata": {},
   "outputs": [
    {
     "name": "stdout",
     "output_type": "stream",
     "text": [
      "7\n",
      "3\n"
     ]
    },
    {
     "data": {
      "text/plain": [
       "[7, 3]"
      ]
     },
     "execution_count": 54,
     "metadata": {},
     "output_type": "execute_result"
    }
   ],
   "source": [
    "def dynamicArray(n, queries):\n",
    "    lastAnswer = 0\n",
    "    seq = [[]]*n\n",
    "    #print(seq)\n",
    "    returnList = []\n",
    "    for eachQuery in queries:\n",
    "        #print(eachQuery)\n",
    "        \n",
    "        seqIndex = 0\n",
    "        if eachQuery[0] == 1:\n",
    "            seqIndex = (eachQuery[1]^lastAnswer)%n\n",
    "            if len(seq[seqIndex]) == 0:\n",
    "                seq[seqIndex] = [eachQuery[2]]\n",
    "            else:\n",
    "                seq[seqIndex].append(eachQuery[2])\n",
    "            #print(seq[seqIndex])\n",
    "        elif eachQuery[0] == 2:\n",
    "            seqIndex = (eachQuery[1]^lastAnswer)%n\n",
    "            lastAnswer = seq[seqIndex][eachQuery[2]%len(seq[seqIndex])]\n",
    "            print(lastAnswer)\n",
    "            returnList.append(lastAnswer)\n",
    "        #print(seq)\n",
    "        #print()\n",
    "    #print(seq)\n",
    "    #return lastAnswer\n",
    "    return returnList\n",
    "    \n",
    "\n",
    "dynamicArray(2,[[1,0,5],[1,1,7],[1,0,3],[2,1,0],[2,1,1]])"
   ]
  },
  {
   "cell_type": "code",
   "execution_count": 5,
   "metadata": {},
   "outputs": [
    {
     "data": {
      "text/plain": [
       "1"
      ]
     },
     "execution_count": 5,
     "metadata": {},
     "output_type": "execute_result"
    }
   ],
   "source": [
    "1^0"
   ]
  },
  {
   "cell_type": "code",
   "execution_count": 28,
   "metadata": {},
   "outputs": [],
   "source": []
  },
  {
   "cell_type": "code",
   "execution_count": 29,
   "metadata": {},
   "outputs": [
    {
     "data": {
      "text/plain": [
       "[[], [], [], [], []]"
      ]
     },
     "execution_count": 29,
     "metadata": {},
     "output_type": "execute_result"
    }
   ],
   "source": [
    "seq"
   ]
  },
  {
   "cell_type": "code",
   "execution_count": 38,
   "metadata": {},
   "outputs": [
    {
     "data": {
      "text/plain": [
       "[[1, 1], [], [], [], []]"
      ]
     },
     "execution_count": 38,
     "metadata": {},
     "output_type": "execute_result"
    }
   ],
   "source": [
    "seq = [[]]*5\n",
    "seq[0] = [1]\n",
    "seq[0].append(1)\n",
    "seq"
   ]
  },
  {
   "cell_type": "code",
   "execution_count": null,
   "metadata": {},
   "outputs": [],
   "source": []
  }
 ],
 "metadata": {
  "kernelspec": {
   "display_name": "Python 3",
   "language": "python",
   "name": "python3"
  },
  "language_info": {
   "codemirror_mode": {
    "name": "ipython",
    "version": 3
   },
   "file_extension": ".py",
   "mimetype": "text/x-python",
   "name": "python",
   "nbconvert_exporter": "python",
   "pygments_lexer": "ipython3",
   "version": "3.6.5"
  }
 },
 "nbformat": 4,
 "nbformat_minor": 2
}
