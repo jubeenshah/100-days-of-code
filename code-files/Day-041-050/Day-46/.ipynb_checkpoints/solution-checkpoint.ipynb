{
 "cells": [
  {
   "cell_type": "code",
   "execution_count": 56,
   "metadata": {},
   "outputs": [
    {
     "name": "stdout",
     "output_type": "stream",
     "text": [
      "['ifmanwas', 'meanttos', 'tayonthe', 'groundgo', 'dwouldha', 'vegivenu', 'sroots']\n",
      "imtgdvsfearwermayoogoanouuiontnnlvtwttddesaohghn\n"
     ]
    }
   ],
   "source": [
    "import math\n",
    "def encryption(s)->str:\n",
    "    s = ''.join(s.strip(\" \").split(\" \"))\n",
    "    lengthOfS = math.sqrt(len(s))\n",
    "    numRows = math.floor(lengthOfS)\n",
    "    numCols = math.ceil(lengthOfS)\n",
    "    #print(s,lengthOfS,numRows,numCols)\n",
    "    start = 0\n",
    "    end = numCols\n",
    "    encryptList = []\n",
    "    for i in range(numRows):\n",
    "        encryptList.append(s[start:end])\n",
    "        start = end\n",
    "        end = end + numCols\n",
    "    print(encryptList)\n",
    "    returnString = \"\"\n",
    "    counter = 0\n",
    "    i = 0\n",
    "    while counter < len(encryptList):\n",
    "        if i == len(encryptList):\n",
    "            #print(\"in\")\n",
    "            i = 0\n",
    "            counter += 1\n",
    "        #print(encryptList[i][counter])\n",
    "        #print(i,len(encryptList))\n",
    "        try:\n",
    "            returnString+= encryptList[i][counter]\n",
    "        except:\n",
    "            break\n",
    "        #print(\"lolu\")\n",
    "        i+=1\n",
    "\n",
    "    print(returnString)\n",
    "        \n",
    "            \n",
    "\n",
    "encryption(\"if man was meant to stay on the ground god would have given us roots\")"
   ]
  },
  {
   "cell_type": "code",
   "execution_count": 5,
   "metadata": {},
   "outputs": [],
   "source": []
  },
  {
   "cell_type": "code",
   "execution_count": null,
   "metadata": {},
   "outputs": [],
   "source": []
  }
 ],
 "metadata": {
  "kernelspec": {
   "display_name": "Python 3",
   "language": "python",
   "name": "python3"
  },
  "language_info": {
   "codemirror_mode": {
    "name": "ipython",
    "version": 3
   },
   "file_extension": ".py",
   "mimetype": "text/x-python",
   "name": "python",
   "nbconvert_exporter": "python",
   "pygments_lexer": "ipython3",
   "version": "3.6.5"
  }
 },
 "nbformat": 4,
 "nbformat_minor": 2
}
