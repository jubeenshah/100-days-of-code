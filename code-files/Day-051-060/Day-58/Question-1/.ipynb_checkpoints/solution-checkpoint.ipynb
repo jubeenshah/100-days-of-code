{
 "cells": [
  {
   "cell_type": "code",
   "execution_count": 40,
   "metadata": {},
   "outputs": [
    {
     "data": {
      "text/plain": [
       "'accaccacc'"
      ]
     },
     "execution_count": 40,
     "metadata": {},
     "output_type": "execute_result"
    }
   ],
   "source": [
    "import re\n",
    "def decodeString(s):\n",
    "    stack = []\n",
    "        \n",
    "    for x in s:\n",
    "        if x != ']':\n",
    "            stack.append(x)\n",
    "        else:\n",
    "            t = []\n",
    "            while stack and stack[-1] != '[':\n",
    "                t.append(stack.pop())\n",
    "            stack.pop()\n",
    "            l = ''\n",
    "            while stack and stack[-1].isdigit():\n",
    "                l = l+stack.pop()\n",
    "            l = int(l[::-1])\n",
    "            stack.append((''.join(t[::-1]))*int(l))\n",
    "\n",
    "    return ''.join(stack)\n",
    "            \n",
    "    \n",
    "\n",
    "decodeString(\"3[a2[c]]\")"
   ]
  },
  {
   "cell_type": "code",
   "execution_count": null,
   "metadata": {},
   "outputs": [],
   "source": []
  }
 ],
 "metadata": {
  "kernelspec": {
   "display_name": "Python 3",
   "language": "python",
   "name": "python3"
  },
  "language_info": {
   "codemirror_mode": {
    "name": "ipython",
    "version": 3
   },
   "file_extension": ".py",
   "mimetype": "text/x-python",
   "name": "python",
   "nbconvert_exporter": "python",
   "pygments_lexer": "ipython3",
   "version": "3.6.5"
  }
 },
 "nbformat": 4,
 "nbformat_minor": 2
}
