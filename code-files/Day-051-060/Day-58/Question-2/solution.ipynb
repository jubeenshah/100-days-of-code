{
 "cells": [
  {
   "cell_type": "code",
   "execution_count": 23,
   "metadata": {},
   "outputs": [
    {
     "data": {
      "text/plain": [
       "'ball'"
      ]
     },
     "execution_count": 23,
     "metadata": {},
     "output_type": "execute_result"
    }
   ],
   "source": [
    "import collections\n",
    "import re\n",
    "\n",
    "def mostCommonWord(paragraph, banned):\n",
    "    paragraph = paragraph.lower()\n",
    "    paragraph = re.sub(r'[^\\w\\s]',' ',paragraph)\n",
    "    maxCounter = dict(collections.Counter(paragraph.split(\" \")))\n",
    "    maxCounter = sorted(maxCounter.items(), key= lambda lv : lv[1],reverse=True)\n",
    "    for eachItem in maxCounter:\n",
    "        if eachItem[0] in banned or eachItem[0]==\"\":\n",
    "            continue\n",
    "        else:\n",
    "            return eachItem[0]\n",
    "    \n",
    "\n",
    "mostCommonWord(\"Bob. hIt, baLl\", [\"bob\", \"hit\"])"
   ]
  },
  {
   "cell_type": "code",
   "execution_count": 4,
   "metadata": {},
   "outputs": [],
   "source": [
    "test = \"test\""
   ]
  },
  {
   "cell_type": "code",
   "execution_count": null,
   "metadata": {},
   "outputs": [],
   "source": [
    "test.l"
   ]
  }
 ],
 "metadata": {
  "kernelspec": {
   "display_name": "Python 3",
   "language": "python",
   "name": "python3"
  },
  "language_info": {
   "codemirror_mode": {
    "name": "ipython",
    "version": 3
   },
   "file_extension": ".py",
   "mimetype": "text/x-python",
   "name": "python",
   "nbconvert_exporter": "python",
   "pygments_lexer": "ipython3",
   "version": "3.6.5"
  }
 },
 "nbformat": 4,
 "nbformat_minor": 2
}
