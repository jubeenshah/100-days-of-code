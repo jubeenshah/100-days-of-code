{
 "cells": [
  {
   "cell_type": "code",
   "execution_count": 1,
   "metadata": {},
   "outputs": [],
   "source": [
    "from collections import OrderedDict"
   ]
  },
  {
   "cell_type": "code",
   "execution_count": 6,
   "metadata": {},
   "outputs": [
    {
     "name": "stdout",
     "output_type": "stream",
     "text": [
      "{'a': 1, 'c': 3, 'b': 2, 'd': 4, 'e': 5}\n"
     ]
    }
   ],
   "source": [
    "ordinary_dict = {}\n",
    "ordinary_dict['a'] = 1\n",
    "ordinary_dict['c'] = 3\n",
    "ordinary_dict['b'] = 2\n",
    "ordinary_dict['d'] = 4\n",
    "ordinary_dict['e'] = 5\n",
    "print(ordinary_dict)"
   ]
  },
  {
   "cell_type": "code",
   "execution_count": 7,
   "metadata": {},
   "outputs": [
    {
     "name": "stdout",
     "output_type": "stream",
     "text": [
      "OrderedDict([('a', 1), ('c', 3), ('b', 2), ('d', 4), ('e', 5)])\n"
     ]
    }
   ],
   "source": [
    "ordered_dict = OrderedDict()\n",
    "ordered_dict['a'] = 1\n",
    "ordered_dict['c'] = 3\n",
    "ordered_dict['b'] = 2\n",
    "ordered_dict['d'] = 4\n",
    "ordered_dict['e'] = 5\n",
    "print(ordered_dict)"
   ]
  },
  {
   "cell_type": "code",
   "execution_count": 25,
   "metadata": {},
   "outputs": [
    {
     "name": "stdout",
     "output_type": "stream",
     "text": [
      "9\n",
      "OrderedDict() TEST\n",
      "BANANA FRIES 12\n",
      "12 BANANA FRIES OrderedDict()\n",
      "POTATO CHIPS 30\n",
      "30 POTATO CHIPS OrderedDict([('BANANA FRIES', 12)])\n",
      "APPLE JUICE 10\n",
      "10 APPLE JUICE OrderedDict([('BANANA FRIES', 12), ('POTATO CHIPS', 30)])\n",
      "CANDY 5\n",
      "5 CANDY OrderedDict([('BANANA FRIES', 12), ('POTATO CHIPS', 30), ('APPLE JUICE', 10)])\n",
      "APPLE JUICE 10\n",
      "10 APPLE JUICE OrderedDict([('BANANA FRIES', 12), ('POTATO CHIPS', 30), ('APPLE JUICE', 10), ('CANDY', 5)])\n",
      "CANDY 5\n",
      "5 CANDY OrderedDict([('BANANA FRIES', 12), ('POTATO CHIPS', 30), ('APPLE JUICE', 20), ('CANDY', 5)])\n",
      "CANDY 5\n",
      "5 CANDY OrderedDict([('BANANA FRIES', 12), ('POTATO CHIPS', 30), ('APPLE JUICE', 20), ('CANDY', 10)])\n",
      "CANDY 5\n",
      "5 CANDY OrderedDict([('BANANA FRIES', 12), ('POTATO CHIPS', 30), ('APPLE JUICE', 20), ('CANDY', 15)])\n",
      "POTATO CHIPS 30\n",
      "30 POTATO CHIPS OrderedDict([('BANANA FRIES', 12), ('POTATO CHIPS', 30), ('APPLE JUICE', 20), ('CANDY', 20)])\n",
      "OrderedDict([('BANANA FRIES', 12), ('POTATO CHIPS', 60), ('APPLE JUICE', 20), ('CANDY', 20)])\n"
     ]
    }
   ],
   "source": [
    "numberOfItems = int(input())\n",
    "test_ordered_dict = OrderedDict()\n",
    "print(test_ordered_dict, \"TEST\")\n",
    "for _ in range(numberOfItems):\n",
    "    itemList = input().split(\" \")\n",
    "    cost = int(itemList[-1])\n",
    "    itemName = ' '.join(itemList[0:len(itemList)-1])\n",
    "    #print(cost, itemName,test_ordered_dict)\n",
    "    if itemName not in test_ordered_dict:\n",
    "        test_ordered_dict[itemName] = int(cost)\n",
    "    else:\n",
    "        test_ordered_dict[itemName] += int(cost)\n",
    "for items in test_ordered_dict.items():\n",
    "    print(items[0],items[1])"
   ]
  },
  {
   "cell_type": "code",
   "execution_count": 32,
   "metadata": {},
   "outputs": [
    {
     "name": "stdout",
     "output_type": "stream",
     "text": [
      "BANANA FRIES 12\n",
      "POTATO CHIPS 60\n",
      "APPLE JUICE 20\n",
      "CANDY 20\n"
     ]
    }
   ],
   "source": []
  },
  {
   "cell_type": "code",
   "execution_count": 15,
   "metadata": {},
   "outputs": [
    {
     "name": "stdout",
     "output_type": "stream",
     "text": [
      "['BANANA'] 12\n"
     ]
    }
   ],
   "source": []
  },
  {
   "cell_type": "code",
   "execution_count": null,
   "metadata": {},
   "outputs": [],
   "source": []
  }
 ],
 "metadata": {
  "kernelspec": {
   "display_name": "Python 3",
   "language": "python",
   "name": "python3"
  },
  "language_info": {
   "codemirror_mode": {
    "name": "ipython",
    "version": 3
   },
   "file_extension": ".py",
   "mimetype": "text/x-python",
   "name": "python",
   "nbconvert_exporter": "python",
   "pygments_lexer": "ipython3",
   "version": "3.6.5"
  }
 },
 "nbformat": 4,
 "nbformat_minor": 2
}
