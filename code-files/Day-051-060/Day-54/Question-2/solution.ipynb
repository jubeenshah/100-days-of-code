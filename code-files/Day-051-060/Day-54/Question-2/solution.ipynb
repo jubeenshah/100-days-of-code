{
 "cells": [
  {
   "cell_type": "code",
   "execution_count": 6,
   "metadata": {},
   "outputs": [
    {
     "name": "stdout",
     "output_type": "stream",
     "text": [
      "3\n",
      "2 1 1\n"
     ]
    }
   ],
   "source": [
    "from collections import OrderedDict\n",
    "def wordorder(wordlist):\n",
    "    returnOrderedDict = OrderedDict()\n",
    "    returnList = []\n",
    "    for word in wordlist:\n",
    "        if word not in returnOrderedDict:\n",
    "            returnOrderedDict[word] = 1\n",
    "        else:\n",
    "            returnOrderedDict[word] += 1\n",
    "    for items in returnOrderedDict.items():\n",
    "        returnList.append(str(items[1]))\n",
    "    return returnList\n",
    "\n",
    "#wordlist = ['bcdef', 'abcdefg', 'bcde','bcdef']\n",
    "numWords = int(input())\n",
    "wordlist = []\n",
    "for _ in range(numWords):\n",
    "    wordInput = input()\n",
    "    wordlist.append(wordInput)\n",
    "\n",
    "printReturnList = wordorder(wordlist)\n",
    "print(len(printReturnList))\n",
    "print(' '.join(printReturnList))"
   ]
  },
  {
   "cell_type": "code",
   "execution_count": null,
   "metadata": {},
   "outputs": [],
   "source": []
  }
 ],
 "metadata": {
  "kernelspec": {
   "display_name": "Python 3",
   "language": "python",
   "name": "python3"
  },
  "language_info": {
   "codemirror_mode": {
    "name": "ipython",
    "version": 3
   },
   "file_extension": ".py",
   "mimetype": "text/x-python",
   "name": "python",
   "nbconvert_exporter": "python",
   "pygments_lexer": "ipython3",
   "version": "3.6.5"
  }
 },
 "nbformat": 4,
 "nbformat_minor": 2
}
