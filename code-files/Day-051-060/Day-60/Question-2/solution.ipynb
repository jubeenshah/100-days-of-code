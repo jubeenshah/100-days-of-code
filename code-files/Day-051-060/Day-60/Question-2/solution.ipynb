{
 "cells": [
  {
   "cell_type": "code",
   "execution_count": 10,
   "metadata": {},
   "outputs": [
    {
     "name": "stdout",
     "output_type": "stream",
     "text": [
      "10\n",
      "1 42\n",
      "2\n",
      "1 14\n",
      "3\n",
      "14\n",
      "1 28\n",
      "3\n",
      "14\n",
      "1 60\n",
      "1 78\n",
      "2\n",
      "2\n"
     ]
    }
   ],
   "source": [
    "def queuesUsingStack(query, nums):\n",
    "    if query[0] == 1:\n",
    "        nums.append(query[1])\n",
    "        #print(nums)\n",
    "    elif query[0] == 2:\n",
    "        nums = nums[1:]\n",
    "        #print(nums)\n",
    "    else:\n",
    "        print(nums[0])\n",
    "    return nums\n",
    "\n",
    "numberOfQueries = int(input())\n",
    "nums = []\n",
    "for _ in range(numberOfQueries):\n",
    "    query = list(map(int,input().split(\" \")))\n",
    "    nums = queuesUsingStack(query,nums)"
   ]
  },
  {
   "cell_type": "code",
   "execution_count": 5,
   "metadata": {},
   "outputs": [
    {
     "name": "stdout",
     "output_type": "stream",
     "text": [
      "[1, 2, 3, 4, 5]\n",
      "[2, 3, 4, 5]\n"
     ]
    }
   ],
   "source": [
    "test = [1,2,3,4,5]\n",
    "print(test)\n",
    "test = test[1:]\n",
    "print(test)"
   ]
  },
  {
   "cell_type": "code",
   "execution_count": null,
   "metadata": {},
   "outputs": [],
   "source": []
  }
 ],
 "metadata": {
  "kernelspec": {
   "display_name": "Python 3",
   "language": "python",
   "name": "python3"
  },
  "language_info": {
   "codemirror_mode": {
    "name": "ipython",
    "version": 3
   },
   "file_extension": ".py",
   "mimetype": "text/x-python",
   "name": "python",
   "nbconvert_exporter": "python",
   "pygments_lexer": "ipython3",
   "version": "3.6.5"
  }
 },
 "nbformat": 4,
 "nbformat_minor": 2
}
