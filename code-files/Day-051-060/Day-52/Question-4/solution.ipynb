{
 "cells": [
  {
   "cell_type": "code",
   "execution_count": 5,
   "metadata": {},
   "outputs": [
    {
     "data": {
      "text/plain": [
       "True"
      ]
     },
     "execution_count": 5,
     "metadata": {},
     "output_type": "execute_result"
    }
   ],
   "source": [
    "def alienLanguage(words,order):\n",
    "    dict = {}\n",
    "    for i, o in enumerate(order):\n",
    "        dict[o] = i\n",
    "\n",
    "    for i in range(1,len(words)):\n",
    "        #flag = 1 here means inner loop is break out due to pre less than cur\n",
    "        #flag = 0 here means inner loop done iteration but two strings length are not equal\n",
    "        pre, cur, flag = words[i-1], words[i], 0\n",
    "        for j in range(min(len(pre),len(cur))):\n",
    "            if dict[pre[j]] < dict[cur[j]]:\n",
    "                flag = 1\n",
    "                break\n",
    "            elif dict[pre[j]] > dict[cur[j]]:\n",
    "                return False\n",
    "        if not flag and len(pre) > len(cur): \n",
    "            return False\n",
    "    return True\n",
    "alienLanguage(words = [\"hello\",\"leetcode\"], order = \"hlabcdefgijkmnopqrstuvwxyz\")"
   ]
  },
  {
   "cell_type": "code",
   "execution_count": null,
   "metadata": {},
   "outputs": [],
   "source": []
  }
 ],
 "metadata": {
  "kernelspec": {
   "display_name": "Python 3",
   "language": "python",
   "name": "python3"
  },
  "language_info": {
   "codemirror_mode": {
    "name": "ipython",
    "version": 3
   },
   "file_extension": ".py",
   "mimetype": "text/x-python",
   "name": "python",
   "nbconvert_exporter": "python",
   "pygments_lexer": "ipython3",
   "version": "3.6.5"
  }
 },
 "nbformat": 4,
 "nbformat_minor": 2
}
