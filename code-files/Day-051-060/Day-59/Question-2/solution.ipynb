{
 "cells": [
  {
   "cell_type": "code",
   "execution_count": 8,
   "metadata": {},
   "outputs": [
    {
     "data": {
      "text/plain": [
       "6"
      ]
     },
     "execution_count": 8,
     "metadata": {},
     "output_type": "execute_result"
    }
   ],
   "source": [
    "def trappingRainWater(height):\n",
    "    ans = 0\n",
    "    l,r = 0 , len(height) -1\n",
    "    l_max, r_max = 0,0\n",
    "    while l < r:\n",
    "        if height[l] < height[r]:\n",
    "            if height[l] >= l_max:\n",
    "                l_max = height[l]\n",
    "            else:\n",
    "                ans += l_max - height[l]\n",
    "            l += 1\n",
    "        else:\n",
    "            if height[r] >= r_max:\n",
    "                r_max = height[r]\n",
    "            else:\n",
    "                ans += r_max - height[r]\n",
    "            r -= 1\n",
    "    return ans\n",
    "\n",
    "trappingRainWater([0,1,0,2,1,0,1,3,2,1,2,1])"
   ]
  },
  {
   "cell_type": "code",
   "execution_count": null,
   "metadata": {},
   "outputs": [],
   "source": []
  }
 ],
 "metadata": {
  "kernelspec": {
   "display_name": "Python 3",
   "language": "python",
   "name": "python3"
  },
  "language_info": {
   "codemirror_mode": {
    "name": "ipython",
    "version": 3
   },
   "file_extension": ".py",
   "mimetype": "text/x-python",
   "name": "python",
   "nbconvert_exporter": "python",
   "pygments_lexer": "ipython3",
   "version": "3.6.5"
  }
 },
 "nbformat": 4,
 "nbformat_minor": 2
}
