{
 "cells": [
  {
   "cell_type": "code",
   "execution_count": 11,
   "metadata": {},
   "outputs": [
    {
     "name": "stdout",
     "output_type": "stream",
     "text": [
      "2 1 5 3 4\n"
     ]
    }
   ],
   "source": [
    "q = list(map(int, input().rstrip().split()))"
   ]
  },
  {
   "cell_type": "code",
   "execution_count": 12,
   "metadata": {},
   "outputs": [
    {
     "name": "stdout",
     "output_type": "stream",
     "text": [
      "[1, 0, 4, 2, 3]\n",
      "0 1\n",
      "1 0\n",
      "2 4\n",
      "3 2\n",
      "4 3\n",
      "3\n"
     ]
    }
   ],
   "source": [
    "\n",
    "def countBribes(Q):\n",
    "    numberOfBribes = 0\n",
    "    Q = [val-1 for val in Q]\n",
    "    print(Q)\n",
    "    for currentIndex, val in enumerate(Q):\n",
    "        print(currentIndex,val)\n",
    "        if val - currentIndex > 2:\n",
    "            print(\"Too chaotic\",val)\n",
    "            return\n",
    "        for j in range(max(val-1,0),currentIndex):\n",
    "            if Q[j] > val:\n",
    "                numberOfBribes += 1\n",
    "    print(numberOfBribes)\n",
    "countBribes(q)"
   ]
  },
  {
   "cell_type": "code",
   "execution_count": 2,
   "metadata": {},
   "outputs": [
    {
     "data": {
      "text/plain": [
       "[2, 1, 5, 3, 4]"
      ]
     },
     "execution_count": 2,
     "metadata": {},
     "output_type": "execute_result"
    }
   ],
   "source": [
    "q"
   ]
  },
  {
   "cell_type": "code",
   "execution_count": null,
   "metadata": {},
   "outputs": [],
   "source": []
  }
 ],
 "metadata": {
  "kernelspec": {
   "display_name": "Python 3",
   "language": "python",
   "name": "python3"
  },
  "language_info": {
   "codemirror_mode": {
    "name": "ipython",
    "version": 3
   },
   "file_extension": ".py",
   "mimetype": "text/x-python",
   "name": "python",
   "nbconvert_exporter": "python",
   "pygments_lexer": "ipython3",
   "version": "3.6.5"
  }
 },
 "nbformat": 4,
 "nbformat_minor": 2
}
