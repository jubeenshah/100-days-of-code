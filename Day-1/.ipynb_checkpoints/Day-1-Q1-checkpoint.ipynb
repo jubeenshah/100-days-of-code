{
 "cells": [
  {
   "cell_type": "code",
   "execution_count": 11,
   "metadata": {},
   "outputs": [
    {
     "name": "stdout",
     "output_type": "stream",
     "text": [
      "[]\n",
      "[10]\n",
      "[10, 20]\n",
      "[10]\n",
      "[]\n",
      "[10]\n",
      "[10, 30]\n",
      "[10, 30, 50]\n",
      "[30, 50]\n",
      "3\n"
     ]
    }
   ],
   "source": [
    "ar = [10, 20, 20, 10, 10, 30, 50, 10, 20]\n",
    "globalArr = []\n",
    "numPairs = 0\n",
    "for i in ar:\n",
    "    print(globalArr)\n",
    "    if i in globalArr:\n",
    "        numPairs += 1\n",
    "        globalArr.remove(i)\n",
    "    else:\n",
    "        globalArr.append(i)\n",
    "print(numPairs)"
   ]
  },
  {
   "cell_type": "code",
   "execution_count": null,
   "metadata": {},
   "outputs": [],
   "source": []
  }
 ],
 "metadata": {
  "kernelspec": {
   "display_name": "Python 3",
   "language": "python",
   "name": "python3"
  },
  "language_info": {
   "codemirror_mode": {
    "name": "ipython",
    "version": 3
   },
   "file_extension": ".py",
   "mimetype": "text/x-python",
   "name": "python",
   "nbconvert_exporter": "python",
   "pygments_lexer": "ipython3",
   "version": "3.6.5"
  }
 },
 "nbformat": 4,
 "nbformat_minor": 2
}
