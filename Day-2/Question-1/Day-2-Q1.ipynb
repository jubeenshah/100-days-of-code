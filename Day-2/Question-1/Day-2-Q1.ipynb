{
 "cells": [
  {
   "cell_type": "code",
   "execution_count": 1,
   "metadata": {},
   "outputs": [],
   "source": [
    "arr = [ [-9, -9, -9,  1, 1, 1], \n",
    "        [ 0, -9,  0,  4, 3, 2],\n",
    "        [-9, -9, -9,  1, 2, 3],\n",
    "        [ 0,  0,  8,  6, 6, 0],\n",
    "        [ 0,  0,  0, -2, 0, 0],\n",
    "        [ 0,  0,  1,  2, 4, 0],]"
   ]
  },
  {
   "cell_type": "code",
   "execution_count": 2,
   "metadata": {},
   "outputs": [
    {
     "data": {
      "text/plain": [
       "(6, 6)"
      ]
     },
     "execution_count": 2,
     "metadata": {},
     "output_type": "execute_result"
    }
   ],
   "source": [
    "height = len(arr)\n",
    "width  = len(arr[0])\n",
    "height,width"
   ]
  },
  {
   "cell_type": "code",
   "execution_count": 3,
   "metadata": {},
   "outputs": [],
   "source": [
    "def getSum(matrix, row, col):\n",
    "    currentSum = 0\n",
    "    currentSum += matrix[row-1][col-1] #up-left\n",
    "    currentSum += matrix[row-1][col-0] #up\n",
    "    currentSum += matrix[row-1][col+1] #up-right\n",
    "    currentSum += matrix[row+1][col-1] #down-left\n",
    "    currentSum += matrix[row+1][col-0] #down\n",
    "    currentSum += matrix[row+1][col+1] #down-right\n",
    "    currentSum += matrix[row+0][col+0] #current\n",
    "    return currentSum\n",
    "    "
   ]
  },
  {
   "cell_type": "code",
   "execution_count": 4,
   "metadata": {},
   "outputs": [
    {
     "name": "stdout",
     "output_type": "stream",
     "text": [
      "28\n"
     ]
    }
   ],
   "source": [
    "maxSum = float(\"-inf\")\n",
    "for i in range(1,width-1):\n",
    "    for j in range(1,width-1):\n",
    "        currentSum = getSum(arr, i, j)\n",
    "        if currentSum > maxSum:\n",
    "            maxSum = currentSum\n",
    "print(maxSum)"
   ]
  },
  {
   "cell_type": "code",
   "execution_count": null,
   "metadata": {},
   "outputs": [],
   "source": []
  }
 ],
 "metadata": {
  "kernelspec": {
   "display_name": "Python 3",
   "language": "python",
   "name": "python3"
  },
  "language_info": {
   "codemirror_mode": {
    "name": "ipython",
    "version": 3
   },
   "file_extension": ".py",
   "mimetype": "text/x-python",
   "name": "python",
   "nbconvert_exporter": "python",
   "pygments_lexer": "ipython3",
   "version": "3.6.5"
  }
 },
 "nbformat": 4,
 "nbformat_minor": 2
}
