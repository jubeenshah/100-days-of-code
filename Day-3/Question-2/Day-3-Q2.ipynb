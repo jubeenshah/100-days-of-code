{
 "cells": [
  {
   "cell_type": "code",
   "execution_count": 18,
   "metadata": {},
   "outputs": [
    {
     "name": "stdout",
     "output_type": "stream",
     "text": [
      "4 3 1 2\n"
     ]
    },
    {
     "data": {
      "text/plain": [
       "[4, 3, 1, 2]"
      ]
     },
     "execution_count": 18,
     "metadata": {},
     "output_type": "execute_result"
    }
   ],
   "source": [
    "arr = list(map(int, input().rstrip().split()))\n",
    "arr"
   ]
  },
  {
   "cell_type": "code",
   "execution_count": 26,
   "metadata": {},
   "outputs": [
    {
     "name": "stdout",
     "output_type": "stream",
     "text": [
      "[4, 3, 1, 2] Original\n",
      "[3, 2, 0, 1] -1\n",
      "{3: 0, 2: 1, 0: 2, 1: 3}\n",
      "\n",
      "[3, 2, 0, 1] array\n",
      "{3: 0, 2: 1, 0: 2, 1: 3} array_dict\n",
      "\n",
      "[0, 2, 3, 1] array\n",
      "{3: 2, 2: 1, 0: 0, 1: 3} array_dict\n",
      "\n",
      "[0, 1, 3, 2] array\n",
      "{3: 2, 2: 3, 0: 0, 1: 1} array_dict\n",
      "\n",
      "\n",
      "3\n"
     ]
    }
   ],
   "source": [
    "def minimumSwaps(arr):\n",
    "    print(arr, \"Original\")\n",
    "    arr = [val - 1 for val in arr]\n",
    "    print(arr, \"-1\")\n",
    "    arr_dict = {x:i for i,x in enumerate(arr)}\n",
    "    print(arr_dict)\n",
    "    result = 0\n",
    "    print()\n",
    "    for index, value in enumerate(arr):\n",
    "        if index != value:\n",
    "            print(arr,\"array\")\n",
    "            print(arr_dict,\"array_dict\")\n",
    "            toSwapIndex = arr_dict[index]\n",
    "            arr[index], arr[toSwapIndex] = index, value\n",
    "            arr_dict[index] = index\n",
    "            arr_dict[value] = toSwapIndex\n",
    "            result += 1\n",
    "        print()\n",
    "        \n",
    "    print(result)\n",
    "minimumSwaps(arr)"
   ]
  },
  {
   "cell_type": "code",
   "execution_count": null,
   "metadata": {},
   "outputs": [],
   "source": []
  }
 ],
 "metadata": {
  "kernelspec": {
   "display_name": "Python 3",
   "language": "python",
   "name": "python3"
  },
  "language_info": {
   "codemirror_mode": {
    "name": "ipython",
    "version": 3
   },
   "file_extension": ".py",
   "mimetype": "text/x-python",
   "name": "python",
   "nbconvert_exporter": "python",
   "pygments_lexer": "ipython3",
   "version": "3.6.5"
  }
 },
 "nbformat": 4,
 "nbformat_minor": 2
}
